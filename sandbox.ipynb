{
 "cells": [
  {
   "cell_type": "code",
   "execution_count": null,
   "metadata": {},
   "outputs": [],
   "source": [
    "from skimage import io\n",
    "import numpy as np\n",
    "from matplotlib import pyplot as plt\n",
    "from PIL import Image"
   ]
  },
  {
   "cell_type": "markdown",
   "metadata": {},
   "source": [
    "BASIC IMAGE MANIPULATION"
   ]
  },
  {
   "cell_type": "code",
   "execution_count": null,
   "metadata": {},
   "outputs": [],
   "source": [
    "# Open an image in python\n",
    "image = io.imread('quadrat_photos_raw/20240530_164149.jpg')\n",
    "print(image)\n"
   ]
  },
  {
   "cell_type": "code",
   "execution_count": null,
   "metadata": {},
   "outputs": [],
   "source": [
    "# Make a lightened version of that image by multiplying its RGB values\n",
    "darkened_image = image * .5\n",
    "plt.imshow(darkened_image)"
   ]
  },
  {
   "cell_type": "code",
   "execution_count": null,
   "metadata": {},
   "outputs": [],
   "source": [
    "# Make an overlay on top of the image.\n",
    "# Make a red image.\n",
    "image[10:500, 10:500, :] = [255, 0, 0] # parameters of [] are x, y, z pixel ranges\n",
    "plt.imshow(image)"
   ]
  },
  {
   "cell_type": "code",
   "execution_count": null,
   "metadata": {},
   "outputs": [],
   "source": [
    "# Make a random image that's 500 by 500 pixels. All pixels will be randomized. \n",
    "random_pic = np.random.random([500, 500])\n",
    "\n",
    "# Display that image using matplotlib\n",
    "plt.imshow(random_pic)"
   ]
  },
  {
   "cell_type": "markdown",
   "metadata": {},
   "source": [
    "how to pillow library "
   ]
  },
  {
   "cell_type": "code",
   "execution_count": null,
   "metadata": {},
   "outputs": [],
   "source": [
    "img = Image.open('quadrat_photos_raw/20240531_103859.jpg')\n",
    "\n",
    "# Print image type\n",
    "print(type(img)) # Note that it's not a numpy array. It needs to be converted if you want to do numpy stuff.\n",
    "\n",
    "# img.show() # Open the image in a separate window.\n",
    "print(img.format) # print the format of the image (JPEG)\n",
    "\n",
    "img1 = np.asarray(img) # Convert a pillow image to a numpy array\n",
    "print(type(img1)) # Show datatype of new image, which is a numpy array"
   ]
  },
  {
   "cell_type": "markdown",
   "metadata": {},
   "source": [
    "Matplotlib & Pyplot image opening"
   ]
  },
  {
   "cell_type": "markdown",
   "metadata": {},
   "source": []
  },
  {
   "cell_type": "code",
   "execution_count": null,
   "metadata": {},
   "outputs": [],
   "source": [
    "import matplotlib.image as mpimg\n",
    "import matplotlib.pyplot as plt"
   ]
  },
  {
   "cell_type": "code",
   "execution_count": null,
   "metadata": {},
   "outputs": [],
   "source": [
    "# Import an image as a numpy array\n",
    "img = mpimg.imread('quadrat_photos_raw/20240531_103859.jpg')\n",
    "print(type(img))\n",
    "plt.imshow(img) # remember to use imshow for numpy arrays"
   ]
  },
  {
   "cell_type": "markdown",
   "metadata": {},
   "source": [
    "Scikit image library"
   ]
  },
  {
   "cell_type": "code",
   "execution_count": null,
   "metadata": {},
   "outputs": [],
   "source": [
    "from skimage import io # For reading in images\n",
    "from skimage import io, img_as_float, img_as_ubyte\n",
    "\n",
    "# Import image as a numpy array\n",
    "img = io.imread('quadrat_photos_raw/20240531_103859.jpg') # Import image as a numpy array\n",
    "print(type(img))\n",
    "plt.imshow(img)\n",
    "\n",
    "# Import image as a float. It converts pixel values into a number from 0-1.\n",
    "img_float = img_as_float(img)\n",
    "# img_float = io.imread('quadrat_photos/20240531_103859.jpg').astype(np.float) # alternate method\n",
    "print(img_float)"
   ]
  },
  {
   "cell_type": "markdown",
   "metadata": {},
   "source": [
    "Open CV"
   ]
  },
  {
   "cell_type": "code",
   "execution_count": null,
   "metadata": {},
   "outputs": [],
   "source": [
    "\n",
    "import cv2 # import command for open cv\n"
   ]
  },
  {
   "cell_type": "code",
   "execution_count": null,
   "metadata": {},
   "outputs": [],
   "source": [
    "img = cv2.imread('quadrat_photos_raw/20240531_103859.jpg', 1) # read in image (1 means in color, 0 means in monochrome)\n",
    "plt.imshow(img) # show image. Notice how the colors are off. cv2's default is not RGB. It's BGR.\n",
    "\n",
    "# Try using open cv methods of showing images.\n",
    "gray_img = cv2.imread('quadrat_photos_raw/20240531_103859.jpg', 0)\n",
    "color_img = cv2.imread('quadrat_photos_raw/20240531_103859.jpg', 1)\n",
    "\n",
    "# Import it but convert the images from BGR to RGB\n",
    "plt.imshow(cv2.cvtColor(color_img, cv2.COLOR_BGR2RGB))\n",
    "\n",
    "cv2.imshow('Gray Image', gray_img)\n",
    "cv2.imshow('Color Image', color_img)\n",
    "\n",
    "cv2.waitKey(0) # Keep the output window until you kill it (unless you put in 0 - that makes you able to close it manually)\n",
    "cv2.destroyAllWindows() # Destroys all the windows that show up "
   ]
  },
  {
   "cell_type": "markdown",
   "metadata": {},
   "source": [
    "Reading all images"
   ]
  },
  {
   "cell_type": "code",
   "execution_count": null,
   "metadata": {},
   "outputs": [],
   "source": [
    "import cv2\n",
    "import glob"
   ]
  },
  {
   "cell_type": "markdown",
   "metadata": {},
   "source": [
    "The * in the path designates which files the for loop will search through. Rad! Be warned, it will show every image in succession."
   ]
  },
  {
   "cell_type": "code",
   "execution_count": null,
   "metadata": {},
   "outputs": [],
   "source": [
    "path = 'quadrat_photos_raw/*.jpg'\n",
    "\n",
    "# Loop through every file in the quadrat_photos folder and do operations on every one.\n",
    "for file in glob.glob(path):\n",
    "    print(file)\n",
    "    a = cv2.imread(file)\n",
    "    print(a)\n",
    "\n",
    "    # Convert to RGB\n",
    "    c = cv2.cvtColor(a, cv2.COLOR_BGR2RGB)\n",
    "\n",
    "    # Show image\n",
    "    cv2.imshow('Color Image', c)\n",
    "\n",
    "    # Clean up windows\n",
    "    cv2.waitKey(0)\n",
    "    cv2.destroyAllWindows()\n"
   ]
  },
  {
   "cell_type": "markdown",
   "metadata": {},
   "source": [
    "IMAGE PROCESSING WITH PILLOW"
   ]
  },
  {
   "cell_type": "code",
   "execution_count": 1,
   "metadata": {},
   "outputs": [],
   "source": [
    "from PIL import Image"
   ]
  },
  {
   "cell_type": "code",
   "execution_count": 5,
   "metadata": {},
   "outputs": [
    {
     "name": "stdout",
     "output_type": "stream",
     "text": [
      "(2040, 1148)\n"
     ]
    },
    {
     "ename": "TypeError",
     "evalue": "Image.resize() missing 1 required positional argument: 'size'",
     "output_type": "error",
     "traceback": [
      "\u001b[1;31m---------------------------------------------------------------------------\u001b[0m",
      "\u001b[1;31mTypeError\u001b[0m                                 Traceback (most recent call last)",
      "Cell \u001b[1;32mIn[5], line 7\u001b[0m\n\u001b[0;32m      4\u001b[0m \u001b[38;5;28mprint\u001b[39m(img\u001b[38;5;241m.\u001b[39msize) \u001b[38;5;66;03m# Print the size - (width, height)\u001b[39;00m\n\u001b[0;32m      6\u001b[0m \u001b[38;5;66;03m# Resize the image.\u001b[39;00m\n\u001b[1;32m----> 7\u001b[0m small_imp \u001b[38;5;241m=\u001b[39m \u001b[43mimg\u001b[49m\u001b[38;5;241;43m.\u001b[39;49m\u001b[43mresize\u001b[49m\u001b[43m(\u001b[49m\u001b[43m)\u001b[49m\n",
      "\u001b[1;31mTypeError\u001b[0m: Image.resize() missing 1 required positional argument: 'size'"
     ]
    }
   ],
   "source": [
    "# Open the image. It is not a numpy array.\n",
    "img = Image.open('quadrat_photos_raw/436552676_1025526125801177_8782775392322481521_n.jpg')\n",
    "\n",
    "print(img.size) # Print the size - (width, height)\n",
    "\n",
    "# Resize the image.\n",
    "small_imp = img.resize((200, 300)) # make a copy that's smaller\n",
    "# Save the image\n",
    "\n"
   ]
  }
 ],
 "metadata": {
  "kernelspec": {
   "display_name": "Python 3",
   "language": "python",
   "name": "python3"
  },
  "language_info": {
   "codemirror_mode": {
    "name": "ipython",
    "version": 3
   },
   "file_extension": ".py",
   "mimetype": "text/x-python",
   "name": "python",
   "nbconvert_exporter": "python",
   "pygments_lexer": "ipython3",
   "version": "3.11.5"
  }
 },
 "nbformat": 4,
 "nbformat_minor": 2
}
