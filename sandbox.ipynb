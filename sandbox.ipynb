{
 "cells": [
  {
   "cell_type": "code",
   "execution_count": null,
   "metadata": {},
   "outputs": [],
   "source": [
    "from skimage import io\n",
    "import numpy as np\n",
    "from matplotlib import pyplot as plt\n",
    "from PIL import Image"
   ]
  },
  {
   "cell_type": "markdown",
   "metadata": {},
   "source": [
    "BASIC IMAGE MANIPULATION"
   ]
  },
  {
   "cell_type": "code",
   "execution_count": null,
   "metadata": {},
   "outputs": [],
   "source": [
    "# Open an image in python\n",
    "image = io.imread('quadrat_photos_raw/20240530_164149.jpg')\n",
    "print(image)\n"
   ]
  },
  {
   "cell_type": "code",
   "execution_count": null,
   "metadata": {},
   "outputs": [],
   "source": [
    "# Make a lightened version of that image by multiplying its RGB values\n",
    "darkened_image = image * .5\n",
    "plt.imshow(darkened_image)"
   ]
  },
  {
   "cell_type": "code",
   "execution_count": null,
   "metadata": {},
   "outputs": [],
   "source": [
    "# Make an overlay on top of the image.\n",
    "# Make a red image.\n",
    "image[10:500, 10:500, :] = [255, 0, 0] # parameters of [] are x, y, z pixel ranges\n",
    "plt.imshow(image)"
   ]
  },
  {
   "cell_type": "code",
   "execution_count": null,
   "metadata": {},
   "outputs": [],
   "source": [
    "# Make a random image that's 500 by 500 pixels. All pixels will be randomized. \n",
    "random_pic = np.random.random([500, 500])\n",
    "\n",
    "# Display that image using matplotlib\n",
    "plt.imshow(random_pic)"
   ]
  },
  {
   "cell_type": "markdown",
   "metadata": {},
   "source": [
    "how to pillow library "
   ]
  },
  {
   "cell_type": "code",
   "execution_count": null,
   "metadata": {},
   "outputs": [],
   "source": [
    "img = Image.open('quadrat_photos_raw/20240531_103859.jpg')\n",
    "\n",
    "# Print image type\n",
    "print(type(img)) # Note that it's not a numpy array. It needs to be converted if you want to do numpy stuff.\n",
    "\n",
    "# img.show() # Open the image in a separate window.\n",
    "print(img.format) # print the format of the image (JPEG)\n",
    "\n",
    "img1 = np.asarray(img) # Convert a pillow image to a numpy array\n",
    "print(type(img1)) # Show datatype of new image, which is a numpy array"
   ]
  },
  {
   "cell_type": "markdown",
   "metadata": {},
   "source": [
    "Matplotlib & Pyplot image opening"
   ]
  },
  {
   "cell_type": "markdown",
   "metadata": {},
   "source": []
  },
  {
   "cell_type": "code",
   "execution_count": null,
   "metadata": {},
   "outputs": [],
   "source": [
    "import matplotlib.image as mpimg\n",
    "import matplotlib.pyplot as plt"
   ]
  },
  {
   "cell_type": "code",
   "execution_count": null,
   "metadata": {},
   "outputs": [],
   "source": [
    "# Import an image as a numpy array\n",
    "img = mpimg.imread('quadrat_photos_raw/20240531_103859.jpg')\n",
    "print(type(img))\n",
    "plt.imshow(img) # remember to use imshow for numpy arrays"
   ]
  },
  {
   "cell_type": "markdown",
   "metadata": {},
   "source": [
    "Scikit image library"
   ]
  },
  {
   "cell_type": "code",
   "execution_count": null,
   "metadata": {},
   "outputs": [],
   "source": [
    "from skimage import io # For reading in images\n",
    "from skimage import io, img_as_float, img_as_ubyte\n",
    "\n",
    "# Import image as a numpy array\n",
    "img = io.imread('quadrat_photos_raw/20240531_103859.jpg') # Import image as a numpy array\n",
    "print(type(img))\n",
    "plt.imshow(img)\n",
    "\n",
    "# Import image as a float. It converts pixel values into a number from 0-1.\n",
    "img_float = img_as_float(img)\n",
    "# img_float = io.imread('quadrat_photos/20240531_103859.jpg').astype(np.float) # alternate method\n",
    "print(img_float)"
   ]
  },
  {
   "cell_type": "markdown",
   "metadata": {},
   "source": [
    "Open CV"
   ]
  },
  {
   "cell_type": "code",
   "execution_count": null,
   "metadata": {},
   "outputs": [],
   "source": [
    "\n",
    "import cv2 # import command for open cv\n"
   ]
  },
  {
   "cell_type": "code",
   "execution_count": null,
   "metadata": {},
   "outputs": [],
   "source": [
    "img = cv2.imread('quadrat_photos_raw/20240531_103859.jpg', 1) # read in image (1 means in color, 0 means in monochrome)\n",
    "plt.imshow(img) # show image. Notice how the colors are off. cv2's default is not RGB. It's BGR.\n",
    "\n",
    "# Try using open cv methods of showing images.\n",
    "gray_img = cv2.imread('quadrat_photos_raw/20240531_103859.jpg', 0)\n",
    "color_img = cv2.imread('quadrat_photos_raw/20240531_103859.jpg', 1)\n",
    "\n",
    "# Import it but convert the images from BGR to RGB\n",
    "plt.imshow(cv2.cvtColor(color_img, cv2.COLOR_BGR2RGB))\n",
    "\n",
    "cv2.imshow('Gray Image', gray_img)\n",
    "cv2.imshow('Color Image', color_img)\n",
    "\n",
    "cv2.waitKey(0) # Keep the output window until you kill it (unless you put in 0 - that makes you able to close it manually)\n",
    "cv2.destroyAllWindows() # Destroys all the windows that show up "
   ]
  },
  {
   "cell_type": "markdown",
   "metadata": {},
   "source": [
    "Reading all images"
   ]
  },
  {
   "cell_type": "code",
   "execution_count": null,
   "metadata": {},
   "outputs": [],
   "source": [
    "import cv2\n",
    "import glob"
   ]
  },
  {
   "cell_type": "markdown",
   "metadata": {},
   "source": [
    "The * in the path designates which files the for loop will search through. Rad! Be warned, it will show every image in succession."
   ]
  },
  {
   "cell_type": "code",
   "execution_count": null,
   "metadata": {},
   "outputs": [],
   "source": [
    "path = 'quadrat_photos_raw/*.jpg'\n",
    "\n",
    "# Loop through every file in the quadrat_photos folder and do operations on every one.\n",
    "for file in glob.glob(path):\n",
    "    print(file)\n",
    "    a = cv2.imread(file)\n",
    "    print(a)\n",
    "\n",
    "    # Convert to RGB\n",
    "    c = cv2.cvtColor(a, cv2.COLOR_BGR2RGB)\n",
    "\n",
    "    # Show image\n",
    "    cv2.imshow('Color Image', c)\n",
    "\n",
    "    # Clean up windows\n",
    "    cv2.waitKey(0)\n",
    "    cv2.destroyAllWindows()\n"
   ]
  },
  {
   "cell_type": "markdown",
   "metadata": {},
   "source": [
    "IMAGE PROCESSING WITH PILLOW"
   ]
  },
  {
   "cell_type": "code",
   "execution_count": null,
   "metadata": {},
   "outputs": [],
   "source": [
    "from PIL import Image"
   ]
  },
  {
   "cell_type": "markdown",
   "metadata": {},
   "source": [
    "Resizing"
   ]
  },
  {
   "cell_type": "code",
   "execution_count": null,
   "metadata": {},
   "outputs": [],
   "source": [
    "# Open the image. It is not a numpy array.\n",
    "img = Image.open('quadrat_photos_raw/436552676_1025526125801177_8782775392322481521_n.jpg')\n",
    "\n",
    "print(img.size) # Print the size - (width, height)\n",
    "\n",
    "# Resize the image. It does an unexciting squish. Doesn't keep the aspect ratio. Bad thing\n",
    "# small_img = img.resize((200, 300)) # make a copy that's smaller\n",
    "# small_img.save('quadrat_photos_edited/test_small_image.jpg') # Save the image\n",
    "\n",
    "small_img = img\n",
    "\n",
    "# Resize but keep the aspect ratio. Better method.\n",
    "small_img.thumbnail((510, 287))\n",
    "small_img.save('quadrat_photos_edited/test_small_image_aspect_ratio.jpg') # Save the image\n",
    "\n",
    "# You can't resize an image to be bigger than it is.\n"
   ]
  },
  {
   "cell_type": "markdown",
   "metadata": {},
   "source": [
    "Cropping"
   ]
  },
  {
   "cell_type": "code",
   "execution_count": null,
   "metadata": {},
   "outputs": [],
   "source": [
    "cropped_img = img.crop((0, 0, 300, 300)) # crop image to a square\n",
    "cropped_img.save('quadrat_photos_edited/test_cropped_image.jpg')\n",
    "\n",
    "# Put a cropped version of one image on top of another (no workie. But doesn't rlly matter)\n",
    "img1 = Image.open('quadrat_photos_raw/441870424_993834382360394_2048396322547840220_n.jpg')\n",
    "img2 = Image.open('quadrat_photos_raw/441575503_1505677643398773_3256282308229328881_n.jpg')\n",
    "\n",
    "# Crop one image to make it smaller\n",
    "img2 = img2.crop((10, 10, 20, 20))\n",
    "\n",
    "# Copy image into another variable\n",
    "img1_copy = img1.copy()\n",
    "# Paste image 2 onto img1 @ the location 50, 50\n",
    "img1_copy.paste(img2, (50, 50)) \n",
    "img1_copy.save('quadrat_photos_edited/test_bad_photoshop.jpg')"
   ]
  },
  {
   "cell_type": "markdown",
   "metadata": {},
   "source": [
    "Rotation"
   ]
  },
  {
   "cell_type": "code",
   "execution_count": null,
   "metadata": {},
   "outputs": [],
   "source": [
    "img90_deg_rotated = img.rotate(90, expand = True) \n",
    "img90_deg_rotated.save('quadrat_photos_edited/rotated_90.jpg')\n",
    "\n",
    "# expand = True means it expands the bounds of the image to accomodate the rotation\n"
   ]
  },
  {
   "cell_type": "markdown",
   "metadata": {},
   "source": [
    "IMAGE PROCESSING WITH SCIPY"
   ]
  },
  {
   "cell_type": "code",
   "execution_count": null,
   "metadata": {},
   "outputs": [],
   "source": [
    "from skimage import io, img_as_ubyte\n",
    "import numpy as np\n",
    "from matplotlib import pyplot as plt"
   ]
  },
  {
   "cell_type": "markdown",
   "metadata": {},
   "source": [
    "Scipy: load image, flip image, use color maps  \n",
    "Documentation for all the available color maps: https://matplotlib.org/stable/gallery/color/colormap_reference.html"
   ]
  },
  {
   "cell_type": "code",
   "execution_count": null,
   "metadata": {},
   "outputs": [],
   "source": [
    "# Load in image as gray, then convert it back to ubyte\n",
    "img = img_as_ubyte(io.imread('quadrat_photos_raw/441959955_1200760134272433_6935347568072997467_n.jpg', as_gray=True))\n",
    "\n",
    "# Print image size and datatype.\n",
    "print(img.shape, img.dtype) # (1148, 2040, 3), unsigned integer int\n",
    "# print(img)\n",
    "\n",
    "print(img[0,0]) # Prints RGB values of the pixel at [0,0]\n",
    "\n",
    "# Flip images\n",
    "flipped_lr = np.fliplr(img) # left to right\n",
    "flipped_ud = np.flipud(img) # up to down\n",
    "\n",
    "# Plot multiple images\n",
    "plt.subplot(2,1,1) # (cols, rows, images)\n",
    "plt.imshow(img, cmap = 'GnBu_r') # reversed GnBu\n",
    "plt.subplot(2,2,3)\n",
    "plt.imshow(flipped_lr, cmap = 'CMRmap')\n",
    "plt.subplot(2,2,4)\n",
    "plt.imshow(flipped_ud, cmap = 'magma')\n",
    "\n",
    "# If you want to apply gradient maps, use the cmap argument and take a map from https://matplotlib.org/stable/gallery/color/colormap_reference.html \n",
    "# In order to make it work properly, the images must be gray (see img_as_ubyte kerfluffle above)\n",
    "# Reverse the gradient by appending '_r' to the name, like in the green blue one.\n",
    "\n"
   ]
  },
  {
   "cell_type": "markdown",
   "metadata": {},
   "source": [
    "Scipy: rotate"
   ]
  },
  {
   "cell_type": "code",
   "execution_count": null,
   "metadata": {},
   "outputs": [],
   "source": [
    "from scipy import ndimage"
   ]
  },
  {
   "cell_type": "code",
   "execution_count": null,
   "metadata": {},
   "outputs": [],
   "source": [
    "\n",
    "img = img_as_ubyte(io.imread('quadrat_photos_raw/441959955_1200760134272433_6935347568072997467_n.jpg', as_gray=True))\n",
    "\n",
    "# Rotate image 90 degrees\n",
    "rotated = ndimage.rotate(img, 90) # reshape argument will control cropping with rotation\n",
    "plt.imshow(rotated) \n"
   ]
  },
  {
   "cell_type": "markdown",
   "metadata": {},
   "source": [
    "Scipy: filters  \n",
    "Here's a list of all the filters u can use: https://docs.scipy.org/doc/scipy/reference/ndimage.html"
   ]
  },
  {
   "cell_type": "code",
   "execution_count": null,
   "metadata": {},
   "outputs": [],
   "source": [
    "# DE-NOISING, SMOOTHING\n",
    "# Uniform filter blurs the image.\n",
    "uniform_filtered = ndimage.uniform_filter(img, size=3)\n",
    "# Gaussian filter adds a gaussian blur. Doesn't preserve edges. \n",
    "gaussian_filtered = ndimage.gaussian_filter(img, sigma=3)\n",
    "# De-noised but does preserve edges\n",
    "median_filtered = ndimage.median_filter(img, 3)\n",
    "\n",
    "# EDGE DETECTION\n",
    "sobel_img = ndimage.sobel(img) # Looks like it picks up the quadrat well, and the rest is noise. Tinker with the axis argument to adjust. \n",
    "\n",
    "plt.imshow(sobel_img)"
   ]
  },
  {
   "cell_type": "markdown",
   "metadata": {},
   "source": [
    "IMAGE PROCESSING WITH SCIKIT-IMAGE"
   ]
  },
  {
   "cell_type": "code",
   "execution_count": null,
   "metadata": {},
   "outputs": [],
   "source": [
    "from skimage import io\n",
    "from matplotlib import pyplot as plt\n",
    "from skimage.transform import rescale, resize, downscale_local_mean"
   ]
  },
  {
   "cell_type": "code",
   "execution_count": null,
   "metadata": {},
   "outputs": [],
   "source": [
    "img = io.imread('quadrat_photos_raw/441951468_751377703815276_4256953090677514527_n.jpg', as_gray=True)\n",
    "\n",
    "# Scale image by 1/4, add anti-aliasing\n",
    "rescaled_img = rescale(img, 1.0/4.0, anti_aliasing = True)\n",
    "# Scale image down to specified pixels. Will squish image. \n",
    "resized_img = resize(img, (200, 200))\n",
    "\n",
    "plt.imshow(rescaled_img)"
   ]
  },
  {
   "cell_type": "markdown",
   "metadata": {},
   "source": [
    "Edge detection"
   ]
  },
  {
   "cell_type": "code",
   "execution_count": null,
   "metadata": {},
   "outputs": [],
   "source": [
    "from skimage.filters import roberts, sobel, scharr, prewitt"
   ]
  },
  {
   "cell_type": "code",
   "execution_count": null,
   "metadata": {},
   "outputs": [],
   "source": [
    "edge_roberts = roberts(img) # Apply roberts edge detection mode\n",
    "edge_sobel = sobel(img) # Apply sobel edge detection mode\n",
    "edge_scharr = scharr(img) # Apply scharr edge detection mode\n",
    "edge_prewitt = prewitt(img) # Apply prewitt edge detection mode\n",
    "\n",
    "plt.imshow(edge_roberts)\n",
    "plt.imshow(edge_sobel)\n",
    "plt.imshow(edge_scharr)\n",
    "plt.imshow(edge_prewitt)\n",
    "\n",
    "# Use different methods depending on what works the best for your data."
   ]
  },
  {
   "cell_type": "code",
   "execution_count": null,
   "metadata": {},
   "outputs": [],
   "source": [
    "from skimage.feature import canny"
   ]
  },
  {
   "cell_type": "code",
   "execution_count": null,
   "metadata": {},
   "outputs": [],
   "source": [
    "edge_canny = canny(img, sigma=4)\n",
    "# sigma adjusts the sensitivity of the edge detection.\n",
    "\n",
    "plt.imshow(edge_canny)"
   ]
  },
  {
   "cell_type": "markdown",
   "metadata": {},
   "source": [
    "Deconvolution"
   ]
  },
  {
   "cell_type": "code",
   "execution_count": null,
   "metadata": {},
   "outputs": [],
   "source": [
    "from skimage import restoration\n",
    "import numpy as np"
   ]
  },
  {
   "cell_type": "code",
   "execution_count": null,
   "metadata": {},
   "outputs": [],
   "source": [
    "# Create a 3x3 matrix with 9 ones. Normalize the matrix by dividing by 9.\n",
    "psf = np.ones((3,3)) / 9\n",
    "\n",
    "# Deconvolute the image. \n",
    "deconvolved, _ = restoration.unsupervised_wiener(img, psf)\n",
    "\n",
    "# Save the image to the edited quadrat photos folder.\n",
    "plt.imsave('quadrat_photos_edited/deconvolved.jpg', deconvolved)"
   ]
  },
  {
   "cell_type": "markdown",
   "metadata": {},
   "source": [
    "Using entropy filter for segmentation"
   ]
  },
  {
   "cell_type": "code",
   "execution_count": null,
   "metadata": {},
   "outputs": [],
   "source": [
    "import matplotlib.pyplot as plt\n",
    "from skimage import io, restoration\n",
    "from skimage.filters.rank import entropy\n",
    "from skimage.morphology import disk\n",
    "from skimage.filters import try_all_threshold"
   ]
  },
  {
   "cell_type": "code",
   "execution_count": null,
   "metadata": {},
   "outputs": [],
   "source": [
    "# Import the image as gray (it needs to be grayscale or else the entropy function no workie). \n",
    "img = io.imread('quadrat_photos_raw/442006991_1175880083845572_7503037711238909895_n.jpg', as_gray = True)\n",
    "\n",
    "# Apply entropy filter\n",
    "entropy_img = entropy(img, disk(3))\n",
    "plt.imshow(entropy_img)"
   ]
  },
  {
   "cell_type": "code",
   "execution_count": null,
   "metadata": {},
   "outputs": [],
   "source": [
    "# Show different methods of segmentation???\n",
    "fig, ax = try_all_threshold(entropy_img, figsize=(10,8), verbose=False)"
   ]
  },
  {
   "cell_type": "code",
   "execution_count": null,
   "metadata": {},
   "outputs": [],
   "source": [
    "from skimage.filters import threshold_isodata\n",
    "import numpy as np"
   ]
  },
  {
   "cell_type": "code",
   "execution_count": null,
   "metadata": {},
   "outputs": [],
   "source": [
    "# Thresh is one value that says what the threshold is for that image. You know, whatever that means.\n",
    "thresh = threshold_isodata(entropy_img)\n",
    "\n",
    "# Binary is a matrix of the image, and all the dark pixels are True and all the light pixels are False.\n",
    "binary = entropy_img <= thresh\n",
    "\n",
    "# Show the binary image in black and white. \n",
    "plt.imshow(binary, cmap='gray')"
   ]
  },
  {
   "cell_type": "markdown",
   "metadata": {},
   "source": [
    "Entropy filter example"
   ]
  },
  {
   "cell_type": "code",
   "execution_count": null,
   "metadata": {},
   "outputs": [],
   "source": [
    "from skimage.filters.rank import entropy\n",
    "from skimage.morphology import disk\n",
    "from skimage import io\n",
    "import matplotlib.pyplot as plt\n",
    "import numpy as np\n",
    "from skimage.filters import threshold_otsu\n",
    "\n"
   ]
  },
  {
   "cell_type": "code",
   "execution_count": null,
   "metadata": {},
   "outputs": [],
   "source": [
    "# Import image in grayscale\n",
    "img2 = io.imread('quadrat_photos_raw/20240531_103700.jpg', as_gray=True)\n",
    "\n",
    "# Add entropy filter\n",
    "entropy_img2 = entropy(img, disk(5))\n",
    "\n",
    "plt.imshow(entropy_img2)\n",
    "\n",
    "# Check the different threshold options\n",
    "# fig, ax = try_all_threshold(entropy_img, figsize=(10,8), verbose=False)\n",
    "# Otsu picks out the pipe the best so we'll use that one. \n",
    "\n",
    "thresh2 = threshold_otsu(entropy_img2)\n",
    "\n",
    "binary2 = entropy_img2 <= thresh2\n",
    "\n",
    "plt.imshow(binary2, cmap = 'gray')\n",
    "\n",
    "\n"
   ]
  },
  {
   "cell_type": "markdown",
   "metadata": {},
   "source": [
    "Use a loop to binarize several photos"
   ]
  },
  {
   "cell_type": "code",
   "execution_count": null,
   "metadata": {},
   "outputs": [],
   "source": [
    "import glob # for file names\n",
    "import numpy as np"
   ]
  },
  {
   "cell_type": "code",
   "execution_count": null,
   "metadata": {},
   "outputs": [],
   "source": [
    "area_list = []\n",
    "index_list = []\n",
    "path = 'quadrat_photos_raw/*'\n",
    "\n",
    "# Do 5 line image analysis on every image in the file to see if the dark area increases or decreases. Mainly makes sense in scratch assay analysis but not here.\n",
    "for i, file in enumerate(glob.glob(path)):\n",
    "    # read the image in\n",
    "    img = io.imread(file, as_gray = True)\n",
    "\n",
    "    # Apply entropy filter\n",
    "    entropy_img = entropy(img, disk(10))\n",
    "\n",
    "    # Establish threshold value\n",
    "    thresh = threshold_otsu(entropy_img)\n",
    "\n",
    "    # Make a binary image that separates pixels that are and aren't over the threshold\n",
    "    binary = entropy_img <= thresh\n",
    "    \n",
    "    # Save the dark area in pixels (???)\n",
    "    dark_area = np.sum(binary == True)\n",
    "\n",
    "    # Append index and areas into lists so they can be plotted later. \n",
    "    index_list.append(i)\n",
    "    area_list.append(dark_area)\n",
    "\n",
    "# Plot the areas over time.\n",
    "plt.plot(index_list, area_list, 'bo')"
   ]
  },
  {
   "cell_type": "markdown",
   "metadata": {},
   "source": [
    "SCIKIT IMAGE NON-LOCAL MEANS DENOISING"
   ]
  },
  {
   "cell_type": "code",
   "execution_count": 61,
   "metadata": {},
   "outputs": [],
   "source": [
    "from skimage import io\n",
    "from scipy import ndimage as nd\n",
    "from matplotlib import pyplot as plt"
   ]
  },
  {
   "cell_type": "code",
   "execution_count": 67,
   "metadata": {},
   "outputs": [],
   "source": [
    "# This image has shadows over the top of that. Maybe denoising will help?\n",
    "noisy_img = io.imread('quadrat_photos_raw/441945392_7611293982323093_6609539894515730557_n.jpg', as_gray = True)\n",
    "\n",
    "# Apply medain filter (does what gaussian filter does but preserves edges)\n",
    "median_img = nd.median_filter(noisy_img, size = 3) # size measures in kernels\n",
    "\n",
    "plt.imsave('quadrat_photos_edited/denoised.jpg', median_img)\n",
    "# It looks pretty sweet but it didn't solve the shadow problem\n"
   ]
  }
 ],
 "metadata": {
  "kernelspec": {
   "display_name": "Python 3",
   "language": "python",
   "name": "python3"
  },
  "language_info": {
   "codemirror_mode": {
    "name": "ipython",
    "version": 3
   },
   "file_extension": ".py",
   "mimetype": "text/x-python",
   "name": "python",
   "nbconvert_exporter": "python",
   "pygments_lexer": "ipython3",
   "version": "3.11.5"
  }
 },
 "nbformat": 4,
 "nbformat_minor": 2
}
