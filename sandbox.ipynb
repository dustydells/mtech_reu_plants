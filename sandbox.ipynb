{
 "cells": [
  {
   "cell_type": "code",
   "execution_count": null,
   "metadata": {},
   "outputs": [],
   "source": [
    "from skimage import io\n",
    "import numpy as np\n",
    "from matplotlib import pyplot as plt\n",
    "from PIL import Image"
   ]
  },
  {
   "cell_type": "markdown",
   "metadata": {},
   "source": [
    "BASIC IMAGE MANIPULATION"
   ]
  },
  {
   "cell_type": "code",
   "execution_count": null,
   "metadata": {},
   "outputs": [],
   "source": [
    "# Open an image in python\n",
    "image = io.imread('quadrat_photos_raw/20240530_164149.jpg')\n",
    "print(image)\n"
   ]
  },
  {
   "cell_type": "code",
   "execution_count": null,
   "metadata": {},
   "outputs": [],
   "source": [
    "# Make a lightened version of that image by multiplying its RGB values\n",
    "darkened_image = image * .5\n",
    "plt.imshow(darkened_image)"
   ]
  },
  {
   "cell_type": "code",
   "execution_count": null,
   "metadata": {},
   "outputs": [],
   "source": [
    "# Make an overlay on top of the image.\n",
    "# Make a red image.\n",
    "image[10:500, 10:500, :] = [255, 0, 0] # parameters of [] are x, y, z pixel ranges\n",
    "plt.imshow(image)"
   ]
  },
  {
   "cell_type": "code",
   "execution_count": null,
   "metadata": {},
   "outputs": [],
   "source": [
    "# Make a random image that's 500 by 500 pixels. All pixels will be randomized. \n",
    "random_pic = np.random.random([500, 500])\n",
    "\n",
    "# Display that image using matplotlib\n",
    "plt.imshow(random_pic)"
   ]
  },
  {
   "cell_type": "markdown",
   "metadata": {},
   "source": [
    "how to pillow library "
   ]
  },
  {
   "cell_type": "code",
   "execution_count": null,
   "metadata": {},
   "outputs": [],
   "source": [
    "img = Image.open('quadrat_photos_raw/20240531_103859.jpg')\n",
    "\n",
    "# Print image type\n",
    "print(type(img)) # Note that it's not a numpy array. It needs to be converted if you want to do numpy stuff.\n",
    "\n",
    "# img.show() # Open the image in a separate window.\n",
    "print(img.format) # print the format of the image (JPEG)\n",
    "\n",
    "img1 = np.asarray(img) # Convert a pillow image to a numpy array\n",
    "print(type(img1)) # Show datatype of new image, which is a numpy array"
   ]
  },
  {
   "cell_type": "markdown",
   "metadata": {},
   "source": [
    "Matplotlib & Pyplot image opening"
   ]
  },
  {
   "cell_type": "markdown",
   "metadata": {},
   "source": []
  },
  {
   "cell_type": "code",
   "execution_count": null,
   "metadata": {},
   "outputs": [],
   "source": [
    "import matplotlib.image as mpimg\n",
    "import matplotlib.pyplot as plt"
   ]
  },
  {
   "cell_type": "code",
   "execution_count": null,
   "metadata": {},
   "outputs": [],
   "source": [
    "# Import an image as a numpy array\n",
    "img = mpimg.imread('quadrat_photos_raw/20240531_103859.jpg')\n",
    "print(type(img))\n",
    "plt.imshow(img) # remember to use imshow for numpy arrays"
   ]
  },
  {
   "cell_type": "markdown",
   "metadata": {},
   "source": [
    "Scikit image library"
   ]
  },
  {
   "cell_type": "code",
   "execution_count": null,
   "metadata": {},
   "outputs": [],
   "source": [
    "from skimage import io # For reading in images\n",
    "from skimage import io, img_as_float, img_as_ubyte\n",
    "\n",
    "# Import image as a numpy array\n",
    "img = io.imread('quadrat_photos_raw/20240531_103859.jpg') # Import image as a numpy array\n",
    "print(type(img))\n",
    "plt.imshow(img)\n",
    "\n",
    "# Import image as a float. It converts pixel values into a number from 0-1.\n",
    "img_float = img_as_float(img)\n",
    "# img_float = io.imread('quadrat_photos/20240531_103859.jpg').astype(np.float) # alternate method\n",
    "print(img_float)"
   ]
  },
  {
   "cell_type": "markdown",
   "metadata": {},
   "source": [
    "Open CV"
   ]
  },
  {
   "cell_type": "code",
   "execution_count": null,
   "metadata": {},
   "outputs": [],
   "source": [
    "\n",
    "import cv2 # import command for open cv\n"
   ]
  },
  {
   "cell_type": "code",
   "execution_count": null,
   "metadata": {},
   "outputs": [],
   "source": [
    "img = cv2.imread('quadrat_photos_raw/20240531_103859.jpg', 1) # read in image (1 means in color, 0 means in monochrome)\n",
    "plt.imshow(img) # show image. Notice how the colors are off. cv2's default is not RGB. It's BGR.\n",
    "\n",
    "# Try using open cv methods of showing images.\n",
    "gray_img = cv2.imread('quadrat_photos_raw/20240531_103859.jpg', 0)\n",
    "color_img = cv2.imread('quadrat_photos_raw/20240531_103859.jpg', 1)\n",
    "\n",
    "# Import it but convert the images from BGR to RGB\n",
    "plt.imshow(cv2.cvtColor(color_img, cv2.COLOR_BGR2RGB))\n",
    "\n",
    "cv2.imshow('Gray Image', gray_img)\n",
    "cv2.imshow('Color Image', color_img)\n",
    "\n",
    "cv2.waitKey(0) # Keep the output window until you kill it (unless you put in 0 - that makes you able to close it manually)\n",
    "cv2.destroyAllWindows() # Destroys all the windows that show up "
   ]
  },
  {
   "cell_type": "markdown",
   "metadata": {},
   "source": [
    "Reading all images"
   ]
  },
  {
   "cell_type": "code",
   "execution_count": null,
   "metadata": {},
   "outputs": [],
   "source": [
    "import cv2\n",
    "import glob"
   ]
  },
  {
   "cell_type": "markdown",
   "metadata": {},
   "source": [
    "The * in the path designates which files the for loop will search through. Rad! Be warned, it will show every image in succession."
   ]
  },
  {
   "cell_type": "code",
   "execution_count": null,
   "metadata": {},
   "outputs": [],
   "source": [
    "path = 'quadrat_photos_raw/*.jpg'\n",
    "\n",
    "# Loop through every file in the quadrat_photos folder and do operations on every one.\n",
    "for file in glob.glob(path):\n",
    "    print(file)\n",
    "    a = cv2.imread(file)\n",
    "    print(a)\n",
    "\n",
    "    # Convert to RGB\n",
    "    c = cv2.cvtColor(a, cv2.COLOR_BGR2RGB)\n",
    "\n",
    "    # Show image\n",
    "    cv2.imshow('Color Image', c)\n",
    "\n",
    "    # Clean up windows\n",
    "    cv2.waitKey(0)\n",
    "    cv2.destroyAllWindows()\n"
   ]
  },
  {
   "cell_type": "markdown",
   "metadata": {},
   "source": [
    "IMAGE PROCESSING WITH PILLOW"
   ]
  },
  {
   "cell_type": "code",
   "execution_count": null,
   "metadata": {},
   "outputs": [],
   "source": [
    "from PIL import Image"
   ]
  },
  {
   "cell_type": "markdown",
   "metadata": {},
   "source": [
    "Resizing"
   ]
  },
  {
   "cell_type": "code",
   "execution_count": null,
   "metadata": {},
   "outputs": [],
   "source": [
    "# Open the image. It is not a numpy array.\n",
    "img = Image.open('quadrat_photos_raw/436552676_1025526125801177_8782775392322481521_n.jpg')\n",
    "\n",
    "print(img.size) # Print the size - (width, height)\n",
    "\n",
    "# Resize the image. It does an unexciting squish. Doesn't keep the aspect ratio. Bad thing\n",
    "# small_img = img.resize((200, 300)) # make a copy that's smaller\n",
    "# small_img.save('quadrat_photos_edited/test_small_image.jpg') # Save the image\n",
    "\n",
    "small_img = img\n",
    "\n",
    "# Resize but keep the aspect ratio. Better method.\n",
    "small_img.thumbnail((510, 287))\n",
    "small_img.save('quadrat_photos_edited/test_small_image_aspect_ratio.jpg') # Save the image\n",
    "\n",
    "# You can't resize an image to be bigger than it is.\n"
   ]
  },
  {
   "cell_type": "markdown",
   "metadata": {},
   "source": [
    "Cropping"
   ]
  },
  {
   "cell_type": "code",
   "execution_count": null,
   "metadata": {},
   "outputs": [],
   "source": [
    "cropped_img = img.crop((0, 0, 300, 300)) # crop image to a square\n",
    "cropped_img.save('quadrat_photos_edited/test_cropped_image.jpg')\n",
    "\n",
    "# Put a cropped version of one image on top of another (no workie. But doesn't rlly matter)\n",
    "img1 = Image.open('quadrat_photos_raw/441870424_993834382360394_2048396322547840220_n.jpg')\n",
    "img2 = Image.open('quadrat_photos_raw/441575503_1505677643398773_3256282308229328881_n.jpg')\n",
    "\n",
    "# Crop one image to make it smaller\n",
    "img2 = img2.crop((10, 10, 20, 20))\n",
    "\n",
    "# Copy image into another variable\n",
    "img1_copy = img1.copy()\n",
    "# Paste image 2 onto img1 @ the location 50, 50\n",
    "img1_copy.paste(img2, (50, 50)) \n",
    "img1_copy.save('quadrat_photos_edited/test_bad_photoshop.jpg')"
   ]
  },
  {
   "cell_type": "markdown",
   "metadata": {},
   "source": [
    "Rotation"
   ]
  },
  {
   "cell_type": "code",
   "execution_count": null,
   "metadata": {},
   "outputs": [],
   "source": [
    "img90_deg_rotated = img.rotate(90, expand = True) \n",
    "img90_deg_rotated.save('quadrat_photos_edited/rotated_90.jpg')\n",
    "\n",
    "# expand = True means it expands the bounds of the image to accomodate the rotation\n"
   ]
  },
  {
   "cell_type": "markdown",
   "metadata": {},
   "source": [
    "IMAGE PROCESSING WITH SCIPY"
   ]
  },
  {
   "cell_type": "code",
   "execution_count": null,
   "metadata": {},
   "outputs": [],
   "source": [
    "from skimage import io, img_as_ubyte\n",
    "import numpy as np\n",
    "from matplotlib import pyplot as plt"
   ]
  },
  {
   "cell_type": "markdown",
   "metadata": {},
   "source": [
    "Scipy: load image, flip image, use color maps  \n",
    "Documentation for all the available color maps: https://matplotlib.org/stable/gallery/color/colormap_reference.html"
   ]
  },
  {
   "cell_type": "code",
   "execution_count": null,
   "metadata": {},
   "outputs": [],
   "source": [
    "# Load in image as gray, then convert it back to ubyte\n",
    "img = img_as_ubyte(io.imread('quadrat_photos_raw/441959955_1200760134272433_6935347568072997467_n.jpg', as_gray=True))\n",
    "\n",
    "# Print image size and datatype.\n",
    "print(img.shape, img.dtype) # (1148, 2040, 3), unsigned integer int\n",
    "# print(img)\n",
    "\n",
    "print(img[0,0]) # Prints RGB values of the pixel at [0,0]\n",
    "\n",
    "# Flip images\n",
    "flipped_lr = np.fliplr(img) # left to right\n",
    "flipped_ud = np.flipud(img) # up to down\n",
    "\n",
    "# Plot multiple images\n",
    "plt.subplot(2,1,1) # (cols, rows, images)\n",
    "plt.imshow(img, cmap = 'GnBu_r') # reversed GnBu\n",
    "plt.subplot(2,2,3)\n",
    "plt.imshow(flipped_lr, cmap = 'CMRmap')\n",
    "plt.subplot(2,2,4)\n",
    "plt.imshow(flipped_ud, cmap = 'magma')\n",
    "\n",
    "# If you want to apply gradient maps, use the cmap argument and take a map from https://matplotlib.org/stable/gallery/color/colormap_reference.html \n",
    "# In order to make it work properly, the images must be gray (see img_as_ubyte kerfluffle above)\n",
    "# Reverse the gradient by appending '_r' to the name, like in the green blue one.\n",
    "\n"
   ]
  },
  {
   "cell_type": "markdown",
   "metadata": {},
   "source": [
    "Scipy: rotate"
   ]
  },
  {
   "cell_type": "code",
   "execution_count": null,
   "metadata": {},
   "outputs": [],
   "source": [
    "from scipy import ndimage"
   ]
  },
  {
   "cell_type": "code",
   "execution_count": null,
   "metadata": {},
   "outputs": [],
   "source": [
    "\n",
    "img = img_as_ubyte(io.imread('quadrat_photos_raw/441959955_1200760134272433_6935347568072997467_n.jpg', as_gray=True))\n",
    "\n",
    "# Rotate image 90 degrees\n",
    "rotated = ndimage.rotate(img, 90) # reshape argument will control cropping with rotation\n",
    "plt.imshow(rotated) \n"
   ]
  },
  {
   "cell_type": "markdown",
   "metadata": {},
   "source": [
    "Scipy: filters  \n",
    "Here's a list of all the filters u can use: https://docs.scipy.org/doc/scipy/reference/ndimage.html"
   ]
  },
  {
   "cell_type": "code",
   "execution_count": null,
   "metadata": {},
   "outputs": [],
   "source": [
    "# DE-NOISING, SMOOTHING\n",
    "# Uniform filter blurs the image.\n",
    "uniform_filtered = ndimage.uniform_filter(img, size=3)\n",
    "# Gaussian filter adds a gaussian blur. Doesn't preserve edges. \n",
    "gaussian_filtered = ndimage.gaussian_filter(img, sigma=3)\n",
    "# De-noised but does preserve edges\n",
    "median_filtered = ndimage.median_filter(img, 3)\n",
    "\n",
    "# EDGE DETECTION\n",
    "sobel_img = ndimage.sobel(img) # Looks like it picks up the quadrat well, and the rest is noise. Tinker with the axis argument to adjust. \n",
    "\n",
    "plt.imshow(sobel_img)"
   ]
  },
  {
   "cell_type": "markdown",
   "metadata": {},
   "source": [
    "IMAGE PROCESSING WITH SCIKIT-IMAGE"
   ]
  },
  {
   "cell_type": "code",
   "execution_count": null,
   "metadata": {},
   "outputs": [],
   "source": [
    "from skimage import io\n",
    "from matplotlib import pyplot as plt\n",
    "from skimage.transform import rescale, resize, downscale_local_mean"
   ]
  },
  {
   "cell_type": "code",
   "execution_count": null,
   "metadata": {},
   "outputs": [],
   "source": [
    "img = io.imread('quadrat_photos_raw/441951468_751377703815276_4256953090677514527_n.jpg', as_gray=True)\n",
    "\n",
    "# Scale image by 1/4, add anti-aliasing\n",
    "rescaled_img = rescale(img, 1.0/4.0, anti_aliasing = True)\n",
    "# Scale image down to specified pixels. Will squish image. \n",
    "resized_img = resize(img, (200, 200))\n",
    "\n",
    "plt.imshow(rescaled_img)"
   ]
  },
  {
   "cell_type": "markdown",
   "metadata": {},
   "source": [
    "Edge detection"
   ]
  },
  {
   "cell_type": "code",
   "execution_count": null,
   "metadata": {},
   "outputs": [],
   "source": [
    "from skimage.filters import roberts, sobel, scharr, prewitt"
   ]
  },
  {
   "cell_type": "code",
   "execution_count": null,
   "metadata": {},
   "outputs": [],
   "source": [
    "edge_roberts = roberts(img) # Apply roberts edge detection mode\n",
    "edge_sobel = sobel(img) # Apply sobel edge detection mode\n",
    "edge_scharr = scharr(img) # Apply scharr edge detection mode\n",
    "edge_prewitt = prewitt(img) # Apply prewitt edge detection mode\n",
    "\n",
    "plt.imshow(edge_roberts)\n",
    "plt.imshow(edge_sobel)\n",
    "plt.imshow(edge_scharr)\n",
    "plt.imshow(edge_prewitt)\n",
    "\n",
    "# Use different methods depending on what works the best for your data."
   ]
  },
  {
   "cell_type": "code",
   "execution_count": null,
   "metadata": {},
   "outputs": [],
   "source": [
    "from skimage.feature import canny"
   ]
  },
  {
   "cell_type": "code",
   "execution_count": null,
   "metadata": {},
   "outputs": [],
   "source": [
    "edge_canny = canny(img, sigma=4)\n",
    "# sigma adjusts the sensitivity of the edge detection.\n",
    "\n",
    "plt.imshow(edge_canny)"
   ]
  },
  {
   "cell_type": "markdown",
   "metadata": {},
   "source": [
    "Deconvolution"
   ]
  },
  {
   "cell_type": "code",
   "execution_count": null,
   "metadata": {},
   "outputs": [],
   "source": [
    "from skimage import restoration\n",
    "import numpy as np"
   ]
  },
  {
   "cell_type": "code",
   "execution_count": null,
   "metadata": {},
   "outputs": [],
   "source": [
    "# Create a 3x3 matrix with 9 ones. Normalize the matrix by dividing by 9.\n",
    "psf = np.ones((3,3)) / 9\n",
    "\n",
    "# Deconvolute the image. \n",
    "deconvolved, _ = restoration.unsupervised_wiener(img, psf)\n",
    "\n",
    "# Save the image to the edited quadrat photos folder.\n",
    "plt.imsave('quadrat_photos_edited/deconvolved.jpg', deconvolved)"
   ]
  },
  {
   "cell_type": "markdown",
   "metadata": {},
   "source": [
    "Using entropy filter for segmentation"
   ]
  },
  {
   "cell_type": "code",
   "execution_count": null,
   "metadata": {},
   "outputs": [],
   "source": [
    "import matplotlib.pyplot as plt\n",
    "from skimage import io, restoration\n",
    "from skimage.filters.rank import entropy\n",
    "from skimage.morphology import disk\n",
    "from skimage.filters import try_all_threshold"
   ]
  },
  {
   "cell_type": "code",
   "execution_count": null,
   "metadata": {},
   "outputs": [],
   "source": [
    "# Import the image as gray (it needs to be grayscale or else the entropy function no workie). \n",
    "img = io.imread('quadrat_photos_raw/442006991_1175880083845572_7503037711238909895_n.jpg', as_gray = True)\n",
    "\n",
    "# Apply entropy filter\n",
    "entropy_img = entropy(img, disk(3))\n",
    "plt.imshow(entropy_img)"
   ]
  },
  {
   "cell_type": "code",
   "execution_count": null,
   "metadata": {},
   "outputs": [],
   "source": [
    "# Show different methods of segmentation???\n",
    "fig, ax = try_all_threshold(entropy_img, figsize=(10,8), verbose=False)"
   ]
  },
  {
   "cell_type": "code",
   "execution_count": null,
   "metadata": {},
   "outputs": [],
   "source": [
    "from skimage.filters import threshold_isodata\n",
    "import numpy as np"
   ]
  },
  {
   "cell_type": "code",
   "execution_count": null,
   "metadata": {},
   "outputs": [],
   "source": [
    "# Thresh is one value that says what the threshold is for that image. You know, whatever that means.\n",
    "thresh = threshold_isodata(entropy_img)\n",
    "\n",
    "# Binary is a matrix of the image, and all the dark pixels are True and all the light pixels are False.\n",
    "binary = entropy_img <= thresh\n",
    "\n",
    "# Show the binary image in black and white. \n",
    "plt.imshow(binary, cmap='gray')"
   ]
  },
  {
   "cell_type": "markdown",
   "metadata": {},
   "source": [
    "Entropy filter example"
   ]
  },
  {
   "cell_type": "code",
   "execution_count": null,
   "metadata": {},
   "outputs": [],
   "source": [
    "from skimage.filters.rank import entropy\n",
    "from skimage.morphology import disk\n",
    "from skimage import io\n",
    "import matplotlib.pyplot as plt\n",
    "import numpy as np\n",
    "from skimage.filters import threshold_otsu\n",
    "\n"
   ]
  },
  {
   "cell_type": "code",
   "execution_count": null,
   "metadata": {},
   "outputs": [],
   "source": [
    "# Import image in grayscale\n",
    "img2 = io.imread('quadrat_photos_raw/20240531_103700.jpg', as_gray=True)\n",
    "\n",
    "# Add entropy filter\n",
    "entropy_img2 = entropy(img, disk(5))\n",
    "\n",
    "plt.imshow(entropy_img2)\n",
    "\n",
    "# Check the different threshold options\n",
    "# fig, ax = try_all_threshold(entropy_img, figsize=(10,8), verbose=False)\n",
    "# Otsu picks out the pipe the best so we'll use that one. \n",
    "\n",
    "thresh2 = threshold_otsu(entropy_img2)\n",
    "\n",
    "binary2 = entropy_img2 <= thresh2\n",
    "\n",
    "plt.imshow(binary2, cmap = 'gray')\n",
    "\n",
    "\n"
   ]
  },
  {
   "cell_type": "markdown",
   "metadata": {},
   "source": [
    "Use a loop to binarize several photos"
   ]
  },
  {
   "cell_type": "code",
   "execution_count": null,
   "metadata": {},
   "outputs": [],
   "source": [
    "import glob # for file names\n",
    "import numpy as np"
   ]
  },
  {
   "cell_type": "code",
   "execution_count": null,
   "metadata": {},
   "outputs": [],
   "source": [
    "area_list = []\n",
    "index_list = []\n",
    "path = 'quadrat_photos_raw/*'\n",
    "\n",
    "# Do 5 line image analysis on every image in the file to see if the dark area increases or decreases. Mainly makes sense in scratch assay analysis but not here.\n",
    "for i, file in enumerate(glob.glob(path)):\n",
    "    # read the image in\n",
    "    img = io.imread(file, as_gray = True)\n",
    "\n",
    "    # Apply entropy filter\n",
    "    entropy_img = entropy(img, disk(10))\n",
    "\n",
    "    # Establish threshold value\n",
    "    thresh = threshold_otsu(entropy_img)\n",
    "\n",
    "    # Make a binary image that separates pixels that are and aren't over the threshold\n",
    "    binary = entropy_img <= thresh\n",
    "    \n",
    "    # Save the dark area in pixels (???)\n",
    "    dark_area = np.sum(binary == True)\n",
    "\n",
    "    # Append index and areas into lists so they can be plotted later. \n",
    "    index_list.append(i)\n",
    "    area_list.append(dark_area)\n",
    "\n",
    "# Plot the areas over time.\n",
    "plt.plot(index_list, area_list, 'bo')"
   ]
  },
  {
   "cell_type": "markdown",
   "metadata": {},
   "source": [
    "SCIKIT IMAGE NON-LOCAL MEANS DENOISING"
   ]
  },
  {
   "cell_type": "code",
   "execution_count": null,
   "metadata": {},
   "outputs": [],
   "source": [
    "from skimage import io\n",
    "from scipy import ndimage as nd\n",
    "from matplotlib import pyplot as plt"
   ]
  },
  {
   "cell_type": "code",
   "execution_count": null,
   "metadata": {},
   "outputs": [],
   "source": [
    "# This image has shadows over the top of that. Maybe denoising will help?\n",
    "noisy_img = io.imread('quadrat_photos_raw/441945392_7611293982323093_6609539894515730557_n.jpg', as_gray = True)\n",
    "\n",
    "# Apply medain filter (does what gaussian filter does but preserves edges)\n",
    "median_img = nd.median_filter(noisy_img, size = 3) # size measures in kernels\n",
    "\n",
    "plt.imsave('quadrat_photos_edited/denoised.jpg', median_img)\n",
    "# It looks pretty sweet but it didn't solve the shadow problem\n"
   ]
  },
  {
   "cell_type": "markdown",
   "metadata": {},
   "source": [
    "Try non-local means for digital photos. Info is in this video: https://www.youtube.com/watch?v=2PrzKWkqOtU&list=PLZsOBAyNTZwYHBIlu_PUO19M7aHMgwBJr&index=23  \n",
    "There is also some documentation and copy-able code here: https://scikit-image.org/docs/stable/auto_examples/filters/plot_nonlocal_means.html"
   ]
  },
  {
   "cell_type": "markdown",
   "metadata": {},
   "source": [
    "HISTOGRAM BASED SEGMENTATION"
   ]
  },
  {
   "cell_type": "code",
   "execution_count": null,
   "metadata": {},
   "outputs": [],
   "source": [
    "from skimage.restoration import denoise_nl_means, estimate_sigma\n",
    "from skimage import img_as_float, img_as_ubyte, io\n",
    "import numpy as np\n",
    "from matplotlib import pyplot as plt\n",
    "import pywt"
   ]
  },
  {
   "cell_type": "code",
   "execution_count": null,
   "metadata": {},
   "outputs": [],
   "source": [
    "# Load in image\n",
    "img = io.imread('quadrat_photos_raw/442006967_421825957362171_8934033133085778559_n.jpg', as_gray=True)\n",
    "\n",
    "# DE-NOISING\n",
    "# Convert the image to a float in order to make this work\n",
    "img = img_as_float(img)\n",
    "\n",
    "# estimate the noise standard deviation from the noisy image\n",
    "sigma_est = np.mean(estimate_sigma(img, channel_axis=-1))\n",
    "\n",
    "# Denoise the image based on the sigma that was just found\n",
    "denoised = denoise_nl_means(img, h=1.15 * sigma_est, fast_mode=True, patch_size=5, patch_distance=3)\n",
    "\n",
    "# Convert it back to ubyte\n",
    "denoised_ubyte = img_as_ubyte(denoised)\n",
    "\n",
    "plt.imshow(denoised_ubyte, cmap='gray')\n",
    "\n"
   ]
  },
  {
   "cell_type": "code",
   "execution_count": null,
   "metadata": {},
   "outputs": [],
   "source": [
    "\n",
    "# View histogram\n",
    "plt.hist(denoised_ubyte.flat, bins=100, range=(0,255)) # .flat flattens array into 1D (bc histogram 1D)"
   ]
  },
  {
   "cell_type": "markdown",
   "metadata": {},
   "source": [
    "HISTOGRAM SEGMENTATION USING COLOR SPACES"
   ]
  },
  {
   "cell_type": "code",
   "execution_count": null,
   "metadata": {},
   "outputs": [],
   "source": [
    "import matplotlib.pyplot as plt\n",
    "import cv2\n",
    "import numpy as np\n",
    "from skimage import io, measure\n",
    "from skimage.color import label2rgb\n",
    "from scipy import ndimage as nd"
   ]
  },
  {
   "cell_type": "code",
   "execution_count": null,
   "metadata": {},
   "outputs": [],
   "source": [
    "# Import image\n",
    "img = io.imread('quadrat_photos_raw/20240531_103357.jpg')\n",
    "\n",
    "# Convert image to hsv\n",
    "img_hsv = cv2.cvtColor(img, cv2.COLOR_RGB2HSV)\n",
    "\n",
    "# Use various greens to define a range in which greens generally are.\n",
    "'''\n",
    "dark green: (92, 32, 23)\n",
    "middle green: (75, 44, 63)\n",
    "light green: (83, 40, 90)\n",
    "'''\n",
    "mask = cv2.inRange(img_hsv, (40, 30, 10), (80, 50, 200))\n",
    "\n",
    "plt.imshow(mask)"
   ]
  },
  {
   "cell_type": "markdown",
   "metadata": {},
   "source": [
    "HSV Segmentation on an image that's likely to work with it"
   ]
  },
  {
   "cell_type": "code",
   "execution_count": null,
   "metadata": {},
   "outputs": [],
   "source": [
    "# Import image\n",
    "img = io.imread('quadrat_photos_raw/20240531_103430.jpg')\n",
    "\n",
    "# Convert image to hsv\n",
    "img_hsv = cv2.cvtColor(img, cv2.COLOR_RGB2HSV)\n",
    "\n",
    "# Make an HSV range that should capture some greens\n",
    "mask = cv2.inRange(img_hsv, (40, 30, 0), (90, 50, 200))\n",
    "\n",
    "plt.imshow(mask)"
   ]
  },
  {
   "cell_type": "code",
   "execution_count": null,
   "metadata": {},
   "outputs": [],
   "source": [
    "# Close mask. This appears to increase the value contrast in order to bring out the segmented shapes. \n",
    "closed_mask = nd.binary_closing(mask, np.ones((7,7)))\n",
    "plt.imshow(closed_mask)"
   ]
  },
  {
   "cell_type": "code",
   "execution_count": null,
   "metadata": {},
   "outputs": [],
   "source": [
    "# Each shape gets its own color\n",
    "label_image = measure.label(closed_mask)\n",
    "plt.imshow(label_image)"
   ]
  },
  {
   "cell_type": "code",
   "execution_count": null,
   "metadata": {},
   "outputs": [],
   "source": [
    "# Overlays labelled image on top of og image.\n",
    "image_label_overlay = label2rgb(label_image, image=img)\n",
    "plt.imshow(image_label_overlay)"
   ]
  },
  {
   "cell_type": "code",
   "execution_count": 28,
   "metadata": {},
   "outputs": [
    {
     "name": "stdout",
     "output_type": "stream",
     "text": [
      "   label    area  equivalent_diameter  mean_intensity-0  mean_intensity-1  \\\n",
      "0      1    34.0             6.579525         72.852941         84.000000   \n",
      "1      2    52.0             8.136858        104.596154        114.230769   \n",
      "2      3  5684.0            85.071109         97.402182        113.350633   \n",
      "3      4     1.0             1.128379        129.000000        145.000000   \n",
      "4      5    60.0             8.740387         23.500000         25.600000   \n",
      "\n",
      "   mean_intensity-2  solidity  \n",
      "0         67.500000  0.850000  \n",
      "1         95.384615  0.626506  \n",
      "2         96.337790  0.485853  \n",
      "3        118.000000  1.000000  \n",
      "4         20.500000  0.500000  \n"
     ]
    }
   ],
   "source": [
    "# Put image properties into a pandas table\n",
    "import pandas as pd\n",
    "\n",
    "props = measure.regionprops_table(label_image, img, \n",
    "                                  properties = ['label', 'area', 'equivalent_diameter', 'mean_intensity', 'solidity'])\n",
    "\n",
    "df = pd.DataFrame(props)\n",
    "print(df.head())"
   ]
  },
  {
   "cell_type": "markdown",
   "metadata": {},
   "source": [
    "RANDOM WALKER SEGMENTATION  \n",
    "could be useful when differences between groups are low"
   ]
  },
  {
   "cell_type": "code",
   "execution_count": 30,
   "metadata": {},
   "outputs": [],
   "source": [
    "from skimage import io, img_as_float\n",
    "import matplotlib.pyplot as plt\n",
    "import numpy as np"
   ]
  },
  {
   "cell_type": "code",
   "execution_count": 32,
   "metadata": {},
   "outputs": [
    {
     "ename": "KeyboardInterrupt",
     "evalue": "",
     "output_type": "error",
     "traceback": [
      "\u001b[1;31m---------------------------------------------------------------------------\u001b[0m",
      "\u001b[1;31mKeyboardInterrupt\u001b[0m                         Traceback (most recent call last)",
      "Cell \u001b[1;32mIn[32], line 4\u001b[0m\n\u001b[0;32m      1\u001b[0m img \u001b[38;5;241m=\u001b[39m img_as_float(io\u001b[38;5;241m.\u001b[39mimread(\u001b[38;5;124m'\u001b[39m\u001b[38;5;124mquadrat_photos_raw/20240531_103740.jpg\u001b[39m\u001b[38;5;124m'\u001b[39m))\n\u001b[0;32m      3\u001b[0m \u001b[38;5;66;03m# Try histogram to see if this method is necessary yet. \u001b[39;00m\n\u001b[1;32m----> 4\u001b[0m \u001b[43mplt\u001b[49m\u001b[38;5;241;43m.\u001b[39;49m\u001b[43mhist\u001b[49m\u001b[43m(\u001b[49m\u001b[43mimg\u001b[49m\u001b[38;5;241;43m.\u001b[39;49m\u001b[43mflat\u001b[49m\u001b[43m,\u001b[49m\u001b[43m \u001b[49m\u001b[43mbins\u001b[49m\u001b[38;5;241;43m=\u001b[39;49m\u001b[38;5;241;43m100\u001b[39;49m\u001b[43m,\u001b[49m\u001b[43m \u001b[49m\u001b[38;5;28;43mrange\u001b[39;49m\u001b[38;5;241;43m=\u001b[39;49m\u001b[43m(\u001b[49m\u001b[38;5;241;43m0\u001b[39;49m\u001b[43m,\u001b[49m\u001b[38;5;241;43m1\u001b[39;49m\u001b[43m)\u001b[49m\u001b[43m)\u001b[49m \u001b[38;5;66;03m# Range is 0-1 because this is a float image\u001b[39;00m\n",
      "File \u001b[1;32mc:\\Users\\dusty\\AppData\\Local\\Programs\\Python\\Python311\\Lib\\site-packages\\matplotlib\\pyplot.py:3354\u001b[0m, in \u001b[0;36mhist\u001b[1;34m(x, bins, range, density, weights, cumulative, bottom, histtype, align, orientation, rwidth, log, color, label, stacked, data, **kwargs)\u001b[0m\n\u001b[0;32m   3329\u001b[0m \u001b[38;5;129m@_copy_docstring_and_deprecators\u001b[39m(Axes\u001b[38;5;241m.\u001b[39mhist)\n\u001b[0;32m   3330\u001b[0m \u001b[38;5;28;01mdef\u001b[39;00m \u001b[38;5;21mhist\u001b[39m(\n\u001b[0;32m   3331\u001b[0m     x: ArrayLike \u001b[38;5;241m|\u001b[39m Sequence[ArrayLike],\n\u001b[1;32m   (...)\u001b[0m\n\u001b[0;32m   3352\u001b[0m     BarContainer \u001b[38;5;241m|\u001b[39m Polygon \u001b[38;5;241m|\u001b[39m \u001b[38;5;28mlist\u001b[39m[BarContainer \u001b[38;5;241m|\u001b[39m Polygon],\n\u001b[0;32m   3353\u001b[0m ]:\n\u001b[1;32m-> 3354\u001b[0m     \u001b[38;5;28;01mreturn\u001b[39;00m \u001b[43mgca\u001b[49m\u001b[43m(\u001b[49m\u001b[43m)\u001b[49m\u001b[38;5;241;43m.\u001b[39;49m\u001b[43mhist\u001b[49m\u001b[43m(\u001b[49m\n\u001b[0;32m   3355\u001b[0m \u001b[43m        \u001b[49m\u001b[43mx\u001b[49m\u001b[43m,\u001b[49m\n\u001b[0;32m   3356\u001b[0m \u001b[43m        \u001b[49m\u001b[43mbins\u001b[49m\u001b[38;5;241;43m=\u001b[39;49m\u001b[43mbins\u001b[49m\u001b[43m,\u001b[49m\n\u001b[0;32m   3357\u001b[0m \u001b[43m        \u001b[49m\u001b[38;5;28;43mrange\u001b[39;49m\u001b[38;5;241;43m=\u001b[39;49m\u001b[38;5;28;43mrange\u001b[39;49m\u001b[43m,\u001b[49m\n\u001b[0;32m   3358\u001b[0m \u001b[43m        \u001b[49m\u001b[43mdensity\u001b[49m\u001b[38;5;241;43m=\u001b[39;49m\u001b[43mdensity\u001b[49m\u001b[43m,\u001b[49m\n\u001b[0;32m   3359\u001b[0m \u001b[43m        \u001b[49m\u001b[43mweights\u001b[49m\u001b[38;5;241;43m=\u001b[39;49m\u001b[43mweights\u001b[49m\u001b[43m,\u001b[49m\n\u001b[0;32m   3360\u001b[0m \u001b[43m        \u001b[49m\u001b[43mcumulative\u001b[49m\u001b[38;5;241;43m=\u001b[39;49m\u001b[43mcumulative\u001b[49m\u001b[43m,\u001b[49m\n\u001b[0;32m   3361\u001b[0m \u001b[43m        \u001b[49m\u001b[43mbottom\u001b[49m\u001b[38;5;241;43m=\u001b[39;49m\u001b[43mbottom\u001b[49m\u001b[43m,\u001b[49m\n\u001b[0;32m   3362\u001b[0m \u001b[43m        \u001b[49m\u001b[43mhisttype\u001b[49m\u001b[38;5;241;43m=\u001b[39;49m\u001b[43mhisttype\u001b[49m\u001b[43m,\u001b[49m\n\u001b[0;32m   3363\u001b[0m \u001b[43m        \u001b[49m\u001b[43malign\u001b[49m\u001b[38;5;241;43m=\u001b[39;49m\u001b[43malign\u001b[49m\u001b[43m,\u001b[49m\n\u001b[0;32m   3364\u001b[0m \u001b[43m        \u001b[49m\u001b[43morientation\u001b[49m\u001b[38;5;241;43m=\u001b[39;49m\u001b[43morientation\u001b[49m\u001b[43m,\u001b[49m\n\u001b[0;32m   3365\u001b[0m \u001b[43m        \u001b[49m\u001b[43mrwidth\u001b[49m\u001b[38;5;241;43m=\u001b[39;49m\u001b[43mrwidth\u001b[49m\u001b[43m,\u001b[49m\n\u001b[0;32m   3366\u001b[0m \u001b[43m        \u001b[49m\u001b[43mlog\u001b[49m\u001b[38;5;241;43m=\u001b[39;49m\u001b[43mlog\u001b[49m\u001b[43m,\u001b[49m\n\u001b[0;32m   3367\u001b[0m \u001b[43m        \u001b[49m\u001b[43mcolor\u001b[49m\u001b[38;5;241;43m=\u001b[39;49m\u001b[43mcolor\u001b[49m\u001b[43m,\u001b[49m\n\u001b[0;32m   3368\u001b[0m \u001b[43m        \u001b[49m\u001b[43mlabel\u001b[49m\u001b[38;5;241;43m=\u001b[39;49m\u001b[43mlabel\u001b[49m\u001b[43m,\u001b[49m\n\u001b[0;32m   3369\u001b[0m \u001b[43m        \u001b[49m\u001b[43mstacked\u001b[49m\u001b[38;5;241;43m=\u001b[39;49m\u001b[43mstacked\u001b[49m\u001b[43m,\u001b[49m\n\u001b[0;32m   3370\u001b[0m \u001b[43m        \u001b[49m\u001b[38;5;241;43m*\u001b[39;49m\u001b[38;5;241;43m*\u001b[39;49m\u001b[43m(\u001b[49m\u001b[43m{\u001b[49m\u001b[38;5;124;43m\"\u001b[39;49m\u001b[38;5;124;43mdata\u001b[39;49m\u001b[38;5;124;43m\"\u001b[39;49m\u001b[43m:\u001b[49m\u001b[43m \u001b[49m\u001b[43mdata\u001b[49m\u001b[43m}\u001b[49m\u001b[43m \u001b[49m\u001b[38;5;28;43;01mif\u001b[39;49;00m\u001b[43m \u001b[49m\u001b[43mdata\u001b[49m\u001b[43m \u001b[49m\u001b[38;5;129;43;01mis\u001b[39;49;00m\u001b[43m \u001b[49m\u001b[38;5;129;43;01mnot\u001b[39;49;00m\u001b[43m \u001b[49m\u001b[38;5;28;43;01mNone\u001b[39;49;00m\u001b[43m \u001b[49m\u001b[38;5;28;43;01melse\u001b[39;49;00m\u001b[43m \u001b[49m\u001b[43m{\u001b[49m\u001b[43m}\u001b[49m\u001b[43m)\u001b[49m\u001b[43m,\u001b[49m\n\u001b[0;32m   3371\u001b[0m \u001b[43m        \u001b[49m\u001b[38;5;241;43m*\u001b[39;49m\u001b[38;5;241;43m*\u001b[39;49m\u001b[43mkwargs\u001b[49m\u001b[43m,\u001b[49m\n\u001b[0;32m   3372\u001b[0m \u001b[43m    \u001b[49m\u001b[43m)\u001b[49m\n",
      "File \u001b[1;32mc:\\Users\\dusty\\AppData\\Local\\Programs\\Python\\Python311\\Lib\\site-packages\\matplotlib\\__init__.py:1486\u001b[0m, in \u001b[0;36m_preprocess_data.<locals>.inner\u001b[1;34m(ax, data, *args, **kwargs)\u001b[0m\n\u001b[0;32m   1483\u001b[0m \u001b[38;5;129m@functools\u001b[39m\u001b[38;5;241m.\u001b[39mwraps(func)\n\u001b[0;32m   1484\u001b[0m \u001b[38;5;28;01mdef\u001b[39;00m \u001b[38;5;21minner\u001b[39m(ax, \u001b[38;5;241m*\u001b[39margs, data\u001b[38;5;241m=\u001b[39m\u001b[38;5;28;01mNone\u001b[39;00m, \u001b[38;5;241m*\u001b[39m\u001b[38;5;241m*\u001b[39mkwargs):\n\u001b[0;32m   1485\u001b[0m     \u001b[38;5;28;01mif\u001b[39;00m data \u001b[38;5;129;01mis\u001b[39;00m \u001b[38;5;28;01mNone\u001b[39;00m:\n\u001b[1;32m-> 1486\u001b[0m         \u001b[38;5;28;01mreturn\u001b[39;00m \u001b[43mfunc\u001b[49m\u001b[43m(\u001b[49m\n\u001b[0;32m   1487\u001b[0m \u001b[43m            \u001b[49m\u001b[43max\u001b[49m\u001b[43m,\u001b[49m\n\u001b[0;32m   1488\u001b[0m \u001b[43m            \u001b[49m\u001b[38;5;241;43m*\u001b[39;49m\u001b[38;5;28;43mmap\u001b[39;49m\u001b[43m(\u001b[49m\u001b[43msanitize_sequence\u001b[49m\u001b[43m,\u001b[49m\u001b[43m \u001b[49m\u001b[43margs\u001b[49m\u001b[43m)\u001b[49m\u001b[43m,\u001b[49m\n\u001b[0;32m   1489\u001b[0m \u001b[43m            \u001b[49m\u001b[38;5;241;43m*\u001b[39;49m\u001b[38;5;241;43m*\u001b[39;49m\u001b[43m{\u001b[49m\u001b[43mk\u001b[49m\u001b[43m:\u001b[49m\u001b[43m \u001b[49m\u001b[43msanitize_sequence\u001b[49m\u001b[43m(\u001b[49m\u001b[43mv\u001b[49m\u001b[43m)\u001b[49m\u001b[43m \u001b[49m\u001b[38;5;28;43;01mfor\u001b[39;49;00m\u001b[43m \u001b[49m\u001b[43mk\u001b[49m\u001b[43m,\u001b[49m\u001b[43m \u001b[49m\u001b[43mv\u001b[49m\u001b[43m \u001b[49m\u001b[38;5;129;43;01min\u001b[39;49;00m\u001b[43m \u001b[49m\u001b[43mkwargs\u001b[49m\u001b[38;5;241;43m.\u001b[39;49m\u001b[43mitems\u001b[49m\u001b[43m(\u001b[49m\u001b[43m)\u001b[49m\u001b[43m}\u001b[49m\u001b[43m)\u001b[49m\n\u001b[0;32m   1491\u001b[0m     bound \u001b[38;5;241m=\u001b[39m new_sig\u001b[38;5;241m.\u001b[39mbind(ax, \u001b[38;5;241m*\u001b[39margs, \u001b[38;5;241m*\u001b[39m\u001b[38;5;241m*\u001b[39mkwargs)\n\u001b[0;32m   1492\u001b[0m     auto_label \u001b[38;5;241m=\u001b[39m (bound\u001b[38;5;241m.\u001b[39marguments\u001b[38;5;241m.\u001b[39mget(label_namer)\n\u001b[0;32m   1493\u001b[0m                   \u001b[38;5;129;01mor\u001b[39;00m bound\u001b[38;5;241m.\u001b[39mkwargs\u001b[38;5;241m.\u001b[39mget(label_namer))\n",
      "File \u001b[1;32mc:\\Users\\dusty\\AppData\\Local\\Programs\\Python\\Python311\\Lib\\site-packages\\matplotlib\\axes\\_axes.py:6914\u001b[0m, in \u001b[0;36mAxes.hist\u001b[1;34m(self, x, bins, range, density, weights, cumulative, bottom, histtype, align, orientation, rwidth, log, color, label, stacked, **kwargs)\u001b[0m\n\u001b[0;32m   6911\u001b[0m     stacked \u001b[38;5;241m=\u001b[39m \u001b[38;5;28;01mTrue\u001b[39;00m\n\u001b[0;32m   6913\u001b[0m \u001b[38;5;66;03m# Massage 'x' for processing.\u001b[39;00m\n\u001b[1;32m-> 6914\u001b[0m x \u001b[38;5;241m=\u001b[39m \u001b[43mcbook\u001b[49m\u001b[38;5;241;43m.\u001b[39;49m\u001b[43m_reshape_2D\u001b[49m\u001b[43m(\u001b[49m\u001b[43mx\u001b[49m\u001b[43m,\u001b[49m\u001b[43m \u001b[49m\u001b[38;5;124;43m'\u001b[39;49m\u001b[38;5;124;43mx\u001b[39;49m\u001b[38;5;124;43m'\u001b[39;49m\u001b[43m)\u001b[49m\n\u001b[0;32m   6915\u001b[0m nx \u001b[38;5;241m=\u001b[39m \u001b[38;5;28mlen\u001b[39m(x)  \u001b[38;5;66;03m# number of datasets\u001b[39;00m\n\u001b[0;32m   6917\u001b[0m \u001b[38;5;66;03m# Process unit information.  _process_unit_info sets the unit and\u001b[39;00m\n\u001b[0;32m   6918\u001b[0m \u001b[38;5;66;03m# converts the first dataset; then we convert each following dataset\u001b[39;00m\n\u001b[0;32m   6919\u001b[0m \u001b[38;5;66;03m# one at a time.\u001b[39;00m\n",
      "File \u001b[1;32mc:\\Users\\dusty\\AppData\\Local\\Programs\\Python\\Python311\\Lib\\site-packages\\matplotlib\\cbook.py:1470\u001b[0m, in \u001b[0;36m_reshape_2D\u001b[1;34m(X, name)\u001b[0m\n\u001b[0;32m   1466\u001b[0m     result\u001b[38;5;241m.\u001b[39mappend(xi\u001b[38;5;241m.\u001b[39mreshape(\u001b[38;5;241m-\u001b[39m\u001b[38;5;241m1\u001b[39m))\n\u001b[0;32m   1468\u001b[0m \u001b[38;5;28;01mif\u001b[39;00m is_1d:\n\u001b[0;32m   1469\u001b[0m     \u001b[38;5;66;03m# 1D array of scalars: directly return it.\u001b[39;00m\n\u001b[1;32m-> 1470\u001b[0m     \u001b[38;5;28;01mreturn\u001b[39;00m [\u001b[43mnp\u001b[49m\u001b[38;5;241;43m.\u001b[39;49m\u001b[43mreshape\u001b[49m\u001b[43m(\u001b[49m\u001b[43mresult\u001b[49m\u001b[43m,\u001b[49m\u001b[43m \u001b[49m\u001b[38;5;241;43m-\u001b[39;49m\u001b[38;5;241;43m1\u001b[39;49m\u001b[43m)\u001b[49m]\n\u001b[0;32m   1471\u001b[0m \u001b[38;5;28;01melse\u001b[39;00m:\n\u001b[0;32m   1472\u001b[0m     \u001b[38;5;66;03m# 2D array, or 1D array of iterables: use flattened version.\u001b[39;00m\n\u001b[0;32m   1473\u001b[0m     \u001b[38;5;28;01mreturn\u001b[39;00m result\n",
      "File \u001b[1;32mc:\\Users\\dusty\\AppData\\Local\\Programs\\Python\\Python311\\Lib\\site-packages\\numpy\\core\\fromnumeric.py:285\u001b[0m, in \u001b[0;36mreshape\u001b[1;34m(a, newshape, order)\u001b[0m\n\u001b[0;32m    200\u001b[0m \u001b[38;5;129m@array_function_dispatch\u001b[39m(_reshape_dispatcher)\n\u001b[0;32m    201\u001b[0m \u001b[38;5;28;01mdef\u001b[39;00m \u001b[38;5;21mreshape\u001b[39m(a, newshape, order\u001b[38;5;241m=\u001b[39m\u001b[38;5;124m'\u001b[39m\u001b[38;5;124mC\u001b[39m\u001b[38;5;124m'\u001b[39m):\n\u001b[0;32m    202\u001b[0m \u001b[38;5;250m    \u001b[39m\u001b[38;5;124;03m\"\"\"\u001b[39;00m\n\u001b[0;32m    203\u001b[0m \u001b[38;5;124;03m    Gives a new shape to an array without changing its data.\u001b[39;00m\n\u001b[0;32m    204\u001b[0m \n\u001b[1;32m   (...)\u001b[0m\n\u001b[0;32m    283\u001b[0m \u001b[38;5;124;03m           [5, 6]])\u001b[39;00m\n\u001b[0;32m    284\u001b[0m \u001b[38;5;124;03m    \"\"\"\u001b[39;00m\n\u001b[1;32m--> 285\u001b[0m     \u001b[38;5;28;01mreturn\u001b[39;00m \u001b[43m_wrapfunc\u001b[49m\u001b[43m(\u001b[49m\u001b[43ma\u001b[49m\u001b[43m,\u001b[49m\u001b[43m \u001b[49m\u001b[38;5;124;43m'\u001b[39;49m\u001b[38;5;124;43mreshape\u001b[39;49m\u001b[38;5;124;43m'\u001b[39;49m\u001b[43m,\u001b[49m\u001b[43m \u001b[49m\u001b[43mnewshape\u001b[49m\u001b[43m,\u001b[49m\u001b[43m \u001b[49m\u001b[43morder\u001b[49m\u001b[38;5;241;43m=\u001b[39;49m\u001b[43morder\u001b[49m\u001b[43m)\u001b[49m\n",
      "File \u001b[1;32mc:\\Users\\dusty\\AppData\\Local\\Programs\\Python\\Python311\\Lib\\site-packages\\numpy\\core\\fromnumeric.py:56\u001b[0m, in \u001b[0;36m_wrapfunc\u001b[1;34m(obj, method, *args, **kwds)\u001b[0m\n\u001b[0;32m     54\u001b[0m bound \u001b[38;5;241m=\u001b[39m \u001b[38;5;28mgetattr\u001b[39m(obj, method, \u001b[38;5;28;01mNone\u001b[39;00m)\n\u001b[0;32m     55\u001b[0m \u001b[38;5;28;01mif\u001b[39;00m bound \u001b[38;5;129;01mis\u001b[39;00m \u001b[38;5;28;01mNone\u001b[39;00m:\n\u001b[1;32m---> 56\u001b[0m     \u001b[38;5;28;01mreturn\u001b[39;00m \u001b[43m_wrapit\u001b[49m\u001b[43m(\u001b[49m\u001b[43mobj\u001b[49m\u001b[43m,\u001b[49m\u001b[43m \u001b[49m\u001b[43mmethod\u001b[49m\u001b[43m,\u001b[49m\u001b[43m \u001b[49m\u001b[38;5;241;43m*\u001b[39;49m\u001b[43margs\u001b[49m\u001b[43m,\u001b[49m\u001b[43m \u001b[49m\u001b[38;5;241;43m*\u001b[39;49m\u001b[38;5;241;43m*\u001b[39;49m\u001b[43mkwds\u001b[49m\u001b[43m)\u001b[49m\n\u001b[0;32m     58\u001b[0m \u001b[38;5;28;01mtry\u001b[39;00m:\n\u001b[0;32m     59\u001b[0m     \u001b[38;5;28;01mreturn\u001b[39;00m bound(\u001b[38;5;241m*\u001b[39margs, \u001b[38;5;241m*\u001b[39m\u001b[38;5;241m*\u001b[39mkwds)\n",
      "File \u001b[1;32mc:\\Users\\dusty\\AppData\\Local\\Programs\\Python\\Python311\\Lib\\site-packages\\numpy\\core\\fromnumeric.py:45\u001b[0m, in \u001b[0;36m_wrapit\u001b[1;34m(obj, method, *args, **kwds)\u001b[0m\n\u001b[0;32m     43\u001b[0m \u001b[38;5;28;01mexcept\u001b[39;00m \u001b[38;5;167;01mAttributeError\u001b[39;00m:\n\u001b[0;32m     44\u001b[0m     wrap \u001b[38;5;241m=\u001b[39m \u001b[38;5;28;01mNone\u001b[39;00m\n\u001b[1;32m---> 45\u001b[0m result \u001b[38;5;241m=\u001b[39m \u001b[38;5;28mgetattr\u001b[39m(asarray(obj), method)(\u001b[38;5;241m*\u001b[39margs, \u001b[38;5;241m*\u001b[39m\u001b[38;5;241m*\u001b[39mkwds)\n\u001b[0;32m     46\u001b[0m \u001b[38;5;28;01mif\u001b[39;00m wrap:\n\u001b[0;32m     47\u001b[0m     \u001b[38;5;28;01mif\u001b[39;00m \u001b[38;5;129;01mnot\u001b[39;00m \u001b[38;5;28misinstance\u001b[39m(result, mu\u001b[38;5;241m.\u001b[39mndarray):\n",
      "\u001b[1;31mKeyboardInterrupt\u001b[0m: "
     ]
    },
    {
     "data": {
      "image/png": "[encoded data removed]",
      "text/plain": [
       "<Figure size 640x480 with 1 Axes>"
      ]
     },
     "metadata": {},
     "output_type": "display_data"
    }
   ],
   "source": [
    "img = img_as_float(io.imread('quadrat_photos_raw/20240531_103740.jpg'))\n",
    "\n",
    "# Try histogram to see if this method is necessary yet. \n",
    "plt.hist(img.flat, bins=100, range=(0,1)) # Range is 0-1 because this is a float image"
   ]
  },
  {
   "cell_type": "code",
   "execution_count": null,
   "metadata": {},
   "outputs": [],
   "source": [
    "# Try denoising too\n"
   ]
  }
 ],
 "metadata": {
  "kernelspec": {
   "display_name": "Python 3",
   "language": "python",
   "name": "python3"
  },
  "language_info": {
   "codemirror_mode": {
    "name": "ipython",
    "version": 3
   },
   "file_extension": ".py",
   "mimetype": "text/x-python",
   "name": "python",
   "nbconvert_exporter": "python",
   "pygments_lexer": "ipython3",
   "version": "3.11.5"
  }
 },
 "nbformat": 4,
 "nbformat_minor": 2
}
