{
 "cells": [
  {
   "cell_type": "markdown",
   "metadata": {},
   "source": [
    "The purpose of this notebook is to try all of the denoising methods and see which one works best. Use the following for loop to test each method on every image in quadrat_photos_subset_for_debugging."
   ]
  },
  {
   "cell_type": "code",
   "execution_count": 2,
   "metadata": {},
   "outputs": [],
   "source": [
    "import glob\n",
    "import cv2\n",
    "import numpy as np\n",
    "from matplotlib import pyplot as plt\n",
    "\n",
    "# Define a path to the folder that contains the photos I want to test with loops\n",
    "path = 'quadrat_photos_subset_for_debugging/*'"
   ]
  },
  {
   "cell_type": "code",
   "execution_count": 13,
   "metadata": {},
   "outputs": [],
   "source": [
    "for i, file in enumerate(glob.glob(path)):\n",
    "    # Read in images in color\n",
    "    img = cv2.imread(file)\n",
    "\n",
    "    # Reduce the image size by half because the windows are too huge.\n",
    "    img = cv2.resize(img, (0, 0), fx=.5, fy=.5)\n",
    "\n",
    "    # Show each image in its own window.\n",
    "    cv2.imshow(f'image {i}', img)\n",
    "\n",
    "# Allows you to close all windows (individually, or close all with ctrl+w)\n",
    "cv2.waitKey(0)\n",
    "cv2.destroyAllWindows()"
   ]
  },
  {
   "cell_type": "markdown",
   "metadata": {},
   "source": [
    "## cv2"
   ]
  },
  {
   "cell_type": "markdown",
   "metadata": {},
   "source": [
    "### 2D custom filter"
   ]
  },
  {
   "cell_type": "code",
   "execution_count": 14,
   "metadata": {},
   "outputs": [],
   "source": [
    "# Start convolution by defining a kernel - a 25x25 matrix of all ones. \n",
    "kernel = np.ones((3,3), np.float32) / 9\n",
    "# Alternate option is (5,5) and divided by 25. It makes the images even more blurry.\n",
    "\n",
    "\n",
    "for i, file in enumerate(glob.glob(path)):\n",
    "    # Read in images in color\n",
    "    img = cv2.imread(file)\n",
    "\n",
    "    # Reduce the image size by half because the windows are too huge.\n",
    "    img = cv2.resize(img, (0, 0), fx=.5, fy=.5)\n",
    "\n",
    "    # Apply 2D custom filter\n",
    "    filter_2D = cv2.filter2D(img, -1, kernel)\n",
    "\n",
    "    # Show each image in its own window.\n",
    "    cv2.imshow(f'image {i}', filter_2D)\n",
    "\n",
    "# Allows you to close all windows (individually, or close all with ctrl+w)\n",
    "cv2.waitKey(0)\n",
    "cv2.destroyAllWindows()"
   ]
  },
  {
   "cell_type": "markdown",
   "metadata": {},
   "source": [
    "### Blur"
   ]
  },
  {
   "cell_type": "code",
   "execution_count": 15,
   "metadata": {},
   "outputs": [],
   "source": [
    "\n",
    "for i, file in enumerate(glob.glob(path)):\n",
    "    # Read in images in color\n",
    "    img = cv2.imread(file)\n",
    "\n",
    "    # Reduce the image size by half because the windows are too huge.\n",
    "    img = cv2.resize(img, (0, 0), fx=.5, fy=.5)\n",
    "\n",
    "    # Apply blur filter\n",
    "    img_blur = cv2.blur(img, (3,3))\n",
    "\n",
    "    # Show each image in its own window.\n",
    "    cv2.imshow(f'image {i}', img_blur)\n",
    "\n",
    "# Allows you to close all windows (individually, or close all with ctrl+w)\n",
    "cv2.waitKey(0)\n",
    "cv2.destroyAllWindows()"
   ]
  },
  {
   "cell_type": "markdown",
   "metadata": {},
   "source": [
    "### Gaussian Blur"
   ]
  },
  {
   "cell_type": "code",
   "execution_count": 16,
   "metadata": {},
   "outputs": [],
   "source": [
    "\n",
    "for i, file in enumerate(glob.glob(path)):\n",
    "    # Read in images in color\n",
    "    img = cv2.imread(file)\n",
    "\n",
    "    # Reduce the image size by half because the windows are too huge.\n",
    "    img = cv2.resize(img, (0, 0), fx=.5, fy=.5)\n",
    "\n",
    "    # Apply gaussian blur filter\n",
    "    img_gaussian_blur = cv2.GaussianBlur(img, (3,3), 0)\n",
    "\n",
    "    # Show each image in its own window.\n",
    "    cv2.imshow(f'image {i}', img_gaussian_blur)\n",
    "\n",
    "# Allows you to close all windows (individually, or close all with ctrl+w)\n",
    "cv2.waitKey(0)\n",
    "cv2.destroyAllWindows()"
   ]
  },
  {
   "cell_type": "markdown",
   "metadata": {},
   "source": [
    "### Median Filter\n",
    "(designed to blur but maintain edges)"
   ]
  },
  {
   "cell_type": "code",
   "execution_count": 17,
   "metadata": {},
   "outputs": [],
   "source": [
    "\n",
    "for i, file in enumerate(glob.glob(path)):\n",
    "    # Read in images in color\n",
    "    img = cv2.imread(file)\n",
    "\n",
    "    # Reduce the image size by half because the windows are too huge.\n",
    "    img = cv2.resize(img, (0, 0), fx=.5, fy=.5)\n",
    "\n",
    "    # Apply median filter\n",
    "    median_filtered_img = cv2.medianBlur(img, 3)\n",
    "\n",
    "    # Show each image in its own window.\n",
    "    cv2.imshow(f'image {i}', median_filtered_img)\n",
    "\n",
    "# Allows you to close all windows (individually, or close all with ctrl+w)\n",
    "cv2.waitKey(0)\n",
    "cv2.destroyAllWindows()"
   ]
  },
  {
   "cell_type": "markdown",
   "metadata": {},
   "source": [
    "### Bilateral filter\n",
    "(designed to blur but maintain edges - generally better than median)"
   ]
  },
  {
   "cell_type": "code",
   "execution_count": 18,
   "metadata": {},
   "outputs": [],
   "source": [
    "\n",
    "for i, file in enumerate(glob.glob(path)):\n",
    "    # Read in images in color\n",
    "    img = cv2.imread(file)\n",
    "\n",
    "    # Reduce the image size by half because the windows are too huge.\n",
    "    img = cv2.resize(img, (0, 0), fx=.5, fy=.5)\n",
    "\n",
    "    # Apply bilateral filter\n",
    "    bilateral_blurred_img = cv2.bilateralFilter(img, d=9, sigmaColor=75, sigmaSpace=75)\n",
    "\n",
    "    # Show each image in its own window.\n",
    "    cv2.imshow(f'image {i}', bilateral_blurred_img)\n",
    "\n",
    "# Allows you to close all windows (individually, or close all with ctrl+w)\n",
    "cv2.waitKey(0)\n",
    "cv2.destroyAllWindows()"
   ]
  },
  {
   "cell_type": "markdown",
   "metadata": {},
   "source": [
    "### Non-Local means\n",
    "Very smudgy, and seems to create artifacts. But seems pretty competent at isolating shapes. It appears to be showing the green and everything else is black and white, or the colors are semi-inverted (yellow flowers appearing blue). What's going on here?"
   ]
  },
  {
   "cell_type": "markdown",
   "metadata": {},
   "source": [
    "NL means documentation:\n",
    "https://pydocs.github.io/p/skimage/0.17.2/api/skimage.restoration.non_local_means.denoise_nl_means\n",
    "https://scikit-image.org/docs/stable/auto_examples/filters/plot_nonlocal_means.html"
   ]
  },
  {
   "cell_type": "code",
   "execution_count": 3,
   "metadata": {},
   "outputs": [],
   "source": [
    "from skimage.restoration import denoise_nl_means, estimate_sigma\n",
    "from skimage import img_as_float, img_as_ubyte"
   ]
  },
  {
   "cell_type": "code",
   "execution_count": 23,
   "metadata": {},
   "outputs": [],
   "source": [
    "# BEWARE THIS FOR LOOP IT RUNS FOR A VERY LONG TIME. I'm saving the results in the folder nl_means_denoising_results so I don't have to run it again.\n",
    "\n",
    "for i, file in enumerate(glob.glob(path)):\n",
    "    # Read in images in color\n",
    "    img = cv2.imread(file)\n",
    "\n",
    "    # Reduce the image size by half because the windows are too huge.\n",
    "    img = cv2.resize(img, (0, 0), fx=.5, fy=.5)\n",
    "\n",
    "    # Convert image to a float - necessary here because math will be done on the pixel values\n",
    "    img = img_as_float(img)\n",
    "\n",
    "    # estimate the noise standard deviation from the noisy image\n",
    "    sigma_est = np.mean(estimate_sigma(img, channel_axis=-1))\n",
    "\n",
    "    # Denoise the image based on the sigma that was just found\n",
    "    denoised = denoise_nl_means(img, h=1.15 * sigma_est, fast_mode=True, patch_size=5, patch_distance=3)\n",
    "\n",
    "    # Convert it back to ubyte\n",
    "    denoised_ubyte = img_as_ubyte(denoised)\n",
    "\n",
    "    plt.imsave(f'nl_means_denoising_results/image_{i}.jpg', denoised_ubyte)\n"
   ]
  },
  {
   "cell_type": "markdown",
   "metadata": {},
   "source": [
    "I'm going to use the same method on a photo with the spyder color checker."
   ]
  },
  {
   "cell_type": "code",
   "execution_count": 10,
   "metadata": {},
   "outputs": [
    {
     "data": {
      "text/plain": [
       "(array([  9282.,  44016.,  42026.,  81373.,  66011., 109282.,  75116.,\n",
       "        115720.,  79219., 119460., 118350.,  77555., 110549.,  71212.,\n",
       "        107493.,  69857., 103994.,  67651., 100133.,  64917.,  94213.,\n",
       "         94408.,  62220.,  91480.,  60433.,  89324.,  59524.,  89624.,\n",
       "         59310.,  88359.,  88480.,  59084.,  89130.,  59645.,  89683.,\n",
       "         60112.,  90408.,  60580.,  93188.,  63599.,  98630., 103110.,\n",
       "         70156., 102458.,  65893.,  99179.,  66398.,  98313.,  65470.,\n",
       "         96090.,  94335.,  61851.,  90304.,  58386.,  86406.,  57434.,\n",
       "         82731.,  54395.,  80800.,  53465.,  79092.,  78804.,  52117.,\n",
       "         77849.,  52131.,  77375.,  50856.,  74789.,  49250.,  73142.,\n",
       "         71916.,  47307.,  70643.,  46397.,  68830.,  46051.,  67947.,\n",
       "         46307.,  76605.,  57575.,  85885.,  72674.,  44894.,  62486.,\n",
       "         37160.,  50508.,  29965.,  43211.,  32454.,  48355.,  51962.,\n",
       "         44902.,  68117.,  38989.,  56271.,  41480.,  54829.,  40823.,\n",
       "         66795.,  27193.]),\n",
       " array([  0.  ,   2.55,   5.1 ,   7.65,  10.2 ,  12.75,  15.3 ,  17.85,\n",
       "         20.4 ,  22.95,  25.5 ,  28.05,  30.6 ,  33.15,  35.7 ,  38.25,\n",
       "         40.8 ,  43.35,  45.9 ,  48.45,  51.  ,  53.55,  56.1 ,  58.65,\n",
       "         61.2 ,  63.75,  66.3 ,  68.85,  71.4 ,  73.95,  76.5 ,  79.05,\n",
       "         81.6 ,  84.15,  86.7 ,  89.25,  91.8 ,  94.35,  96.9 ,  99.45,\n",
       "        102.  , 104.55, 107.1 , 109.65, 112.2 , 114.75, 117.3 , 119.85,\n",
       "        122.4 , 124.95, 127.5 , 130.05, 132.6 , 135.15, 137.7 , 140.25,\n",
       "        142.8 , 145.35, 147.9 , 150.45, 153.  , 155.55, 158.1 , 160.65,\n",
       "        163.2 , 165.75, 168.3 , 170.85, 173.4 , 175.95, 178.5 , 181.05,\n",
       "        183.6 , 186.15, 188.7 , 191.25, 193.8 , 196.35, 198.9 , 201.45,\n",
       "        204.  , 206.55, 209.1 , 211.65, 214.2 , 216.75, 219.3 , 221.85,\n",
       "        224.4 , 226.95, 229.5 , 232.05, 234.6 , 237.15, 239.7 , 242.25,\n",
       "        244.8 , 247.35, 249.9 , 252.45, 255.  ]),\n",
       " <BarContainer object of 100 artists>)"
      ]
     },
     "execution_count": 10,
     "metadata": {},
     "output_type": "execute_result"
    },
    {
     "data": {
      "image/png": "[encoded data removed]",
      "text/plain": [
       "<Figure size 640x480 with 1 Axes>"
      ]
     },
     "metadata": {},
     "output_type": "display_data"
    }
   ],
   "source": [
    "img = cv2.imread('quadrat_photos_raw/20240530_164439.jpg')\n",
    "\n",
    "# Reduce the image size by half because the windows are too huge.\n",
    "img = cv2.resize(img, (0, 0), fx=.5, fy=.5)\n",
    "\n",
    "# Convert image to a float \n",
    "img = img_as_float(img)\n",
    "\n",
    "# estimate the noise standard deviation from the noisy image\n",
    "sigma_est = np.mean(estimate_sigma(img, channel_axis=-1))\n",
    "\n",
    "# Denoise the image based on the sigma that was just found\n",
    "denoised = denoise_nl_means(img, h=1.15 * sigma_est, fast_mode=True, patch_size=5, patch_distance=3)\n",
    "\n",
    "# Convert it back to ubyte\n",
    "denoised_ubyte = img_as_ubyte(denoised)\n",
    "\n",
    "# Save the image in the results folder\n",
    "# plt.imsave(f'nl_means_denoising_results/image_with_color_checker.jpg', denoised_ubyte)\n",
    "\n"
   ]
  },
  {
   "cell_type": "markdown",
   "metadata": {},
   "source": [
    "Make a histogram showing the hue, saturation, and value distributions - before and after denoising"
   ]
  },
  {
   "cell_type": "code",
   "execution_count": 12,
   "metadata": {},
   "outputs": [
    {
     "data": {
      "text/plain": [
       "(array([4.35286e+05, 0.00000e+00, 2.00000e+00, 6.00000e+00, 1.50000e+01,\n",
       "        1.70000e+01, 6.85000e+02, 3.10000e+01, 3.69200e+03, 4.62000e+02,\n",
       "        2.37560e+04, 1.12200e+03, 4.77100e+03, 2.99100e+03, 1.57800e+03,\n",
       "        1.14921e+05, 1.31400e+03, 1.51400e+03, 1.43300e+03, 4.49000e+02,\n",
       "        1.77560e+04, 1.23000e+02, 6.40000e+01, 1.25600e+03, 1.04000e+02,\n",
       "        1.80000e+01, 2.80000e+01, 2.70000e+01, 2.40000e+01, 1.55000e+02,\n",
       "        2.47089e+05, 5.00000e+00, 6.00000e+00, 4.00000e+00, 1.00000e+01,\n",
       "        2.00000e+01, 3.59000e+02, 3.00000e+00, 3.64600e+03, 3.40000e+01,\n",
       "        1.00500e+04, 3.60000e+01, 3.33000e+03, 5.47000e+02, 7.00000e+00,\n",
       "        3.83720e+04, 6.00000e+01, 3.40100e+03, 5.45000e+03, 3.34200e+03,\n",
       "        1.40970e+04, 7.26400e+03, 2.90600e+03, 1.78760e+04, 1.49410e+04,\n",
       "        2.01410e+04, 3.08050e+04, 4.76200e+04, 8.19730e+04, 5.16640e+04,\n",
       "        1.59396e+05, 1.38450e+04, 1.02510e+04, 8.29700e+03, 6.54500e+03,\n",
       "        5.29700e+03, 4.68200e+03, 2.87500e+03, 5.02200e+03, 3.30100e+03,\n",
       "        5.17900e+03, 2.80200e+03, 3.17700e+03, 2.93700e+03, 2.50600e+03,\n",
       "        2.22550e+04, 2.49800e+03, 2.74000e+03, 2.99700e+03, 2.21800e+03,\n",
       "        5.20800e+03, 2.22300e+03, 1.78200e+03, 2.90700e+03, 2.03000e+03,\n",
       "        1.70400e+03, 1.45900e+03, 9.79000e+02, 8.55000e+02, 0.00000e+00,\n",
       "        3.53000e+02, 2.76481e+05, 3.60000e+02, 8.27000e+02, 1.07600e+03,\n",
       "        9.25000e+02, 9.84000e+02, 1.23100e+03, 1.22100e+03, 4.34000e+03,\n",
       "        1.65760e+04, 7.80090e+04, 2.23380e+04, 8.06100e+03, 1.00050e+04,\n",
       "        1.24050e+04, 1.18580e+05, 3.51300e+03, 2.45600e+03, 2.62800e+03,\n",
       "        8.11000e+02, 9.34800e+03, 2.97000e+02, 2.90000e+01, 1.77500e+03,\n",
       "        4.57000e+02, 2.50000e+01, 7.00000e+00, 5.60000e+01, 2.12000e+02,\n",
       "        1.93000e+02, 1.42383e+05, 1.30000e+01, 2.70000e+01, 1.40000e+01,\n",
       "        5.00000e+00, 1.78000e+02, 2.07000e+02, 1.46000e+02, 6.43000e+02,\n",
       "        1.25000e+02, 1.01300e+03, 1.03000e+02, 3.78000e+02, 2.21000e+02,\n",
       "        9.00000e+01, 1.37800e+04, 4.50000e+01, 8.30000e+01, 8.80000e+01,\n",
       "        4.30000e+01, 1.72000e+02, 5.30000e+01, 3.40000e+01, 8.70000e+01,\n",
       "        7.00000e+01, 5.60000e+01, 6.00000e+01, 5.20000e+01, 6.10000e+01,\n",
       "        5.90000e+01, 7.11840e+04, 5.38000e+02, 5.40000e+01, 3.20000e+01,\n",
       "        3.90000e+01, 4.10000e+01, 3.40000e+01, 2.01000e+02, 3.27000e+02,\n",
       "        1.30000e+02, 1.87000e+02, 1.30000e+01, 1.10000e+01, 3.00000e+00,\n",
       "        1.00000e+00, 2.31950e+04, 2.00000e+00, 0.00000e+00, 1.20000e+01,\n",
       "        0.00000e+00, 3.31800e+03, 0.00000e+00, 1.00000e+00, 9.90000e+01,\n",
       "        3.00000e+00, 0.00000e+00, 1.00000e+00, 0.00000e+00, 1.00000e+00]),\n",
       " array([  0.        ,   0.98888889,   1.97777778,   2.96666667,\n",
       "          3.95555556,   4.94444444,   5.93333333,   6.92222222,\n",
       "          7.91111111,   8.9       ,   9.88888889,  10.87777778,\n",
       "         11.86666667,  12.85555556,  13.84444444,  14.83333333,\n",
       "         15.82222222,  16.81111111,  17.8       ,  18.78888889,\n",
       "         19.77777778,  20.76666667,  21.75555556,  22.74444444,\n",
       "         23.73333333,  24.72222222,  25.71111111,  26.7       ,\n",
       "         27.68888889,  28.67777778,  29.66666667,  30.65555556,\n",
       "         31.64444444,  32.63333333,  33.62222222,  34.61111111,\n",
       "         35.6       ,  36.58888889,  37.57777778,  38.56666667,\n",
       "         39.55555556,  40.54444444,  41.53333333,  42.52222222,\n",
       "         43.51111111,  44.5       ,  45.48888889,  46.47777778,\n",
       "         47.46666667,  48.45555556,  49.44444444,  50.43333333,\n",
       "         51.42222222,  52.41111111,  53.4       ,  54.38888889,\n",
       "         55.37777778,  56.36666667,  57.35555556,  58.34444444,\n",
       "         59.33333333,  60.32222222,  61.31111111,  62.3       ,\n",
       "         63.28888889,  64.27777778,  65.26666667,  66.25555556,\n",
       "         67.24444444,  68.23333333,  69.22222222,  70.21111111,\n",
       "         71.2       ,  72.18888889,  73.17777778,  74.16666667,\n",
       "         75.15555556,  76.14444444,  77.13333333,  78.12222222,\n",
       "         79.11111111,  80.1       ,  81.08888889,  82.07777778,\n",
       "         83.06666667,  84.05555556,  85.04444444,  86.03333333,\n",
       "         87.02222222,  88.01111111,  89.        ,  89.98888889,\n",
       "         90.97777778,  91.96666667,  92.95555556,  93.94444444,\n",
       "         94.93333333,  95.92222222,  96.91111111,  97.9       ,\n",
       "         98.88888889,  99.87777778, 100.86666667, 101.85555556,\n",
       "        102.84444444, 103.83333333, 104.82222222, 105.81111111,\n",
       "        106.8       , 107.78888889, 108.77777778, 109.76666667,\n",
       "        110.75555556, 111.74444444, 112.73333333, 113.72222222,\n",
       "        114.71111111, 115.7       , 116.68888889, 117.67777778,\n",
       "        118.66666667, 119.65555556, 120.64444444, 121.63333333,\n",
       "        122.62222222, 123.61111111, 124.6       , 125.58888889,\n",
       "        126.57777778, 127.56666667, 128.55555556, 129.54444444,\n",
       "        130.53333333, 131.52222222, 132.51111111, 133.5       ,\n",
       "        134.48888889, 135.47777778, 136.46666667, 137.45555556,\n",
       "        138.44444444, 139.43333333, 140.42222222, 141.41111111,\n",
       "        142.4       , 143.38888889, 144.37777778, 145.36666667,\n",
       "        146.35555556, 147.34444444, 148.33333333, 149.32222222,\n",
       "        150.31111111, 151.3       , 152.28888889, 153.27777778,\n",
       "        154.26666667, 155.25555556, 156.24444444, 157.23333333,\n",
       "        158.22222222, 159.21111111, 160.2       , 161.18888889,\n",
       "        162.17777778, 163.16666667, 164.15555556, 165.14444444,\n",
       "        166.13333333, 167.12222222, 168.11111111, 169.1       ,\n",
       "        170.08888889, 171.07777778, 172.06666667, 173.05555556,\n",
       "        174.04444444, 175.03333333, 176.02222222, 177.01111111,\n",
       "        178.        ]),\n",
       " <BarContainer object of 180 artists>)"
      ]
     },
     "execution_count": 12,
     "metadata": {},
     "output_type": "execute_result"
    },
    {
     "data": {
      "image/png": "[encoded data removed]",
      "text/plain": [
       "<Figure size 640x480 with 1 Axes>"
      ]
     },
     "metadata": {},
     "output_type": "display_data"
    }
   ],
   "source": [
    "# Convert image to HSV\n",
    "img = cv2.cvtColor(denoised_ubyte, cv2.COLOR_RGB2HSV)\n",
    "\n",
    "# Split the HSV image into its channels\n",
    "hue, saturation, value = cv2.split(img)\n",
    "\n",
    "# Make a histogram for each channel\n",
    "plt.hist(value.flatten(), bins=256, color='gray', alpha=.6, label='Value')\n",
    "plt.hist(saturation.flatten(), bins=256, color='teal', alpha=.6, label='Saturation')\n",
    "plt.hist(hue.flatten(), bins=180, color='magenta', alpha=.6, label='Hue')\n"
   ]
  },
  {
   "cell_type": "code",
   "execution_count": 11,
   "metadata": {},
   "outputs": [
    {
     "data": {
      "text/plain": [
       "(array([4.35286e+05, 0.00000e+00, 2.00000e+00, 6.00000e+00, 1.50000e+01,\n",
       "        1.70000e+01, 6.85000e+02, 3.10000e+01, 3.69200e+03, 4.62000e+02,\n",
       "        2.37560e+04, 1.12200e+03, 4.77100e+03, 2.99100e+03, 1.57800e+03,\n",
       "        1.14921e+05, 1.31400e+03, 1.51400e+03, 1.43300e+03, 4.49000e+02,\n",
       "        1.77560e+04, 1.23000e+02, 6.40000e+01, 1.25600e+03, 1.04000e+02,\n",
       "        1.80000e+01, 2.80000e+01, 2.70000e+01, 2.40000e+01, 1.55000e+02,\n",
       "        2.47089e+05, 5.00000e+00, 6.00000e+00, 4.00000e+00, 1.00000e+01,\n",
       "        2.00000e+01, 3.59000e+02, 3.00000e+00, 3.64600e+03, 3.40000e+01,\n",
       "        1.00500e+04, 3.60000e+01, 3.33000e+03, 5.47000e+02, 7.00000e+00,\n",
       "        3.83720e+04, 6.00000e+01, 3.40100e+03, 5.45000e+03, 3.34200e+03,\n",
       "        1.40970e+04, 7.26400e+03, 2.90600e+03, 1.78760e+04, 1.49410e+04,\n",
       "        2.01410e+04, 3.08050e+04, 4.76200e+04, 8.19730e+04, 5.16640e+04,\n",
       "        1.59396e+05, 1.38450e+04, 1.02510e+04, 8.29700e+03, 6.54500e+03,\n",
       "        5.29700e+03, 4.68200e+03, 2.87500e+03, 5.02200e+03, 3.30100e+03,\n",
       "        5.17900e+03, 2.80200e+03, 3.17700e+03, 2.93700e+03, 2.50600e+03,\n",
       "        2.22550e+04, 2.49800e+03, 2.74000e+03, 2.99700e+03, 2.21800e+03,\n",
       "        5.20800e+03, 2.22300e+03, 1.78200e+03, 2.90700e+03, 2.03000e+03,\n",
       "        1.70400e+03, 1.45900e+03, 9.79000e+02, 8.55000e+02, 0.00000e+00,\n",
       "        3.53000e+02, 2.76481e+05, 3.60000e+02, 8.27000e+02, 1.07600e+03,\n",
       "        9.25000e+02, 9.84000e+02, 1.23100e+03, 1.22100e+03, 4.34000e+03,\n",
       "        1.65760e+04, 7.80090e+04, 2.23380e+04, 8.06100e+03, 1.00050e+04,\n",
       "        1.24050e+04, 1.18580e+05, 3.51300e+03, 2.45600e+03, 2.62800e+03,\n",
       "        8.11000e+02, 9.34800e+03, 2.97000e+02, 2.90000e+01, 1.77500e+03,\n",
       "        4.57000e+02, 2.50000e+01, 7.00000e+00, 5.60000e+01, 2.12000e+02,\n",
       "        1.93000e+02, 1.42383e+05, 1.30000e+01, 2.70000e+01, 1.40000e+01,\n",
       "        5.00000e+00, 1.78000e+02, 2.07000e+02, 1.46000e+02, 6.43000e+02,\n",
       "        1.25000e+02, 1.01300e+03, 1.03000e+02, 3.78000e+02, 2.21000e+02,\n",
       "        9.00000e+01, 1.37800e+04, 4.50000e+01, 8.30000e+01, 8.80000e+01,\n",
       "        4.30000e+01, 1.72000e+02, 5.30000e+01, 3.40000e+01, 8.70000e+01,\n",
       "        7.00000e+01, 5.60000e+01, 6.00000e+01, 5.20000e+01, 6.10000e+01,\n",
       "        5.90000e+01, 7.11840e+04, 5.38000e+02, 5.40000e+01, 3.20000e+01,\n",
       "        3.90000e+01, 4.10000e+01, 3.40000e+01, 2.01000e+02, 3.27000e+02,\n",
       "        1.30000e+02, 1.87000e+02, 1.30000e+01, 1.10000e+01, 3.00000e+00,\n",
       "        1.00000e+00, 2.31950e+04, 2.00000e+00, 0.00000e+00, 1.20000e+01,\n",
       "        0.00000e+00, 3.31800e+03, 0.00000e+00, 1.00000e+00, 9.90000e+01,\n",
       "        3.00000e+00, 0.00000e+00, 1.00000e+00, 0.00000e+00, 1.00000e+00]),\n",
       " array([  0.        ,   0.98888889,   1.97777778,   2.96666667,\n",
       "          3.95555556,   4.94444444,   5.93333333,   6.92222222,\n",
       "          7.91111111,   8.9       ,   9.88888889,  10.87777778,\n",
       "         11.86666667,  12.85555556,  13.84444444,  14.83333333,\n",
       "         15.82222222,  16.81111111,  17.8       ,  18.78888889,\n",
       "         19.77777778,  20.76666667,  21.75555556,  22.74444444,\n",
       "         23.73333333,  24.72222222,  25.71111111,  26.7       ,\n",
       "         27.68888889,  28.67777778,  29.66666667,  30.65555556,\n",
       "         31.64444444,  32.63333333,  33.62222222,  34.61111111,\n",
       "         35.6       ,  36.58888889,  37.57777778,  38.56666667,\n",
       "         39.55555556,  40.54444444,  41.53333333,  42.52222222,\n",
       "         43.51111111,  44.5       ,  45.48888889,  46.47777778,\n",
       "         47.46666667,  48.45555556,  49.44444444,  50.43333333,\n",
       "         51.42222222,  52.41111111,  53.4       ,  54.38888889,\n",
       "         55.37777778,  56.36666667,  57.35555556,  58.34444444,\n",
       "         59.33333333,  60.32222222,  61.31111111,  62.3       ,\n",
       "         63.28888889,  64.27777778,  65.26666667,  66.25555556,\n",
       "         67.24444444,  68.23333333,  69.22222222,  70.21111111,\n",
       "         71.2       ,  72.18888889,  73.17777778,  74.16666667,\n",
       "         75.15555556,  76.14444444,  77.13333333,  78.12222222,\n",
       "         79.11111111,  80.1       ,  81.08888889,  82.07777778,\n",
       "         83.06666667,  84.05555556,  85.04444444,  86.03333333,\n",
       "         87.02222222,  88.01111111,  89.        ,  89.98888889,\n",
       "         90.97777778,  91.96666667,  92.95555556,  93.94444444,\n",
       "         94.93333333,  95.92222222,  96.91111111,  97.9       ,\n",
       "         98.88888889,  99.87777778, 100.86666667, 101.85555556,\n",
       "        102.84444444, 103.83333333, 104.82222222, 105.81111111,\n",
       "        106.8       , 107.78888889, 108.77777778, 109.76666667,\n",
       "        110.75555556, 111.74444444, 112.73333333, 113.72222222,\n",
       "        114.71111111, 115.7       , 116.68888889, 117.67777778,\n",
       "        118.66666667, 119.65555556, 120.64444444, 121.63333333,\n",
       "        122.62222222, 123.61111111, 124.6       , 125.58888889,\n",
       "        126.57777778, 127.56666667, 128.55555556, 129.54444444,\n",
       "        130.53333333, 131.52222222, 132.51111111, 133.5       ,\n",
       "        134.48888889, 135.47777778, 136.46666667, 137.45555556,\n",
       "        138.44444444, 139.43333333, 140.42222222, 141.41111111,\n",
       "        142.4       , 143.38888889, 144.37777778, 145.36666667,\n",
       "        146.35555556, 147.34444444, 148.33333333, 149.32222222,\n",
       "        150.31111111, 151.3       , 152.28888889, 153.27777778,\n",
       "        154.26666667, 155.25555556, 156.24444444, 157.23333333,\n",
       "        158.22222222, 159.21111111, 160.2       , 161.18888889,\n",
       "        162.17777778, 163.16666667, 164.15555556, 165.14444444,\n",
       "        166.13333333, 167.12222222, 168.11111111, 169.1       ,\n",
       "        170.08888889, 171.07777778, 172.06666667, 173.05555556,\n",
       "        174.04444444, 175.03333333, 176.02222222, 177.01111111,\n",
       "        178.        ]),\n",
       " <BarContainer object of 180 artists>)"
      ]
     },
     "execution_count": 11,
     "metadata": {},
     "output_type": "execute_result"
    },
    {
     "data": {
      "image/png": "[encoded data removed]",
      "text/plain": [
       "<Figure size 640x480 with 1 Axes>"
      ]
     },
     "metadata": {},
     "output_type": "display_data"
    }
   ],
   "source": [
    "# Convert image to HSV\n",
    "img_hsv = cv2.cvtColor(denoised_ubyte, cv2.COLOR_RGB2HSV)\n",
    "\n",
    "# Split the HSV image into its channels\n",
    "hue, saturation, value = cv2.split(img_hsv)\n",
    "\n",
    "# Make a histogram for each channel\n",
    "plt.hist(value.flatten(), bins=256, color='gray', alpha=.6, label='Value')\n",
    "plt.hist(saturation.flatten(), bins=256, color='teal', alpha=.6, label='Saturation')\n",
    "plt.hist(hue.flatten(), bins=180, color='magenta', alpha=.6, label='Hue')\n"
   ]
  },
  {
   "cell_type": "markdown",
   "metadata": {},
   "source": [
    "They're the same?? Is there a bug?"
   ]
  }
 ],
 "metadata": {
  "kernelspec": {
   "display_name": "Python 3",
   "language": "python",
   "name": "python3"
  },
  "language_info": {
   "codemirror_mode": {
    "name": "ipython",
    "version": 3
   },
   "file_extension": ".py",
   "mimetype": "text/x-python",
   "name": "python",
   "nbconvert_exporter": "python",
   "pygments_lexer": "ipython3",
   "version": "3.11.5"
  }
 },
 "nbformat": 4,
 "nbformat_minor": 2
}
