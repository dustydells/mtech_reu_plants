{
 "cells": [
  {
   "cell_type": "markdown",
   "metadata": {},
   "source": [
    "The purpose of this notebook is to try all of the denoising methods and see which one works best. Use the following for loop to test each method on every image in quadrat_photos_subset_for_debugging."
   ]
  },
  {
   "cell_type": "code",
   "execution_count": 1,
   "metadata": {},
   "outputs": [],
   "source": [
    "import glob\n",
    "import cv2\n",
    "\n",
    "# Define a path to the folder that contains the photos I want to test with loops\n",
    "path = 'quadrat_photos_subset_for_debugging/*'"
   ]
  },
  {
   "cell_type": "code",
   "execution_count": 2,
   "metadata": {},
   "outputs": [],
   "source": [
    "for i, file in enumerate(glob.glob(path)):\n",
    "    # Read in images in color\n",
    "    img = cv2.imread(file)\n",
    "\n",
    "    # Reduce the image size by half because the windows are too huge.\n",
    "    img = cv2.resize(img, (0, 0), fx=.5, fy=.5)\n",
    "\n",
    "    # Show each image in its own window.\n",
    "    cv2.imshow(f'image {i}', img)\n",
    "\n",
    "# Allows you to close all windows (individually, or close all with ctrl+w)\n",
    "cv2.waitKey(0)\n",
    "cv2.destroyAllWindows()"
   ]
  }
 ],
 "metadata": {
  "kernelspec": {
   "display_name": "Python 3",
   "language": "python",
   "name": "python3"
  },
  "language_info": {
   "codemirror_mode": {
    "name": "ipython",
    "version": 3
   },
   "file_extension": ".py",
   "mimetype": "text/x-python",
   "name": "python",
   "nbconvert_exporter": "python",
   "pygments_lexer": "ipython3",
   "version": "3.11.5"
  }
 },
 "nbformat": 4,
 "nbformat_minor": 2
}
