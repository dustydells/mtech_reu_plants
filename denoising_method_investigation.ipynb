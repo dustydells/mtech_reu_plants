{
 "cells": [
  {
   "cell_type": "markdown",
   "metadata": {},
   "source": [
    "The purpose of this notebook is to try all of the denoising methods and see which one works best. Use the following for loop to test each method on every image in quadrat_photos_subset_for_debugging."
   ]
  },
  {
   "cell_type": "code",
   "execution_count": 22,
   "metadata": {},
   "outputs": [],
   "source": [
    "import glob\n",
    "import cv2\n",
    "import numpy as np\n",
    "from matplotlib import pyplot as plt\n",
    "\n",
    "# Define a path to the folder that contains the photos I want to test with loops\n",
    "path = 'quadrat_photos_subset_for_debugging/*'"
   ]
  },
  {
   "cell_type": "code",
   "execution_count": 13,
   "metadata": {},
   "outputs": [],
   "source": [
    "for i, file in enumerate(glob.glob(path)):\n",
    "    # Read in images in color\n",
    "    img = cv2.imread(file)\n",
    "\n",
    "    # Reduce the image size by half because the windows are too huge.\n",
    "    img = cv2.resize(img, (0, 0), fx=.5, fy=.5)\n",
    "\n",
    "    # Show each image in its own window.\n",
    "    cv2.imshow(f'image {i}', img)\n",
    "\n",
    "# Allows you to close all windows (individually, or close all with ctrl+w)\n",
    "cv2.waitKey(0)\n",
    "cv2.destroyAllWindows()"
   ]
  },
  {
   "cell_type": "markdown",
   "metadata": {},
   "source": [
    "## cv2"
   ]
  },
  {
   "cell_type": "markdown",
   "metadata": {},
   "source": [
    "2D custom filter"
   ]
  },
  {
   "cell_type": "code",
   "execution_count": 14,
   "metadata": {},
   "outputs": [],
   "source": [
    "# Start convolution by defining a kernel - a 25x25 matrix of all ones. \n",
    "kernel = np.ones((3,3), np.float32) / 9\n",
    "# Alternate option is (5,5) and divided by 25. It makes the images even more blurry.\n",
    "\n",
    "\n",
    "for i, file in enumerate(glob.glob(path)):\n",
    "    # Read in images in color\n",
    "    img = cv2.imread(file)\n",
    "\n",
    "    # Reduce the image size by half because the windows are too huge.\n",
    "    img = cv2.resize(img, (0, 0), fx=.5, fy=.5)\n",
    "\n",
    "    # Apply 2D custom filter\n",
    "    filter_2D = cv2.filter2D(img, -1, kernel)\n",
    "\n",
    "    # Show each image in its own window.\n",
    "    cv2.imshow(f'image {i}', filter_2D)\n",
    "\n",
    "# Allows you to close all windows (individually, or close all with ctrl+w)\n",
    "cv2.waitKey(0)\n",
    "cv2.destroyAllWindows()"
   ]
  },
  {
   "cell_type": "markdown",
   "metadata": {},
   "source": [
    "Blur"
   ]
  },
  {
   "cell_type": "code",
   "execution_count": 15,
   "metadata": {},
   "outputs": [],
   "source": [
    "\n",
    "for i, file in enumerate(glob.glob(path)):\n",
    "    # Read in images in color\n",
    "    img = cv2.imread(file)\n",
    "\n",
    "    # Reduce the image size by half because the windows are too huge.\n",
    "    img = cv2.resize(img, (0, 0), fx=.5, fy=.5)\n",
    "\n",
    "    # Apply blur filter\n",
    "    img_blur = cv2.blur(img, (3,3))\n",
    "\n",
    "    # Show each image in its own window.\n",
    "    cv2.imshow(f'image {i}', img_blur)\n",
    "\n",
    "# Allows you to close all windows (individually, or close all with ctrl+w)\n",
    "cv2.waitKey(0)\n",
    "cv2.destroyAllWindows()"
   ]
  },
  {
   "cell_type": "markdown",
   "metadata": {},
   "source": [
    "Gaussian Blur"
   ]
  },
  {
   "cell_type": "code",
   "execution_count": 16,
   "metadata": {},
   "outputs": [],
   "source": [
    "\n",
    "for i, file in enumerate(glob.glob(path)):\n",
    "    # Read in images in color\n",
    "    img = cv2.imread(file)\n",
    "\n",
    "    # Reduce the image size by half because the windows are too huge.\n",
    "    img = cv2.resize(img, (0, 0), fx=.5, fy=.5)\n",
    "\n",
    "    # Apply gaussian blur filter\n",
    "    img_gaussian_blur = cv2.GaussianBlur(img, (3,3), 0)\n",
    "\n",
    "    # Show each image in its own window.\n",
    "    cv2.imshow(f'image {i}', img_gaussian_blur)\n",
    "\n",
    "# Allows you to close all windows (individually, or close all with ctrl+w)\n",
    "cv2.waitKey(0)\n",
    "cv2.destroyAllWindows()"
   ]
  },
  {
   "cell_type": "markdown",
   "metadata": {},
   "source": [
    "Median Filter (designed to blur but maintain edges)"
   ]
  },
  {
   "cell_type": "code",
   "execution_count": 17,
   "metadata": {},
   "outputs": [],
   "source": [
    "\n",
    "for i, file in enumerate(glob.glob(path)):\n",
    "    # Read in images in color\n",
    "    img = cv2.imread(file)\n",
    "\n",
    "    # Reduce the image size by half because the windows are too huge.\n",
    "    img = cv2.resize(img, (0, 0), fx=.5, fy=.5)\n",
    "\n",
    "    # Apply median filter\n",
    "    median_filtered_img = cv2.medianBlur(img, 3)\n",
    "\n",
    "    # Show each image in its own window.\n",
    "    cv2.imshow(f'image {i}', median_filtered_img)\n",
    "\n",
    "# Allows you to close all windows (individually, or close all with ctrl+w)\n",
    "cv2.waitKey(0)\n",
    "cv2.destroyAllWindows()"
   ]
  },
  {
   "cell_type": "markdown",
   "metadata": {},
   "source": [
    "Bilateral filter (designed to blur but maintain edges - generally better than median)"
   ]
  },
  {
   "cell_type": "code",
   "execution_count": 18,
   "metadata": {},
   "outputs": [],
   "source": [
    "\n",
    "for i, file in enumerate(glob.glob(path)):\n",
    "    # Read in images in color\n",
    "    img = cv2.imread(file)\n",
    "\n",
    "    # Reduce the image size by half because the windows are too huge.\n",
    "    img = cv2.resize(img, (0, 0), fx=.5, fy=.5)\n",
    "\n",
    "    # Apply bilateral filter\n",
    "    bilateral_blurred_img = cv2.bilateralFilter(img, d=9, sigmaColor=75, sigmaSpace=75)\n",
    "\n",
    "    # Show each image in its own window.\n",
    "    cv2.imshow(f'image {i}', bilateral_blurred_img)\n",
    "\n",
    "# Allows you to close all windows (individually, or close all with ctrl+w)\n",
    "cv2.waitKey(0)\n",
    "cv2.destroyAllWindows()"
   ]
  },
  {
   "cell_type": "markdown",
   "metadata": {},
   "source": [
    "Non-Local means. Very smudgy, and seems to create artifacts. But seems pretty competent at isolating shapes. It appears to be showing the green and everything else is black and white. What's going on here?"
   ]
  },
  {
   "cell_type": "code",
   "execution_count": 19,
   "metadata": {},
   "outputs": [],
   "source": [
    "from skimage.restoration import denoise_nl_means, estimate_sigma\n",
    "from skimage import img_as_float, img_as_ubyte"
   ]
  },
  {
   "cell_type": "code",
   "execution_count": 23,
   "metadata": {},
   "outputs": [],
   "source": [
    "# BEWARE THIS FOR LOOP IT RUNS FOR A VERY LONG TIME. I'm saving the results in the folder nl_means_denoising_results so I don't have to run it again.\n",
    "\n",
    "for i, file in enumerate(glob.glob(path)):\n",
    "    # Read in images in color\n",
    "    img = cv2.imread(file)\n",
    "\n",
    "    # Reduce the image size by half because the windows are too huge.\n",
    "    img = cv2.resize(img, (0, 0), fx=.5, fy=.5)\n",
    "\n",
    "    # Convert image to a float\n",
    "    img = img_as_float(img)\n",
    "\n",
    "    # estimate the noise standard deviation from the noisy image\n",
    "    sigma_est = np.mean(estimate_sigma(img, channel_axis=-1))\n",
    "\n",
    "    # Denoise the image based on the sigma that was just found\n",
    "    denoised = denoise_nl_means(img, h=1.15 * sigma_est, fast_mode=True, patch_size=5, patch_distance=3)\n",
    "\n",
    "    # Convert it back to ubyte\n",
    "    denoised_ubyte = img_as_ubyte(denoised)\n",
    "\n",
    "    plt.imsave(f'nl_means_denoising_results/image_{i}.jpg', denoised_ubyte)\n",
    "\n",
    "\n",
    "\n"
   ]
  }
 ],
 "metadata": {
  "kernelspec": {
   "display_name": "Python 3",
   "language": "python",
   "name": "python3"
  },
  "language_info": {
   "codemirror_mode": {
    "name": "ipython",
    "version": 3
   },
   "file_extension": ".py",
   "mimetype": "text/x-python",
   "name": "python",
   "nbconvert_exporter": "python",
   "pygments_lexer": "ipython3",
   "version": "3.11.5"
  }
 },
 "nbformat": 4,
 "nbformat_minor": 2
}
