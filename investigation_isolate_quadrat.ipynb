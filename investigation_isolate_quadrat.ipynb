{
 "cells": [
  {
   "cell_type": "markdown",
   "metadata": {},
   "source": [
    "The goal of this notebook is to test out morphologocal operations to isolate the quadrat. They're pretty finicky so I need to know how they work on all the test photos."
   ]
  },
  {
   "cell_type": "markdown",
   "metadata": {},
   "source": [
    "### Setup"
   ]
  },
  {
   "cell_type": "code",
   "execution_count": 1,
   "metadata": {},
   "outputs": [],
   "source": [
    "from functions import reorder_file_paths\n",
    "import cv2\n",
    "from skimage import img_as_float, img_as_ubyte\n",
    "from matplotlib import pyplot as plt\n",
    "from functions import apply_otsu\n",
    "from skimage.filters.rank import entropy\n",
    "from skimage.morphology import disk, isotropic_closing, binary_closing\n",
    "from scipy import ndimage\n",
    "import numpy as np"
   ]
  },
  {
   "cell_type": "code",
   "execution_count": 2,
   "metadata": {},
   "outputs": [
    {
     "name": "stdout",
     "output_type": "stream",
     "text": [
      "['test_photos\\\\image_0.jpg', 'test_photos\\\\image_1.jpg', 'test_photos\\\\image_2.jpg', 'test_photos\\\\image_3.jpg', 'test_photos\\\\image_4.jpg', 'test_photos\\\\image_5.jpg', 'test_photos\\\\image_6.JPG', 'test_photos\\\\image_7.JPG', 'test_photos\\\\image_8.JPG', 'test_photos\\\\image_9.JPG', 'test_photos\\\\image_10.JPG', 'test_photos\\\\image_11.jpg', 'test_photos\\\\image_12.jpg', 'test_photos\\\\image_13.jpg', 'test_photos\\\\image_14.jpg', 'test_photos\\\\image_15.jpg', 'test_photos\\\\image_16.jpg', 'test_photos\\\\image_17.jpg', 'test_photos\\\\image_18.JPG', 'test_photos\\\\image_19.JPG', 'test_photos\\\\image_20.jpg', 'test_photos\\\\image_21.jpg', 'test_photos\\\\image_22.jpg', 'test_photos\\\\image_23.jpg', 'test_photos\\\\image_24.jpg']\n"
     ]
    }
   ],
   "source": [
    "# Determine the folder of images that will be looped through\n",
    "path = 'test_photos/*'\n",
    "\n",
    "# Get list of files for looping through\n",
    "filenames = reorder_file_paths(path)\n",
    "\n",
    "print(filenames)"
   ]
  },
  {
   "cell_type": "code",
   "execution_count": 3,
   "metadata": {},
   "outputs": [],
   "source": [
    "greenhouse_test_filenames = ['test_photos\\\\image_6.JPG', 'test_photos\\\\image_7.JPG', 'test_photos\\\\image_8.JPG', 'test_photos\\\\image_9.JPG', 'test_photos\\\\image_10.JPG']"
   ]
  },
  {
   "cell_type": "markdown",
   "metadata": {},
   "source": [
    "### Use threshold to pick up on presence of quadrat"
   ]
  },
  {
   "cell_type": "code",
   "execution_count": 16,
   "metadata": {},
   "outputs": [
    {
     "name": "stdout",
     "output_type": "stream",
     "text": [
      "Saved test_photos\\image_0.jpg\n",
      "Saved test_photos\\image_1.jpg\n",
      "Saved test_photos\\image_2.jpg\n",
      "Saved test_photos\\image_3.jpg\n",
      "Saved test_photos\\image_4.jpg\n",
      "Saved test_photos\\image_5.jpg\n",
      "Saved test_photos\\image_11.jpg\n",
      "Saved test_photos\\image_12.jpg\n",
      "Saved test_photos\\image_13.jpg\n",
      "Saved test_photos\\image_14.jpg\n",
      "Saved test_photos\\image_15.jpg\n",
      "Saved test_photos\\image_16.jpg\n",
      "Saved test_photos\\image_17.jpg\n",
      "Saved test_photos\\image_18.JPG\n",
      "Saved test_photos\\image_19.JPG\n",
      "Saved test_photos\\image_20.jpg\n",
      "Saved test_photos\\image_21.jpg\n",
      "Saved test_photos\\image_22.jpg\n",
      "Saved test_photos\\image_23.jpg\n",
      "Saved test_photos\\image_24.jpg\n"
     ]
    }
   ],
   "source": [
    "for i, filename in enumerate(filenames):\n",
    "    # Skip over the greenhouse images\n",
    "    if filename in greenhouse_test_filenames:\n",
    "        pass\n",
    "\n",
    "    else:\n",
    "        # Load in the images in color\n",
    "        img = cv2.imread(filename, 1)\n",
    "\n",
    "        # Get a grayscale version of the image\n",
    "        gray = cv2.cvtColor(img, cv2.COLOR_BGR2GRAY)\n",
    "        \n",
    "        # Convert images into floats\n",
    "        img_float = img_as_float(gray)\n",
    "\n",
    "        # If image is <= to the threshold number, it's True. False otherwise.\n",
    "        img_binary =  (img_float <= .9) # .90 is meant to pick up the white of the quadrat.\n",
    "\n",
    "        # Convert back to ubyte\n",
    "        img_ubyte = img_as_ubyte(img_binary)\n",
    "\n",
    "        # Denoise the image to get rid of the grass that made it through\n",
    "        img_median = ndimage.median_filter(img_ubyte, 9)\n",
    "\n",
    "        # Define a kernel\n",
    "        kernel = np.ones((3,3), np.uint8)\n",
    "\n",
    "        # Dilate\n",
    "        img_eroded = cv2.erode(img_median, kernel, iterations = 3)\n",
    "\n",
    "        # Invert the image \n",
    "        img_eroded = cv2.bitwise_not(img_eroded)\n",
    "\n",
    "        # Detect edges using Canny\n",
    "        edges = cv2.Canny(img_eroded, 50, 150, apertureSize=7)\n",
    "\n",
    "        # Detect lines using Hough Line Transform\n",
    "        lines = cv2.HoughLinesP(edges, 1, np.pi / 180, 100, minLineLength=50, maxLineGap=100)\n",
    "\n",
    "        # Draw the lines\n",
    "        if lines is not None:\n",
    "            for line in lines:\n",
    "                x1, y1, x2, y2 = line[0]\n",
    "                cv2.line(img, (x1, y1), (x2, y2), (0, 0, 255), 2)\n",
    "\n",
    "        # Find contours\n",
    "        contours, _ = cv2.findContours(img_eroded, cv2.RETR_TREE, cv2.CHAIN_APPROX_SIMPLE)\n",
    "\n",
    "        for contour in contours:\n",
    "            # Approximate the contour to a polygon\n",
    "            epsilon = 0.02 * cv2.arcLength(contour, True)\n",
    "            approx = cv2.approxPolyDP(contour, epsilon, True)\n",
    "            \n",
    "            # If the approximated polygon has 4 points, we assume it is a rectangle\n",
    "            if len(approx) == 4:\n",
    "                cv2.drawContours(img, [approx], 0, (0, 0, 0), 5)\n",
    "                for point in approx:\n",
    "                    cv2.circle(img, tuple(point[0]), 5, (0, 0, 0), -1)\n",
    "\n",
    "\n",
    "        # Define a kernel\n",
    "        # kernel = np.ones((3,3), np.uint8)\n",
    "\n",
    "        # # Dilate\n",
    "        # img_eroded = cv2.erode(img_median, kernel, iterations = 3)\n",
    "        # img_er_and_dilated = cv2.dilate(img_eroded, kernel, iterations = 1)\n",
    "\n",
    "        # Use binary closing to potentially close gaps\n",
    "        # mask = binary_closing(img_eroded, 2)\n",
    "\n",
    "        cv2.imwrite(f'results/isolating_quadrat/image_{i}_edge_detected.jpg', img)\n",
    "\n",
    "        print(f'Saved {filename}')\n",
    "\n",
    "        # Display the images\n",
    "    #     cv2.imshow(f'img {i}', img_ubyte)\n",
    "\n",
    "# cv2.waitKey(0)\n",
    "# cv2.destroyAllWindows()"
   ]
  }
 ],
 "metadata": {
  "kernelspec": {
   "display_name": "Python 3",
   "language": "python",
   "name": "python3"
  },
  "language_info": {
   "codemirror_mode": {
    "name": "ipython",
    "version": 3
   },
   "file_extension": ".py",
   "mimetype": "text/x-python",
   "name": "python",
   "nbconvert_exporter": "python",
   "pygments_lexer": "ipython3",
   "version": "3.11.5"
  }
 },
 "nbformat": 4,
 "nbformat_minor": 2
}
