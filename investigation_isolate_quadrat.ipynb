{
 "cells": [
  {
   "cell_type": "markdown",
   "metadata": {},
   "source": [
    "The goal of this notebook is to test out morphologocal operations to isolate the quadrat. They're pretty finicky so I need to know how they work on all the test photos."
   ]
  },
  {
   "cell_type": "markdown",
   "metadata": {},
   "source": [
    "### Setup"
   ]
  },
  {
   "cell_type": "code",
   "execution_count": 17,
   "metadata": {},
   "outputs": [],
   "source": [
    "from functions import reorder_file_paths\n",
    "import cv2\n",
    "from skimage import img_as_float, img_as_ubyte\n",
    "from skimage.filters.rank import entropy\n",
    "from skimage.morphology import disk\n",
    "from matplotlib import pyplot as plt"
   ]
  },
  {
   "cell_type": "code",
   "execution_count": 4,
   "metadata": {},
   "outputs": [
    {
     "name": "stdout",
     "output_type": "stream",
     "text": [
      "['test_photos\\\\image_0.jpg', 'test_photos\\\\image_1.jpg', 'test_photos\\\\image_2.jpg', 'test_photos\\\\image_3.jpg', 'test_photos\\\\image_4.jpg', 'test_photos\\\\image_5.jpg', 'test_photos\\\\image_6.JPG', 'test_photos\\\\image_7.JPG', 'test_photos\\\\image_8.JPG', 'test_photos\\\\image_9.JPG', 'test_photos\\\\image_10.JPG', 'test_photos\\\\image_11.jpg', 'test_photos\\\\image_12.jpg', 'test_photos\\\\image_13.jpg', 'test_photos\\\\image_14.jpg', 'test_photos\\\\image_15.jpg', 'test_photos\\\\image_16.jpg', 'test_photos\\\\test_image_17.jpg', 'test_photos\\\\test_image_18.JPG', 'test_photos\\\\test_image_19.JPG', 'test_photos\\\\test_image_20.jpg', 'test_photos\\\\test_image_21.jpg', 'test_photos\\\\test_image_22.jpg', 'test_photos\\\\test_image_23.jpg', 'test_photos\\\\test_image_24.jpg']\n"
     ]
    }
   ],
   "source": [
    "# Determine the folder of images that will be looped through\n",
    "path = 'test_photos/*'\n",
    "\n",
    "# Get list of files for looping through\n",
    "filenames = reorder_file_paths(path)\n",
    "\n",
    "print(filenames)"
   ]
  },
  {
   "cell_type": "markdown",
   "metadata": {},
   "source": [
    "### Use threshold to pick up on presence of quadrat"
   ]
  },
  {
   "cell_type": "code",
   "execution_count": 21,
   "metadata": {},
   "outputs": [],
   "source": [
    "for i, filename in enumerate(filenames):\n",
    "    # Load in the images in grayscale\n",
    "    img = cv2.imread(filename, 0)\n",
    "\n",
    "    # First try to use entropy filter to pick up the smooth pvc pipe\n",
    "    entropy_img = entropy(img, disk(3))\n",
    "    \n",
    "    # Convert images into floats\n",
    "    img_float = img_as_float(img)\n",
    "    img_float_entropy = img_as_float(entropy_img)\n",
    "\n",
    "    # If image is <= to the threshold number, it's True. False otherwise.\n",
    "    img_binary = (img_float.any() >= .93) and (entropy_img.any() < .5) # .90 is meant to pick up the white of the quadrat.\n",
    "\n",
    "    # Convert back to ubyte\n",
    "    img_ubyte = img_as_ubyte(img_binary)\n",
    "\n",
    "    # plt.imsave(f'results/isolating_quadrat/image_{i}.jpg', img_ubyte)\n",
    "\n",
    "    # Display the images\n",
    "    cv2.imshow(f'img {i}', img_ubyte)\n",
    "\n",
    "cv2.waitKey(0)\n",
    "cv2.destroyAllWindows()"
   ]
  }
 ],
 "metadata": {
  "kernelspec": {
   "display_name": "Python 3",
   "language": "python",
   "name": "python3"
  },
  "language_info": {
   "codemirror_mode": {
    "name": "ipython",
    "version": 3
   },
   "file_extension": ".py",
   "mimetype": "text/x-python",
   "name": "python",
   "nbconvert_exporter": "python",
   "pygments_lexer": "ipython3",
   "version": "3.11.5"
  }
 },
 "nbformat": 4,
 "nbformat_minor": 2
}
