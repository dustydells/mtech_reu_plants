{
 "cells": [
  {
   "cell_type": "markdown",
   "metadata": {},
   "source": [
    "## Add an image"
   ]
  },
  {
   "cell_type": "code",
   "execution_count": 14,
   "metadata": {},
   "outputs": [],
   "source": [
    "from skimage import data\n",
    "import napari\n",
    "import cv2\n",
    "from matplotlib import pyplot as plt\n",
    "import numpy as np"
   ]
  },
  {
   "cell_type": "code",
   "execution_count": 1,
   "metadata": {},
   "outputs": [],
   "source": [
    "# create the viewer with an image (view_image API)\n",
    "viewer = napari.view_image(data.astronaut(), rgb=True)\n",
    "\n",
    "if __name__ == '__main__':\n",
    "    napari.run()"
   ]
  },
  {
   "cell_type": "code",
   "execution_count": 11,
   "metadata": {},
   "outputs": [],
   "source": [
    "# Open an image\n",
    "img = plt.imread('test_photos/image_5.jpg')\n",
    "\n",
    "# Open it in napari viewer\n",
    "viewer = napari.view_image(img, rgb=True)\n",
    "\n",
    "# Run the viewer\n",
    "napari.run()"
   ]
  },
  {
   "cell_type": "code",
   "execution_count": 12,
   "metadata": {},
   "outputs": [],
   "source": [
    "%gui qt # this is a thing apparently. Don't rlly know what it does"
   ]
  },
  {
   "cell_type": "markdown",
   "metadata": {},
   "source": [
    "## Add points and get x, y values from them"
   ]
  },
  {
   "cell_type": "code",
   "execution_count": 15,
   "metadata": {},
   "outputs": [],
   "source": [
    "# Open an image\n",
    "img = plt.imread('test_photos/image_5.jpg')\n",
    "\n",
    "# Open it in napari viewer\n",
    "viewer = napari.view_image(img, rgb=True)\n",
    "\n",
    "# Make some arbitrary points to the image\n",
    "points = np.array([[100, 100], [200, 200], [60, 100]])\n",
    "\n",
    "# Add points to a layer on the image\n",
    "points_layer = viewer.add_points(points, size=30)\n",
    "\n",
    "# Run the viewer\n",
    "napari.run()"
   ]
  },
  {
   "cell_type": "markdown",
   "metadata": {},
   "source": [
    "Retrieve point info"
   ]
  },
  {
   "cell_type": "code",
   "execution_count": 17,
   "metadata": {},
   "outputs": [
    {
     "name": "stdout",
     "output_type": "stream",
     "text": [
      "[[1057.22693577 1300.25128397]\n",
      " [  17.68821214 1228.16648197]\n",
      " [  55.62758161  249.3307495 ]\n",
      " [1064.81480966  135.51264107]]\n"
     ]
    }
   ],
   "source": [
    "print(points_layer.data)"
   ]
  },
  {
   "cell_type": "markdown",
   "metadata": {},
   "source": [
    "YAYYYYY"
   ]
  }
 ],
 "metadata": {
  "kernelspec": {
   "display_name": "Python 3",
   "language": "python",
   "name": "python3"
  },
  "language_info": {
   "codemirror_mode": {
    "name": "ipython",
    "version": 3
   },
   "file_extension": ".py",
   "mimetype": "text/x-python",
   "name": "python",
   "nbconvert_exporter": "python",
   "pygments_lexer": "ipython3",
   "version": "3.11.5"
  }
 },
 "nbformat": 4,
 "nbformat_minor": 2
}
