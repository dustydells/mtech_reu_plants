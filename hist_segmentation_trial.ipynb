{
 "cells": [
  {
   "cell_type": "markdown",
   "metadata": {},
   "source": [
    "Run histogram segmentation on multiple images with a for loop to see if the colors split into different segments."
   ]
  },
  {
   "cell_type": "code",
   "execution_count": null,
   "metadata": {},
   "outputs": [],
   "source": [
    "import glob # for file names\n",
    "import numpy as np\n",
    "from skimage import io, img_as_ubyte\n",
    "from matplotlib import pyplot as plt"
   ]
  },
  {
   "cell_type": "code",
   "execution_count": null,
   "metadata": {},
   "outputs": [],
   "source": [
    "path = 'quadrat_photos_subset_for_debugging/*'\n",
    "file = 'quadrat_photos_subset_for_debugging/20240531_103452.jpg'\n",
    "\n",
    "# for file in glob.glob(path):\n",
    "# Read in every image in the quadrat_photos_raw folder as a ubyte\n",
    "img = img_as_ubyte(io.imread(file, as_gray = True))\n",
    "\n",
    "# plot histogram\n",
    "plt.hist(img.flat, bins=100, range=(0,255))\n",
    "\n"
   ]
  }
 ],
 "metadata": {
  "kernelspec": {
   "display_name": "Python 3",
   "language": "python",
   "name": "python3"
  },
  "language_info": {
   "codemirror_mode": {
    "name": "ipython",
    "version": 3
   },
   "file_extension": ".py",
   "mimetype": "text/x-python",
   "name": "python",
   "nbconvert_exporter": "python",
   "pygments_lexer": "ipython3",
   "version": "3.11.5"
  }
 },
 "nbformat": 4,
 "nbformat_minor": 2
}
