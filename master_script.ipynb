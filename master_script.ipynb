{
 "cells": [
  {
   "cell_type": "markdown",
   "metadata": {},
   "source": [
    "This script outlines the method developed during this project. Given a path to a folder full of images containing plants and quadrats, it will send each image through the following process:\n",
    "1. Crop every image to its quadrat using the napari gui\n",
    "2. Resize every image to the smallest length in the folder of photos\n",
    "3. denoise images\n",
    "4. Apply vegetative index\n",
    "5. Convert pixel information into a csv\n",
    "\n",
    "It saves the results of each step in a self contained folder within a specified output directory."
   ]
  },
  {
   "cell_type": "code",
   "execution_count": 1,
   "metadata": {},
   "outputs": [],
   "source": [
    "import cv2\n",
    "import glob\n",
    "import napari\n",
    "import numpy as np\n",
    "from matplotlib import pyplot as plt\n",
    "from functions import matrix_xy_swap, reorder_quadrat_corners"
   ]
  },
  {
   "cell_type": "code",
   "execution_count": 2,
   "metadata": {},
   "outputs": [],
   "source": [
    "# Enter path to folder that contains quadrat images here\n",
    "path = 'raw_photos\\\\*'\n",
    "\n",
    "# Enter path to output folder\n",
    "output_dir = 'results\\\\master_script_output'"
   ]
  },
  {
   "cell_type": "markdown",
   "metadata": {},
   "source": [
    "### Crop images"
   ]
  },
  {
   "cell_type": "markdown",
   "metadata": {},
   "source": [
    "Be aware that napari may take a very long time to load and crash immediately for the first time. "
   ]
  },
  {
   "cell_type": "code",
   "execution_count": 6,
   "metadata": {},
   "outputs": [],
   "source": [
    "# Loop through every image in the folder\n",
    "for i, file in enumerate(glob.glob(path)):\n",
    "    # Read in the file in RGB with pyplot\n",
    "    img = plt.imread(file)\n",
    "            \n",
    "    # Open it in napari viewer\n",
    "    viewer = napari.view_image(img, rgb=True)\n",
    "            \n",
    "    # Add a points layer\n",
    "    points_layer = viewer.add_points()\n",
    "\n",
    "    # Pause for loop and present user with options\n",
    "    kill_switch = input('\\nUse the add points button in the GUI that just popped up (or select the tool by pressing 2) to place one point on every corner of the quadrat. Place them in clockwise order starting at top left. Press \"enter\" when you\\'re ready to move on to the next photo, and type \"quit\" to quit. \\n')\n",
    "\n",
    "    # Quit the loop if the user types \"quit\"\n",
    "    if kill_switch == 'quit':\n",
    "        break\n",
    "    else:\n",
    "        # Retrieve points from the GUI\n",
    "        corners = points_layer.data\n",
    "\n",
    "        # Convert it into a np matrix\n",
    "        corners = np.array(corners, dtype = np.float32)\n",
    "\n",
    "        # Swap the x and y to convert from napari coordinates to python coordinates\n",
    "        corners_swapped = matrix_xy_swap(corners)\n",
    "\n",
    "        # Ensure that the points are in the correct order (clockwise starting at top left)\n",
    "        corners_reordered = reorder_quadrat_corners(corners_swapped)\n",
    "\n",
    "        # Get a side length based on the top pipe of the quadrat\n",
    "        distance = corners_reordered[0] - corners_reordered[1]\n",
    "        side_length = abs(int(np.linalg.norm(distance))) # absolute value of the Euclidean distance\n",
    "\n",
    "        # Define the new locations of each point based on side length\n",
    "        corner_destinations = np.array([\n",
    "            [0, 0], # top left\n",
    "            [side_length, 0], # top right\n",
    "            [side_length, side_length], # bottom right\n",
    "            [0, side_length] # bottom left\n",
    "        ], dtype=np.float32)\n",
    "\n",
    "        # Get perspective transformation matrix \n",
    "        matrix = cv2.getPerspectiveTransform(corners_reordered, corner_destinations)\n",
    "\n",
    "        # Apply perspective transformation\n",
    "        img_transformed = cv2.warpPerspective(img, matrix, (side_length, side_length))\n",
    "\n",
    "        # Save the image to file\n",
    "        plt.imsave(f'{output_dir}\\\\cropped_images\\\\image_{i}.jpg', img_transformed)\n",
    "\n",
    "        # Print out a message that your file was saved\n",
    "        print(f'Image {i}, {file}, was cropped and saved in the folder \"cropped_images\" within your output directory.')\n"
   ]
  }
 ],
 "metadata": {
  "kernelspec": {
   "display_name": "Python 3",
   "language": "python",
   "name": "python3"
  },
  "language_info": {
   "codemirror_mode": {
    "name": "ipython",
    "version": 3
   },
   "file_extension": ".py",
   "mimetype": "text/x-python",
   "name": "python",
   "nbconvert_exporter": "python",
   "pygments_lexer": "ipython3",
   "version": "3.11.5"
  }
 },
 "nbformat": 4,
 "nbformat_minor": 2
}
