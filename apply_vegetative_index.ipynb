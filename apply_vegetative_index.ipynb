{
 "cells": [
  {
   "cell_type": "code",
   "execution_count": 1,
   "metadata": {},
   "outputs": [],
   "source": [
    "import cv2\n",
    "from skimage import io\n",
    "from matplotlib import pyplot as plt\n",
    "from functions import apply_vegetative_index\n",
    "import glob"
   ]
  },
  {
   "cell_type": "code",
   "execution_count": 9,
   "metadata": {},
   "outputs": [],
   "source": [
    "# Import image\n",
    "img = cv2.imread('test_photos/test_image_14.jpg')"
   ]
  },
  {
   "cell_type": "code",
   "execution_count": 10,
   "metadata": {},
   "outputs": [
    {
     "data": {
      "text/plain": [
       "<matplotlib.image.AxesImage at 0x1e1825e4150>"
      ]
     },
     "execution_count": 10,
     "metadata": {},
     "output_type": "execute_result"
    },
    {
     "data": {
      "image/png": "[encoded data removed]",
      "text/plain": [
       "<Figure size 640x480 with 1 Axes>"
      ]
     },
     "metadata": {},
     "output_type": "display_data"
    }
   ],
   "source": [
    "vegetated_img = apply_vegetative_index(img, index_type='exg-exr')\n",
    "\n",
    "plt.imshow(vegetated_img)"
   ]
  },
  {
   "cell_type": "markdown",
   "metadata": {},
   "source": [
    "Now try it on all of the test images"
   ]
  },
  {
   "cell_type": "code",
   "execution_count": 11,
   "metadata": {},
   "outputs": [],
   "source": [
    "# Define a path to the folder that contains the photos I want to test with loops\n",
    "path = 'test_photos/*'"
   ]
  },
  {
   "cell_type": "code",
   "execution_count": 12,
   "metadata": {},
   "outputs": [],
   "source": [
    "# Loop through every file in the folder specified by the path\n",
    "for i, file in enumerate(glob.glob(path)):\n",
    "    # Read in the color image\n",
    "    img = cv2.imread(file)\n",
    "\n",
    "    # Use the excess green vegetative index on every image\n",
    "    vegetated_img = apply_vegetative_index(img, index_type='exg')\n",
    "\n",
    "    plt.imsave(f'results/vi_exg/image_{i}.jpg', vegetated_img)\n",
    "\n",
    "#     # Show each image in its own window.\n",
    "#     cv2.imshow(f'image {i}', vegetated_img)\n",
    "\n",
    "# # Allows you to close all windows (individually, or close all with ctrl+w)\n",
    "# cv2.waitKey(0)\n",
    "# cv2.destroyAllWindows()"
   ]
  },
  {
   "cell_type": "markdown",
   "metadata": {},
   "source": [
    "Joel would like to see these VI segmentations side by side.  \n",
    "I'll do it for the methods at which I've gotten reasonable results - ExG, GRVI, and RGBVI."
   ]
  },
  {
   "cell_type": "code",
   "execution_count": null,
   "metadata": {},
   "outputs": [],
   "source": [
    "path = 'results/'"
   ]
  }
 ],
 "metadata": {
  "kernelspec": {
   "display_name": "Python 3",
   "language": "python",
   "name": "python3"
  },
  "language_info": {
   "codemirror_mode": {
    "name": "ipython",
    "version": 3
   },
   "file_extension": ".py",
   "mimetype": "text/x-python",
   "name": "python",
   "nbconvert_exporter": "python",
   "pygments_lexer": "ipython3",
   "version": "3.11.5"
  }
 },
 "nbformat": 4,
 "nbformat_minor": 2
}
