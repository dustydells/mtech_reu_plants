{
 "cells": [
  {
   "cell_type": "code",
   "execution_count": 46,
   "metadata": {},
   "outputs": [
    {
     "ename": "ImportError",
     "evalue": "cannot import name 'apply_vegetative_index' from 'functions' (c:\\Users\\dusty\\Documents\\REU_2024\\mtech_reu_plants\\functions.py)",
     "output_type": "error",
     "traceback": [
      "\u001b[1;31m---------------------------------------------------------------------------\u001b[0m",
      "\u001b[1;31mImportError\u001b[0m                               Traceback (most recent call last)",
      "Cell \u001b[1;32mIn[46], line 4\u001b[0m\n\u001b[0;32m      2\u001b[0m \u001b[38;5;28;01mfrom\u001b[39;00m \u001b[38;5;21;01mskimage\u001b[39;00m \u001b[38;5;28;01mimport\u001b[39;00m io\n\u001b[0;32m      3\u001b[0m \u001b[38;5;28;01mfrom\u001b[39;00m \u001b[38;5;21;01mmatplotlib\u001b[39;00m \u001b[38;5;28;01mimport\u001b[39;00m pyplot \u001b[38;5;28;01mas\u001b[39;00m plt\n\u001b[1;32m----> 4\u001b[0m \u001b[38;5;28;01mfrom\u001b[39;00m \u001b[38;5;21;01mfunctions\u001b[39;00m \u001b[38;5;28;01mimport\u001b[39;00m apply_vegetative_index\n\u001b[0;32m      5\u001b[0m \u001b[38;5;28;01mimport\u001b[39;00m \u001b[38;5;21;01mglob\u001b[39;00m\n",
      "\u001b[1;31mImportError\u001b[0m: cannot import name 'apply_vegetative_index' from 'functions' (c:\\Users\\dusty\\Documents\\REU_2024\\mtech_reu_plants\\functions.py)"
     ]
    }
   ],
   "source": [
    "import cv2\n",
    "from skimage import io\n",
    "from matplotlib import pyplot as plt\n",
    "from functions import apply_vegetative_index\n",
    "import glob"
   ]
  },
  {
   "cell_type": "code",
   "execution_count": 37,
   "metadata": {},
   "outputs": [
    {
     "ename": "ImportError",
     "evalue": "cannot import name 'apply_vegetative_index' from 'functions' (c:\\Users\\dusty\\Documents\\REU_2024\\mtech_reu_plants\\functions.py)",
     "output_type": "error",
     "traceback": [
      "\u001b[1;31m---------------------------------------------------------------------------\u001b[0m",
      "\u001b[1;31mImportError\u001b[0m                               Traceback (most recent call last)",
      "Cell \u001b[1;32mIn[37], line 1\u001b[0m\n\u001b[1;32m----> 1\u001b[0m \u001b[38;5;28;01mfrom\u001b[39;00m \u001b[38;5;21;01mfunctions\u001b[39;00m \u001b[38;5;28;01mimport\u001b[39;00m apply_vegetative_index\n\u001b[0;32m      3\u001b[0m \u001b[38;5;66;03m# Import image\u001b[39;00m\n\u001b[0;32m      4\u001b[0m img \u001b[38;5;241m=\u001b[39m cv2\u001b[38;5;241m.\u001b[39mimread(\u001b[38;5;124m'\u001b[39m\u001b[38;5;124mtest_photos/test_image_22.jpg\u001b[39m\u001b[38;5;124m'\u001b[39m)\n",
      "\u001b[1;31mImportError\u001b[0m: cannot import name 'apply_vegetative_index' from 'functions' (c:\\Users\\dusty\\Documents\\REU_2024\\mtech_reu_plants\\functions.py)"
     ]
    }
   ],
   "source": [
    "# Import image\n",
    "img = cv2.imread('test_photos/test_image_22.jpg')"
   ]
  },
  {
   "cell_type": "code",
   "execution_count": 3,
   "metadata": {},
   "outputs": [
    {
     "name": "stderr",
     "output_type": "stream",
     "text": [
      "C:\\Users\\dusty\\AppData\\Local\\Temp\\ipykernel_17784\\3280915200.py:5: RuntimeWarning: divide by zero encountered in divide\n",
      "  GRVI_index = (green - red) / (green + red)\n",
      "C:\\Users\\dusty\\AppData\\Local\\Temp\\ipykernel_17784\\3280915200.py:5: RuntimeWarning: invalid value encountered in divide\n",
      "  GRVI_index = (green - red) / (green + red)\n"
     ]
    }
   ],
   "source": [
    "# ExG_index = 2 * green - red - blue\n",
    "# ExR_index = (1.4 * red - green) / green + red + blue\n",
    "# ExB_index = (1.4 * blue - green) / green + red + blue\n",
    "\n",
    "# GRVI_index = (green - red) / (green + red)"
   ]
  },
  {
   "cell_type": "code",
   "execution_count": 35,
   "metadata": {},
   "outputs": [
    {
     "ename": "NameError",
     "evalue": "name 'apply_vegetative_index' is not defined",
     "output_type": "error",
     "traceback": [
      "\u001b[1;31m---------------------------------------------------------------------------\u001b[0m",
      "\u001b[1;31mNameError\u001b[0m                                 Traceback (most recent call last)",
      "Cell \u001b[1;32mIn[35], line 1\u001b[0m\n\u001b[1;32m----> 1\u001b[0m exg_img \u001b[38;5;241m=\u001b[39m \u001b[43mapply_vegetative_index\u001b[49m(img, index_type\u001b[38;5;241m=\u001b[39m\u001b[38;5;124m'\u001b[39m\u001b[38;5;124mexg\u001b[39m\u001b[38;5;124m'\u001b[39m)\n\u001b[0;32m      3\u001b[0m plt\u001b[38;5;241m.\u001b[39mimshow(exg_img)\n",
      "\u001b[1;31mNameError\u001b[0m: name 'apply_vegetative_index' is not defined"
     ]
    }
   ],
   "source": [
    "exg_img = apply_vegetative_index(img, index_type='exg')\n",
    "\n",
    "plt.imshow(exg_img)"
   ]
  },
  {
   "cell_type": "markdown",
   "metadata": {},
   "source": [
    "Now try it on all of the test images"
   ]
  },
  {
   "cell_type": "code",
   "execution_count": 19,
   "metadata": {},
   "outputs": [],
   "source": [
    "# Define a path to the folder that contains the photos I want to test with loops\n",
    "path = 'test_photos/*'"
   ]
  },
  {
   "cell_type": "code",
   "execution_count": 30,
   "metadata": {},
   "outputs": [],
   "source": [
    "# Loop through every file in the folder specified by the path\n",
    "for i, file in enumerate(glob.glob(path)):\n",
    "    # Read in the color image\n",
    "    img = cv2.imread(file)\n",
    "\n",
    "    # Use the excess green vegetative index on every image\n",
    "    exg_img = exg(img)\n",
    "\n",
    "    plt.imsave(f'results/vi_exg/image_{i}.jpg', exg_img)\n",
    "\n",
    "#     # Show each image in its own window.\n",
    "#     cv2.imshow(f'image {i}', exg_img)\n",
    "\n",
    "# # Allows you to close all windows (individually, or close all with ctrl+w)\n",
    "# cv2.waitKey(0)\n",
    "# cv2.destroyAllWindows()"
   ]
  }
 ],
 "metadata": {
  "kernelspec": {
   "display_name": "Python 3",
   "language": "python",
   "name": "python3"
  },
  "language_info": {
   "codemirror_mode": {
    "name": "ipython",
    "version": 3
   },
   "file_extension": ".py",
   "mimetype": "text/x-python",
   "name": "python",
   "nbconvert_exporter": "python",
   "pygments_lexer": "ipython3",
   "version": "3.11.5"
  }
 },
 "nbformat": 4,
 "nbformat_minor": 2
}
