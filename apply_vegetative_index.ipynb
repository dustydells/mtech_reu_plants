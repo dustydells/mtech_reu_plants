{
 "cells": [
  {
   "cell_type": "code",
   "execution_count": 4,
   "metadata": {},
   "outputs": [],
   "source": [
    "import cv2\n",
    "from skimage import io\n",
    "from matplotlib import pyplot as plt\n"
   ]
  },
  {
   "cell_type": "code",
   "execution_count": 3,
   "metadata": {},
   "outputs": [],
   "source": [
    "# Import image\n",
    "img = io.imread('test_photos/test_image_22.jpg')\n",
    "\n",
    "# Split it into its channels\n",
    "red, green, blue = cv2.split(img)\n"
   ]
  },
  {
   "cell_type": "code",
   "execution_count": 6,
   "metadata": {},
   "outputs": [
    {
     "name": "stdout",
     "output_type": "stream",
     "text": [
      "[[153 169 181 ...  81  81  81]\n",
      " [127 136 149 ...  82  77  70]\n",
      " [129 112 121 ...  83  91  84]\n",
      " ...\n",
      " [ 84  87  88 ...  40  43  48]\n",
      " [ 80  85  91 ...  46  46  46]\n",
      " [ 79  80  83 ...  46  47  48]] [[133 148 165 ...  77  77  77]\n",
      " [ 98 107 121 ...  78  73  66]\n",
      " [ 98  81  88 ...  79  87  80]\n",
      " ...\n",
      " [ 65  68  66 ...  29  32  37]\n",
      " [ 62  67  73 ...  35  35  35]\n",
      " [ 63  64  67 ...  35  36  37]] [[109 127 142 ...  68  68  68]\n",
      " [ 84  93 109 ...  67  62  55]\n",
      " [ 93  76  83 ...  68  76  69]\n",
      " ...\n",
      " [ 51  54  52 ...  23  26  31]\n",
      " [ 48  53  59 ...  31  29  29]\n",
      " [ 50  51  54 ...  31  32  33]]\n"
     ]
    }
   ],
   "source": [
    "vegetative_index = "
   ]
  }
 ],
 "metadata": {
  "kernelspec": {
   "display_name": "Python 3",
   "language": "python",
   "name": "python3"
  },
  "language_info": {
   "codemirror_mode": {
    "name": "ipython",
    "version": 3
   },
   "file_extension": ".py",
   "mimetype": "text/x-python",
   "name": "python",
   "nbconvert_exporter": "python",
   "pygments_lexer": "ipython3",
   "version": "3.11.5"
  }
 },
 "nbformat": 4,
 "nbformat_minor": 2
}
