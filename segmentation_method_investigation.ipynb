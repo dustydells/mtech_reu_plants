{
 "cells": [
  {
   "cell_type": "markdown",
   "metadata": {},
   "source": [
    "EDGE DETECTION"
   ]
  },
  {
   "cell_type": "code",
   "execution_count": 2,
   "metadata": {},
   "outputs": [],
   "source": [
    "import glob # To get for loops that loop through multiple files\n",
    "import cv2\n",
    "from matplotlib import pyplot as plt\n",
    "from skimage import io\n",
    "\n",
    "\n",
    "# Define a path to the folder that contains the photos I want to test with loops\n",
    "path = 'quadrat_photos_subset_for_debugging/*'\n"
   ]
  },
  {
   "cell_type": "markdown",
   "metadata": {},
   "source": [
    "Scipy"
   ]
  },
  {
   "cell_type": "code",
   "execution_count": 4,
   "metadata": {},
   "outputs": [
    {
     "name": "stdout",
     "output_type": "stream",
     "text": [
      "quadrat_photos_subset_for_debugging\\20240531_103452.jpg\n",
      "quadrat_photos_subset_for_debugging\\20240531_103459.jpg\n",
      "quadrat_photos_subset_for_debugging\\20240531_103531.jpg\n",
      "quadrat_photos_subset_for_debugging\\20240531_103541.jpg\n",
      "quadrat_photos_subset_for_debugging\\20240531_103700.jpg\n",
      "quadrat_photos_subset_for_debugging\\20240531_103734.jpg\n",
      "quadrat_photos_subset_for_debugging\\20240531_103740.jpg\n",
      "quadrat_photos_subset_for_debugging\\20240531_103859.jpg\n",
      "quadrat_photos_subset_for_debugging\\20240531_103915.jpg\n",
      "quadrat_photos_subset_for_debugging\\436483431_1701213000285029_1924116421858456243_n.jpg\n",
      "quadrat_photos_subset_for_debugging\\436497859_779601884357319_5324920164114426597_n.jpg\n",
      "quadrat_photos_subset_for_debugging\\436528119_1196238948364443_4516331225441928269_n.jpg\n",
      "quadrat_photos_subset_for_debugging\\436561628_1171843654262639_5276554081597578247_n.jpg\n",
      "quadrat_photos_subset_for_debugging\\436679838_1007226214193056_3476817213304042401_n.jpg\n",
      "quadrat_photos_subset_for_debugging\\441229963_429891546666972_1183308712343811694_n.jpg\n",
      "quadrat_photos_subset_for_debugging\\441401722_1931626287270077_6755568313090221713_n.jpg\n",
      "quadrat_photos_subset_for_debugging\\441894383_465857729259294_1059091924140495659_n.jpg\n",
      "quadrat_photos_subset_for_debugging\\441945342_996754534702093_6237034158869143873_n.jpg\n",
      "quadrat_photos_subset_for_debugging\\442006967_421825957362171_8934033133085778559_n.jpg\n",
      "quadrat_photos_subset_for_debugging\\442006988_916509223578378_1213461995487460980_n.jpg\n",
      "quadrat_photos_subset_for_debugging\\447878279_1116968762896392_2927409592411027146_n.jpg\n"
     ]
    }
   ],
   "source": [
    "for i, file in enumerate(glob.glob(path)):\n",
    "    print(file)\n",
    "\n",
    "    img = io.imread(file)\n",
    "\n",
    "    cv2.imshow(f'image {i}', img)\n",
    "\n",
    "cv2.waitKey(0)\n",
    "cv2.destroyAllWindows()"
   ]
  }
 ],
 "metadata": {
  "kernelspec": {
   "display_name": "Python 3",
   "language": "python",
   "name": "python3"
  },
  "language_info": {
   "codemirror_mode": {
    "name": "ipython",
    "version": 3
   },
   "file_extension": ".py",
   "mimetype": "text/x-python",
   "name": "python",
   "nbconvert_exporter": "python",
   "pygments_lexer": "ipython3",
   "version": "3.11.5"
  }
 },
 "nbformat": 4,
 "nbformat_minor": 2
}
