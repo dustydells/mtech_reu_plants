{
 "cells": [
  {
   "cell_type": "markdown",
   "metadata": {},
   "source": [
    "## Add an image"
   ]
  },
  {
   "cell_type": "code",
   "execution_count": 1,
   "metadata": {},
   "outputs": [],
   "source": [
    "from skimage import data\n",
    "import napari\n",
    "import cv2\n",
    "from matplotlib import pyplot as plt\n",
    "import numpy as np"
   ]
  },
  {
   "cell_type": "code",
   "execution_count": 1,
   "metadata": {},
   "outputs": [],
   "source": [
    "# create the viewer with an image (view_image API)\n",
    "viewer = napari.view_image(data.astronaut(), rgb=True)\n",
    "\n",
    "if __name__ == '__main__':\n",
    "    napari.run()"
   ]
  },
  {
   "cell_type": "code",
   "execution_count": 3,
   "metadata": {},
   "outputs": [],
   "source": [
    "# Open an image\n",
    "img = plt.imread('../photos/test_photos/image_5.jpg')\n",
    "\n",
    "# Open it in napari viewer\n",
    "viewer = napari.view_image(img, rgb=True)\n",
    "\n",
    "# Run the viewer\n",
    "napari.run()"
   ]
  },
  {
   "cell_type": "code",
   "execution_count": 12,
   "metadata": {},
   "outputs": [],
   "source": [
    "%gui qt # this is a thing apparently. Don't rlly know what it does"
   ]
  },
  {
   "cell_type": "markdown",
   "metadata": {},
   "source": [
    "## Add points and get x, y values from them"
   ]
  },
  {
   "cell_type": "code",
   "execution_count": 15,
   "metadata": {},
   "outputs": [],
   "source": [
    "# Open an image\n",
    "img = plt.imread('../photos/test_photos/image_5.jpg')\n",
    "\n",
    "# Open it in napari viewer\n",
    "viewer = napari.view_image(img, rgb=True)\n",
    "\n",
    "# Make some arbitrary points to the image\n",
    "points = np.array([[100, 100], [200, 200], [60, 100]])\n",
    "\n",
    "# Add points to a layer on the image\n",
    "points_layer = viewer.add_points(points, size=30)\n",
    "\n",
    "# Run the viewer\n",
    "napari.run()"
   ]
  },
  {
   "cell_type": "markdown",
   "metadata": {},
   "source": [
    "Retrieve point info"
   ]
  },
  {
   "cell_type": "code",
   "execution_count": 17,
   "metadata": {},
   "outputs": [
    {
     "name": "stdout",
     "output_type": "stream",
     "text": [
      "[[1057.22693577 1300.25128397]\n",
      " [  17.68821214 1228.16648197]\n",
      " [  55.62758161  249.3307495 ]\n",
      " [1064.81480966  135.51264107]]\n"
     ]
    }
   ],
   "source": [
    "print(points_layer.data)"
   ]
  },
  {
   "cell_type": "markdown",
   "metadata": {},
   "source": [
    "YAYYYYY"
   ]
  },
  {
   "cell_type": "markdown",
   "metadata": {},
   "source": [
    "## Annotation with points and shapes"
   ]
  },
  {
   "cell_type": "code",
   "execution_count": 3,
   "metadata": {},
   "outputs": [],
   "source": [
    "# Open an image with rocks in\n",
    "img = plt.imread('../results/erasing_green/image_21.jpg')\n",
    "\n",
    "# Open in napari viewer\n",
    "viewer = napari.view_image(img, rgb=True)\n",
    "\n",
    "# Add a shape layer to which you will add polygons to outline the shape of the biggest rocks\n",
    "shapes_layer = viewer.add_shapes()\n",
    "\n",
    "napari.run()"
   ]
  },
  {
   "cell_type": "markdown",
   "metadata": {},
   "source": [
    "Now try and find the area"
   ]
  },
  {
   "cell_type": "code",
   "execution_count": 19,
   "metadata": {},
   "outputs": [
    {
     "ename": "AttributeError",
     "evalue": "'list' object has no attribute 'max'",
     "output_type": "error",
     "traceback": [
      "\u001b[1;31m---------------------------------------------------------------------------\u001b[0m",
      "\u001b[1;31mAttributeError\u001b[0m                            Traceback (most recent call last)",
      "Cell \u001b[1;32mIn[19], line 5\u001b[0m\n\u001b[0;32m      2\u001b[0m shape_vertices \u001b[38;5;241m=\u001b[39m shapes_layer\u001b[38;5;241m.\u001b[39mdata\n\u001b[0;32m      3\u001b[0m \u001b[38;5;66;03m# Note that it's just a giant list of points. \u001b[39;00m\n\u001b[1;32m----> 5\u001b[0m n_labels \u001b[38;5;241m=\u001b[39m \u001b[43mviewer\u001b[49m\u001b[38;5;241;43m.\u001b[39;49m\u001b[43mlayers\u001b[49m\u001b[43m[\u001b[49m\u001b[38;5;124;43m'\u001b[39;49m\u001b[38;5;124;43mrocks_layer\u001b[39;49m\u001b[38;5;124;43m'\u001b[39;49m\u001b[43m]\u001b[49m\u001b[38;5;241;43m.\u001b[39;49m\u001b[43mdata\u001b[49m\u001b[38;5;241;43m.\u001b[39;49m\u001b[43mmax\u001b[49m()\n",
      "\u001b[1;31mAttributeError\u001b[0m: 'list' object has no attribute 'max'"
     ]
    }
   ],
   "source": [
    "# Get the shapes data from the shapes layer\n",
    "shape_vertices = shapes_layer.data\n",
    "# Note that it's just a giant list of points. \n",
    "\n",
    "n_labels = viewer.layers['rocks_layer'].data.max()\n"
   ]
  }
 ],
 "metadata": {
  "kernelspec": {
   "display_name": "Python 3",
   "language": "python",
   "name": "python3"
  },
  "language_info": {
   "codemirror_mode": {
    "name": "ipython",
    "version": 3
   },
   "file_extension": ".py",
   "mimetype": "text/x-python",
   "name": "python",
   "nbconvert_exporter": "python",
   "pygments_lexer": "ipython3",
   "version": "3.11.5"
  }
 },
 "nbformat": 4,
 "nbformat_minor": 2
}
