{
 "cells": [
  {
   "cell_type": "code",
   "execution_count": 1,
   "metadata": {},
   "outputs": [],
   "source": [
    "import napari\n",
    "from matplotlib import pyplot as plt\n",
    "import numpy as np\n",
    "import cv2\n",
    "from functions import matrix_xy_swap"
   ]
  },
  {
   "cell_type": "code",
   "execution_count": 2,
   "metadata": {},
   "outputs": [],
   "source": [
    "# Open an image\n",
    "img = plt.imread('test_photos/image_5.jpg')\n",
    "\n",
    "# Open it in napari viewer\n",
    "viewer = napari.view_image(img, rgb=True)\n",
    "\n",
    "corners = np.array([\n",
    "    [54.90553028, 253.60130126], # top left\n",
    "    [21.82135346, 1236.20135279], # top right\n",
    "    [1062.31871443, 1292.44445338], # bottom right\n",
    "    [1072.24396747, 134.49826472] # bottom left\n",
    "    ], dtype=np.float32)\n",
    "\n",
    "# Add a Points layer\n",
    "points_layer = viewer.add_points(corners)\n"
   ]
  },
  {
   "cell_type": "markdown",
   "metadata": {},
   "source": [
    "At this time, use the GUI to put one point on each corner of the quadrat. "
   ]
  },
  {
   "cell_type": "code",
   "execution_count": 3,
   "metadata": {},
   "outputs": [
    {
     "name": "stdout",
     "output_type": "stream",
     "text": [
      "[[  54.90553   253.6013  ]\n",
      " [  21.821354 1236.2013  ]\n",
      " [1062.3187   1292.4445  ]\n",
      " [1072.244     134.49826 ]]\n"
     ]
    }
   ],
   "source": [
    "# Retreive the list of points present in the points layer\n",
    "corners = points_layer.data\n",
    "\n",
    "print(corners)\n",
    "# Make sure corners is a numpy array of the float32 type."
   ]
  },
  {
   "cell_type": "markdown",
   "metadata": {},
   "source": [
    "Swap the coordinates you got from napari because they're in (y, x) not (x, y)"
   ]
  },
  {
   "cell_type": "code",
   "execution_count": 5,
   "metadata": {},
   "outputs": [
    {
     "name": "stdout",
     "output_type": "stream",
     "text": [
      "[[  54.90553   253.6013  ]\n",
      " [  21.821354 1236.2013  ]\n",
      " [1062.3187   1292.4445  ]\n",
      " [1072.244     134.49826 ]]\n",
      "[[ 253.6013     54.90553 ]\n",
      " [1236.2013     21.821354]\n",
      " [1292.4445   1062.3187  ]\n",
      " [ 134.49826  1072.244   ]]\n"
     ]
    }
   ],
   "source": [
    "corners_swapped = matrix_xy_swap(corners)\n",
    "\n",
    "print(corners)\n",
    "print(corners_swapped)\n",
    "\n",
    "corners = corners_swapped"
   ]
  },
  {
   "cell_type": "markdown",
   "metadata": {},
   "source": [
    "Now plug the points into an affine transformation. "
   ]
  },
  {
   "cell_type": "code",
   "execution_count": 6,
   "metadata": {},
   "outputs": [
    {
     "name": "stdout",
     "output_type": "stream",
     "text": [
      "1038\n"
     ]
    }
   ],
   "source": [
    "# Define a side length for the square based on the top quadrat length\n",
    "distance = corners[0] - corners[2] \n",
    "side_length = abs(int(distance[0])) # absolute value of difference between first & second vector\n",
    "\n",
    "print(side_length)"
   ]
  },
  {
   "cell_type": "code",
   "execution_count": 8,
   "metadata": {},
   "outputs": [],
   "source": [
    "# Define the new locations of each point based on side length\n",
    "corner_destinations = np.array([\n",
    "    [0, 0], # top left\n",
    "    [side_length, 0], # top right\n",
    "    [side_length, side_length], # bottom right\n",
    "    [0, side_length] # bottom left\n",
    "], dtype=np.float32)\n",
    "\n",
    "# Get perspective transformation matrix \n",
    "matrix = cv2.getPerspectiveTransform(corners, corner_destinations)\n",
    "\n",
    "# Apply perspective transformation\n",
    "img_transformed = cv2.warpPerspective(img, matrix, (side_length, side_length))\n",
    "\n",
    "cv2.imshow('og image', img)\n",
    "cv2.imshow('affine transform', img_transformed)\n",
    "\n",
    "cv2.waitKey(0)\n",
    "cv2.destroyAllWindows()"
   ]
  },
  {
   "cell_type": "code",
   "execution_count": 7,
   "metadata": {},
   "outputs": [
    {
     "name": "stdout",
     "output_type": "stream",
     "text": [
      "[[   1.19036083    0.04007949  -75.52160173]\n",
      " [   0.12557823    1.07264734 -278.91970245]\n",
      " [   0.0001806     0.00003122    1.        ]]\n"
     ]
    }
   ],
   "source": [
    "# Set the print options to avoid scientific notation\n",
    "np.set_printoptions(suppress=True)\n",
    "\n",
    "print(matrix)\n"
   ]
  },
  {
   "cell_type": "code",
   "execution_count": 39,
   "metadata": {},
   "outputs": [
    {
     "name": "stdout",
     "output_type": "stream",
     "text": [
      "[[  54.90553   253.6013  ]\n",
      " [  21.821354 1236.2013  ]\n",
      " [1062.3187   1292.4445  ]\n",
      " [1072.244     134.49826 ]]\n",
      "[[   0.    0.]\n",
      " [   0. 1007.]\n",
      " [1007. 1007.]\n",
      " [1007.    0.]]\n"
     ]
    }
   ],
   "source": [
    "print(corners)\n",
    "print(corner_destinations)"
   ]
  },
  {
   "cell_type": "markdown",
   "metadata": {},
   "source": [
    "Now try one clean run with a different image"
   ]
  },
  {
   "cell_type": "code",
   "execution_count": 37,
   "metadata": {},
   "outputs": [],
   "source": [
    "# Read in image\n",
    "img = plt.imread('test_photos/image_21.jpg')\n",
    "\n",
    "# Open it in napari viewer\n",
    "viewer = napari.view_image(img, rgb=True)\n",
    "\n",
    "# Add a points layer\n",
    "points_layer = viewer.add_points()\n"
   ]
  },
  {
   "cell_type": "markdown",
   "metadata": {},
   "source": [
    "Use the GUI to place points IN CLOCKWISE ORDER: top left, top right, bottom right, bottom left"
   ]
  },
  {
   "cell_type": "code",
   "execution_count": 38,
   "metadata": {},
   "outputs": [],
   "source": [
    "# Retrieve points from the GUI\n",
    "corners = points_layer.data\n",
    "\n",
    "# Convert it into a np matrix\n",
    "corners = np.array(corners, dtype = np.float32)\n",
    "\n",
    "# Swap the x and y to convert from napari coordinates to python coordinates\n",
    "corners_swapped = matrix_xy_swap(corners)\n",
    "\n",
    "# Get a side length based on the top pipe of the quadrat\n",
    "distance = corners_swapped[0] - corners_swapped[1]\n",
    "side_length = abs(int(np.linalg.norm(distance))) # absolute value of the Euclidean distance\n",
    "\n",
    "# Define the new locations of each point based on side length\n",
    "corner_destinations = np.array([\n",
    "    [0, 0], # top left\n",
    "    [side_length, 0], # top right\n",
    "    [side_length, side_length], # bottom right\n",
    "    [0, side_length] # bottom left\n",
    "], dtype=np.float32)\n",
    "\n",
    "# Get perspective transformation matrix \n",
    "matrix = cv2.getPerspectiveTransform(corners_swapped, corner_destinations)\n",
    "\n",
    "# Apply perspective transformation\n",
    "img_transformed = cv2.warpPerspective(img, matrix, (side_length, side_length))\n",
    "\n",
    "cv2.imshow('og image', img)\n",
    "cv2.imshow('affine transform', img_transformed)\n",
    "\n",
    "cv2.waitKey(0)\n",
    "cv2.destroyAllWindows()\n"
   ]
  },
  {
   "cell_type": "code",
   "execution_count": 35,
   "metadata": {},
   "outputs": [
    {
     "name": "stdout",
     "output_type": "stream",
     "text": [
      "[[ 212.24608    987.87933  ]\n",
      " [1391.697     1001.113    ]\n",
      " [1328.837       35.055023 ]\n",
      " [ 382.62958      3.6250563]]\n"
     ]
    }
   ],
   "source": [
    "print(corners_swapped)"
   ]
  }
 ],
 "metadata": {
  "kernelspec": {
   "display_name": "Python 3",
   "language": "python",
   "name": "python3"
  },
  "language_info": {
   "codemirror_mode": {
    "name": "ipython",
    "version": 3
   },
   "file_extension": ".py",
   "mimetype": "text/x-python",
   "name": "python",
   "nbconvert_exporter": "python",
   "pygments_lexer": "ipython3",
   "version": "3.11.5"
  }
 },
 "nbformat": 4,
 "nbformat_minor": 2
}
