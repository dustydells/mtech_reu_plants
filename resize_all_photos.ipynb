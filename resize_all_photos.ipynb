{
 "cells": [
  {
   "cell_type": "code",
   "execution_count": 1,
   "metadata": {},
   "outputs": [],
   "source": [
    "from functions import reorder_file_paths, extract_filename_number\n",
    "import cv2"
   ]
  },
  {
   "cell_type": "code",
   "execution_count": 2,
   "metadata": {},
   "outputs": [
    {
     "name": "stdout",
     "output_type": "stream",
     "text": [
      "['test_photos_cropped\\\\image_0.jpg', 'test_photos_cropped\\\\image_1.jpg', 'test_photos_cropped\\\\image_2.jpg', 'test_photos_cropped\\\\image_3.jpg', 'test_photos_cropped\\\\image_4.jpg', 'test_photos_cropped\\\\image_5.jpg', 'test_photos_cropped\\\\image_11.jpg', 'test_photos_cropped\\\\image_12.jpg', 'test_photos_cropped\\\\image_13.jpg', 'test_photos_cropped\\\\image_14.jpg', 'test_photos_cropped\\\\image_15.jpg', 'test_photos_cropped\\\\image_16.jpg', 'test_photos_cropped\\\\image_17.jpg', 'test_photos_cropped\\\\image_18.jpg', 'test_photos_cropped\\\\image_19.jpg', 'test_photos_cropped\\\\image_20.jpg', 'test_photos_cropped\\\\image_21.jpg', 'test_photos_cropped\\\\image_22.jpg', 'test_photos_cropped\\\\image_23.jpg', 'test_photos_cropped\\\\image_24.jpg', 'test_photos_cropped\\\\image_25.jpg', 'test_photos_cropped\\\\image_26.jpg', 'test_photos_cropped\\\\image_27.jpg', 'test_photos_cropped\\\\image_28.jpg', 'test_photos_cropped\\\\image_29.jpg']\n"
     ]
    }
   ],
   "source": [
    "folder = 'test_photos_cropped\\\\*'\n",
    "\n",
    "files = reorder_file_paths(folder)\n",
    "\n",
    "print(files)"
   ]
  },
  {
   "cell_type": "code",
   "execution_count": 3,
   "metadata": {},
   "outputs": [],
   "source": [
    "# Establish high minimum for min calculation later\n",
    "min = 9999999\n",
    "\n",
    "for file in files:\n",
    "    # Read in image\n",
    "    img = cv2.imread(file)\n",
    "\n",
    "    side_length = img.shape[0]\n",
    "\n",
    "    # Find minimum image size length\n",
    "    if side_length < min: \n",
    "        min = side_length"
   ]
  },
  {
   "cell_type": "code",
   "execution_count": 4,
   "metadata": {},
   "outputs": [],
   "source": [
    "for file in files:\n",
    "    # Read in image\n",
    "    img = cv2.imread(file)\n",
    "    \n",
    "    # Extract number in filename\n",
    "    file_number = extract_filename_number(file)\n",
    "\n",
    "    # Resize all images to have previously established minimum length\n",
    "    resized = cv2.resize(img, (min, min))\n",
    "\n",
    "    cv2.imshow(f'image_{file_number}', resized)\n",
    "\n",
    "cv2.waitKey(0)\n",
    "cv2.destroyAllWindows()"
   ]
  }
 ],
 "metadata": {
  "kernelspec": {
   "display_name": "Python 3",
   "language": "python",
   "name": "python3"
  },
  "language_info": {
   "codemirror_mode": {
    "name": "ipython",
    "version": 3
   },
   "file_extension": ".py",
   "mimetype": "text/x-python",
   "name": "python",
   "nbconvert_exporter": "python",
   "pygments_lexer": "ipython3",
   "version": "3.11.5"
  }
 },
 "nbformat": 4,
 "nbformat_minor": 2
}
