{
 "cells": [
  {
   "cell_type": "code",
   "execution_count": 43,
   "metadata": {},
   "outputs": [],
   "source": [
    "import cv2\n",
    "import numpy as np\n",
    "from matplotlib import pyplot as plt\n",
    "from functions import apply_otsu\n",
    "from skimage.filters.rank import entropy\n",
    "from skimage.morphology import disk"
   ]
  },
  {
   "cell_type": "markdown",
   "metadata": {},
   "source": [
    "Try grain size analysis to identify rocks in an image."
   ]
  },
  {
   "cell_type": "code",
   "execution_count": 42,
   "metadata": {},
   "outputs": [],
   "source": [
    "img_number = 25\n",
    "\n",
    "# Load in RGBVI image that contains rocks\n",
    "rgbvi_img = cv2.imread(f'results/cropped_rgbvi_gray/image_{img_number}.jpg', 0)\n",
    "\n",
    "# Also load in the actual image\n",
    "img = cv2.imread(f'test_photos_cropped/image_{img_number}.jpg')\n",
    "\n",
    "# plt.hist(rgbvi_img.flatten(), bins = 100)\n",
    "\n",
    "# Threshold it to only include plants\n",
    "ret, thresh = cv2.threshold(rgbvi_img, 0, 255, cv2.THRESH_BINARY+cv2.THRESH_OTSU)\n",
    "\n",
    "# Define a kernel for morphological operations\n",
    "kernel = np.ones((3,3), np.uint8)\n",
    "\n",
    "# Dilate the image\n",
    "img_dilated = cv2.dilate(thresh, kernel, iterations = 2)\n",
    "\n",
    "# Then erode it\n",
    "img_dilated_eroded = cv2.erode(img_dilated, kernel, iterations = 1)\n",
    "\n",
    "# Invert the image so it'll capture everything but the plants\n",
    "mask = cv2.bitwise_not(img_dilated_eroded)\n",
    "\n",
    "img_masked = cv2.bitwise_and(img, img, mask = mask)\n",
    "\n",
    "\n",
    "# plt.imshow(img_masked)\n",
    "cv2.imshow('masked', img_masked)\n",
    "\n",
    "cv2.waitKey(0)\n",
    "cv2.destroyAllWindows()"
   ]
  },
  {
   "cell_type": "markdown",
   "metadata": {},
   "source": [
    "Entropy filter didn't really accomplish anything "
   ]
  }
 ],
 "metadata": {
  "kernelspec": {
   "display_name": "Python 3",
   "language": "python",
   "name": "python3"
  },
  "language_info": {
   "codemirror_mode": {
    "name": "ipython",
    "version": 3
   },
   "file_extension": ".py",
   "mimetype": "text/x-python",
   "name": "python",
   "nbconvert_exporter": "python",
   "pygments_lexer": "ipython3",
   "version": "3.11.5"
  }
 },
 "nbformat": 4,
 "nbformat_minor": 2
}
