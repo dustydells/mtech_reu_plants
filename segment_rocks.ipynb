{
 "cells": [
  {
   "cell_type": "code",
   "execution_count": 19,
   "metadata": {},
   "outputs": [],
   "source": [
    "import cv2\n",
    "import numpy as np\n",
    "from matplotlib import pyplot as plt\n",
    "import skimage.filters as skfil\n",
    "from skimage.filters.rank import entropy\n",
    "from skimage.morphology import disk\n",
    "from skimage import img_as_ubyte\n",
    "from functions import reorder_file_paths, extract_filename_number"
   ]
  },
  {
   "cell_type": "markdown",
   "metadata": {},
   "source": [
    "Remove green pixels from the image and mask them out with black"
   ]
  },
  {
   "cell_type": "code",
   "execution_count": 2,
   "metadata": {},
   "outputs": [],
   "source": [
    "img_number = 25\n",
    "\n",
    "# Load in RGBVI image that contains rocks\n",
    "rgbvi_img = cv2.imread(f'results/cropped_rgbvi_gray/image_{img_number}.jpg', 0)\n",
    "\n",
    "# Also load in the actual image\n",
    "img = cv2.imread(f'test_photos_cropped/image_{img_number}.jpg')\n",
    "\n",
    "# plt.hist(rgbvi_img.flatten(), bins = 100)\n",
    "\n",
    "# Threshold it to only include plants\n",
    "ret, thresh = cv2.threshold(rgbvi_img, 0, 255, cv2.THRESH_BINARY+cv2.THRESH_OTSU)\n",
    "\n",
    "# Define a kernel for morphological operations\n",
    "kernel = np.ones((3,3), np.uint8)\n",
    "\n",
    "# Dilate the image\n",
    "img_dilated = cv2.dilate(thresh, kernel, iterations = 2)\n",
    "\n",
    "# Then erode it\n",
    "img_dilated_eroded = cv2.erode(img_dilated, kernel, iterations = 1)\n",
    "\n",
    "# Invert the image so it'll capture everything but the plants\n",
    "mask = cv2.bitwise_not(img_dilated_eroded)\n",
    "\n",
    "img_masked = cv2.bitwise_and(img, img, mask = mask)\n",
    "\n",
    "\n",
    "# plt.imshow(img_masked)\n",
    "cv2.imshow('masked', img_masked)\n",
    "\n",
    "cv2.waitKey(0)\n",
    "cv2.destroyAllWindows()"
   ]
  },
  {
   "cell_type": "markdown",
   "metadata": {},
   "source": [
    "Try it on all the photos"
   ]
  },
  {
   "cell_type": "code",
   "execution_count": 4,
   "metadata": {},
   "outputs": [],
   "source": [
    "# Get list of files in folders that contain the og cropped photos and their rgbvi counterparts\n",
    "files_og = reorder_file_paths('test_photos_cropped\\\\*')\n",
    "files_rgbvi = reorder_file_paths('results\\\\cropped_rgbvi\\\\*')\n",
    "\n",
    "# Define a kernel for morphological operations\n",
    "kernel = np.ones((3,3), np.uint8)"
   ]
  },
  {
   "cell_type": "code",
   "execution_count": 36,
   "metadata": {},
   "outputs": [],
   "source": [
    "for i in range(len(files_og)):\n",
    "    img_og = cv2.imread(files_og[i]) # Load in original file\n",
    "    img_rgbvi = cv2.imread(files_rgbvi[i], 0) # Load in RGBVI image\n",
    "\n",
    "    file_number = extract_filename_number(files_og[i])\n",
    "\n",
    "    # Threshold RGBVI image to only include plants\n",
    "    _, img_thresholded = cv2.threshold(img_rgbvi, 0, 255, cv2.THRESH_BINARY+cv2.THRESH_OTSU)\n",
    "\n",
    "    # thresh = skfil.threshold_otsu(img_rgbvi) \n",
    "    # img_thresholded = img_rgbvi <= thresh # dark pixels true, light pixels false\n",
    "    # img_thresholded = img_as_ubyte(img_thresholded) # Convert back to ubyte\n",
    "\n",
    "    # Dilate the image\n",
    "    img_dilated = cv2.dilate(img_thresholded, kernel, iterations = 2)\n",
    "\n",
    "    # Then erode it\n",
    "    img_dilated_eroded = cv2.erode(img_dilated, kernel, iterations = 1)\n",
    "\n",
    "    # Invert the image so it'll capture everything but the plants\n",
    "    mask = cv2.bitwise_not(img_dilated_eroded)\n",
    "\n",
    "\n",
    "    # Ensure mask is the same size and type as img_og\n",
    "    if mask.shape != img_og.shape[:2]:\n",
    "        mask = cv2.resize(mask, (img_og.shape[1], img_og.shape[0]))\n",
    "    if mask.dtype != img_og.dtype:\n",
    "        mask = mask.astype(img_og.dtype)\n",
    "\n",
    "    img_masked = cv2.bitwise_and(img_og, img_og, mask = mask)\n",
    "\n",
    "    # plt.imshow(img_masked)\n",
    "    cv2.imwrite(f'results/erasing_green/image_{file_number}.jpg', img_masked)\n",
    "\n",
    "# cv2.waitKey(0)\n",
    "# cv2.destroyAllWindows()\n",
    "\n",
    "    "
   ]
  },
  {
   "cell_type": "markdown",
   "metadata": {},
   "source": [
    "Entropy filter didn't really accomplish anything. Do grain size analysis on what i have"
   ]
  },
  {
   "cell_type": "code",
   "execution_count": null,
   "metadata": {},
   "outputs": [],
   "source": [
    "img = cv2.imread('results/erasing_green/image_25.jpg', 0)\n",
    "\n"
   ]
  }
 ],
 "metadata": {
  "kernelspec": {
   "display_name": "Python 3",
   "language": "python",
   "name": "python3"
  },
  "language_info": {
   "codemirror_mode": {
    "name": "ipython",
    "version": 3
   },
   "file_extension": ".py",
   "mimetype": "text/x-python",
   "name": "python",
   "nbconvert_exporter": "python",
   "pygments_lexer": "ipython3",
   "version": "3.11.5"
  }
 },
 "nbformat": 4,
 "nbformat_minor": 2
}
