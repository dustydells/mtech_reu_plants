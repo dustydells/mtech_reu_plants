{
 "cells": [
  {
   "cell_type": "code",
   "execution_count": 9,
   "metadata": {},
   "outputs": [],
   "source": [
    "import napari\n",
    "from matplotlib import pyplot as plt\n",
    "import numpy as np\n",
    "import cv2"
   ]
  },
  {
   "cell_type": "code",
   "execution_count": 5,
   "metadata": {},
   "outputs": [],
   "source": [
    "# Open an image\n",
    "img = plt.imread('test_photos/image_5.jpg')\n",
    "\n",
    "# Open it in napari viewer\n",
    "viewer = napari.view_image(img, rgb=True)\n",
    "\n",
    "# Add a Points layer\n",
    "points_layer = viewer.add_points([])"
   ]
  },
  {
   "cell_type": "markdown",
   "metadata": {},
   "source": [
    "At this time, use the GUI to put one point on each corner of the quadrat. "
   ]
  },
  {
   "cell_type": "code",
   "execution_count": 11,
   "metadata": {},
   "outputs": [
    {
     "name": "stdout",
     "output_type": "stream",
     "text": [
      "[[  54.90553028  253.60130126]\n",
      " [  21.82135346 1236.20135279]\n",
      " [1062.31871443 1292.44445338]\n",
      " [1072.24396747  134.49826472]]\n"
     ]
    }
   ],
   "source": [
    "# Retreive the list of points present in the points layer\n",
    "corners = points_layer.data\n",
    "\n",
    "print(corners)"
   ]
  },
  {
   "cell_type": "markdown",
   "metadata": {},
   "source": [
    "Now plug the points into an affine transformation. "
   ]
  },
  {
   "cell_type": "code",
   "execution_count": 12,
   "metadata": {},
   "outputs": [
    {
     "name": "stdout",
     "output_type": "stream",
     "text": [
      "33\n"
     ]
    }
   ],
   "source": [
    "# Define a side length for the square based on the top quadrat length\n",
    "distance = corners[0] - corners[1] \n",
    "side_length = abs(int(distance[0])) # absolute value of difference between first & second vector\n",
    "\n",
    "print(side_length)"
   ]
  },
  {
   "cell_type": "code",
   "execution_count": 13,
   "metadata": {},
   "outputs": [
    {
     "ename": "error",
     "evalue": "OpenCV(4.10.0) D:\\a\\opencv-python\\opencv-python\\opencv\\modules\\imgproc\\src\\imgwarp.cpp:3624: error: (-215:Assertion failed) src.checkVector(2, CV_32F) == 4 && dst.checkVector(2, CV_32F) == 4 in function 'cv::getPerspectiveTransform'\n",
     "output_type": "error",
     "traceback": [
      "\u001b[1;31m---------------------------------------------------------------------------\u001b[0m",
      "\u001b[1;31merror\u001b[0m                                     Traceback (most recent call last)",
      "Cell \u001b[1;32mIn[13], line 10\u001b[0m\n\u001b[0;32m      2\u001b[0m corner_destinations \u001b[38;5;241m=\u001b[39m np\u001b[38;5;241m.\u001b[39marray([\n\u001b[0;32m      3\u001b[0m     [\u001b[38;5;241m0\u001b[39m, \u001b[38;5;241m0\u001b[39m],\n\u001b[0;32m      4\u001b[0m     [side_length, \u001b[38;5;241m0\u001b[39m],\n\u001b[0;32m      5\u001b[0m     [\u001b[38;5;241m0\u001b[39m, side_length],\n\u001b[0;32m      6\u001b[0m     [side_length, side_length]\n\u001b[0;32m      7\u001b[0m ], dtype\u001b[38;5;241m=\u001b[39mnp\u001b[38;5;241m.\u001b[39mfloat32)\n\u001b[0;32m      9\u001b[0m \u001b[38;5;66;03m# Get affine transformation matrix \u001b[39;00m\n\u001b[1;32m---> 10\u001b[0m matrix \u001b[38;5;241m=\u001b[39m \u001b[43mcv2\u001b[49m\u001b[38;5;241;43m.\u001b[39;49m\u001b[43mgetPerspectiveTransform\u001b[49m\u001b[43m(\u001b[49m\u001b[43mcorners\u001b[49m\u001b[43m,\u001b[49m\u001b[43m \u001b[49m\u001b[43mcorner_destinations\u001b[49m\u001b[43m)\u001b[49m\n\u001b[0;32m     12\u001b[0m \u001b[38;5;66;03m# Apply affine transformation\u001b[39;00m\n\u001b[0;32m     13\u001b[0m img_transformed \u001b[38;5;241m=\u001b[39m cv2\u001b[38;5;241m.\u001b[39mwarpPerspective(img, matrix, (side_length, side_length))\n",
      "\u001b[1;31merror\u001b[0m: OpenCV(4.10.0) D:\\a\\opencv-python\\opencv-python\\opencv\\modules\\imgproc\\src\\imgwarp.cpp:3624: error: (-215:Assertion failed) src.checkVector(2, CV_32F) == 4 && dst.checkVector(2, CV_32F) == 4 in function 'cv::getPerspectiveTransform'\n"
     ]
    }
   ],
   "source": [
    "# Define the new locations of each point based on side length\n",
    "corner_destinations = np.array([\n",
    "    [0, 0],\n",
    "    [side_length, 0],\n",
    "    [0, side_length],\n",
    "    [side_length, side_length]\n",
    "], dtype=np.float32)\n",
    "\n",
    "# Get affine transformation matrix \n",
    "matrix = cv2.getPerspectiveTransform(corners, corner_destinations)\n",
    "\n",
    "# Apply affine transformation\n",
    "img_transformed = cv2.warpPerspective(img, matrix, (side_length, side_length))\n",
    "\n",
    "cv2.imshow('og image', img)\n",
    "cv2.imshow('affine transform', img_transformed)\n",
    "\n",
    "cv2.waitKey(0)\n",
    "cv2.destroyAllWindows()"
   ]
  }
 ],
 "metadata": {
  "kernelspec": {
   "display_name": "Python 3",
   "language": "python",
   "name": "python3"
  },
  "language_info": {
   "codemirror_mode": {
    "name": "ipython",
    "version": 3
   },
   "file_extension": ".py",
   "mimetype": "text/x-python",
   "name": "python",
   "nbconvert_exporter": "python",
   "pygments_lexer": "ipython3",
   "version": "3.11.5"
  }
 },
 "nbformat": 4,
 "nbformat_minor": 2
}
